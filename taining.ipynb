{
 "cells": [
  {
   "cell_type": "code",
   "execution_count": 1,
   "id": "9a9b44b2",
   "metadata": {},
   "outputs": [],
   "source": [
    "import pandas as pd\n",
    "import numpy as np\n",
    "import wandb\n",
    "from sklearn.metrics import classification_report, confusion_matrix\n",
    "import xgboost as xgb\n",
    "from sklearn.model_selection import train_test_split\n",
    "from sklearn.metrics import mean_absolute_error, mean_squared_error, r2_score\n",
    "from sklearn.model_selection import GridSearchCV\n",
    "from skopt import BayesSearchCV"
   ]
  },
  {
   "cell_type": "code",
   "execution_count": 2,
   "id": "32088b09",
   "metadata": {},
   "outputs": [
    {
     "name": "stderr",
     "output_type": "stream",
     "text": [
      "\u001b[34m\u001b[1mwandb\u001b[0m: Currently logged in as: \u001b[33mmichelmortier1213\u001b[0m (\u001b[33mmichelmortier1213-hes-so-gen-ve\u001b[0m) to \u001b[32mhttps://api.wandb.ai\u001b[0m. Use \u001b[1m`wandb login --relogin`\u001b[0m to force relogin\n"
     ]
    },
    {
     "data": {
      "text/html": [
       "creating run (0.0s)"
      ],
      "text/plain": [
       "<IPython.core.display.HTML object>"
      ]
     },
     "metadata": {},
     "output_type": "display_data"
    },
    {
     "data": {
      "text/html": [
       "Tracking run with wandb version 0.19.10"
      ],
      "text/plain": [
       "<IPython.core.display.HTML object>"
      ]
     },
     "metadata": {},
     "output_type": "display_data"
    },
    {
     "data": {
      "text/html": [
       "Run data is saved locally in <code>/home/marco/projects/flawfinder/useful-comments-sorter-model/wandb/run-20250529_142700-xf264oy7</code>"
      ],
      "text/plain": [
       "<IPython.core.display.HTML object>"
      ]
     },
     "metadata": {},
     "output_type": "display_data"
    },
    {
     "data": {
      "text/html": [
       "Syncing run <strong><a href='https://wandb.ai/michelmortier1213-hes-so-gen-ve/useful_comments_sorter/runs/xf264oy7' target=\"_blank\">run_initial</a></strong> to <a href='https://wandb.ai/michelmortier1213-hes-so-gen-ve/useful_comments_sorter' target=\"_blank\">Weights & Biases</a> (<a href='https://wandb.me/developer-guide' target=\"_blank\">docs</a>)<br>"
      ],
      "text/plain": [
       "<IPython.core.display.HTML object>"
      ]
     },
     "metadata": {},
     "output_type": "display_data"
    },
    {
     "data": {
      "text/html": [
       " View project at <a href='https://wandb.ai/michelmortier1213-hes-so-gen-ve/useful_comments_sorter' target=\"_blank\">https://wandb.ai/michelmortier1213-hes-so-gen-ve/useful_comments_sorter</a>"
      ],
      "text/plain": [
       "<IPython.core.display.HTML object>"
      ]
     },
     "metadata": {},
     "output_type": "display_data"
    },
    {
     "data": {
      "text/html": [
       " View run at <a href='https://wandb.ai/michelmortier1213-hes-so-gen-ve/useful_comments_sorter/runs/xf264oy7' target=\"_blank\">https://wandb.ai/michelmortier1213-hes-so-gen-ve/useful_comments_sorter/runs/xf264oy7</a>"
      ],
      "text/plain": [
       "<IPython.core.display.HTML object>"
      ]
     },
     "metadata": {},
     "output_type": "display_data"
    },
    {
     "data": {
      "text/html": [
       "<button onClick=\"this.nextSibling.style.display='block';this.style.display='none';\">Display W&B run</button><iframe src='https://wandb.ai/michelmortier1213-hes-so-gen-ve/useful_comments_sorter/runs/xf264oy7?jupyter=true' style='border:none;width:100%;height:420px;display:none;'></iframe>"
      ],
      "text/plain": [
       "<wandb.sdk.wandb_run.Run at 0x7fc2f9540620>"
      ]
     },
     "execution_count": 2,
     "metadata": {},
     "output_type": "execute_result"
    }
   ],
   "source": [
    "# Initialize Weights & Biases run for tracking\n",
    "wandb.init(project=\"useful_comments_sorter\", name=\"run_initial\")"
   ]
  },
  {
   "cell_type": "code",
   "execution_count": 2,
   "id": "208e6617",
   "metadata": {},
   "outputs": [],
   "source": [
    "# Load comment data with embeddings from JSON file\n",
    "df = pd.read_json(\"data/comments_with_embeddings.json\", lines=False)"
   ]
  },
  {
   "cell_type": "code",
   "execution_count": 3,
   "id": "05c293ff",
   "metadata": {},
   "outputs": [
    {
     "data": {
      "text/html": [
       "<div>\n",
       "<style scoped>\n",
       "    .dataframe tbody tr th:only-of-type {\n",
       "        vertical-align: middle;\n",
       "    }\n",
       "\n",
       "    .dataframe tbody tr th {\n",
       "        vertical-align: top;\n",
       "    }\n",
       "\n",
       "    .dataframe thead th {\n",
       "        text-align: right;\n",
       "    }\n",
       "</style>\n",
       "<table border=\"1\" class=\"dataframe\">\n",
       "  <thead>\n",
       "    <tr style=\"text-align: right;\">\n",
       "      <th></th>\n",
       "      <th>at</th>\n",
       "      <th>score</th>\n",
       "      <th>content</th>\n",
       "      <th>reviewCreatedVersion</th>\n",
       "      <th>relevance_score</th>\n",
       "      <th>vector</th>\n",
       "    </tr>\n",
       "  </thead>\n",
       "  <tbody>\n",
       "    <tr>\n",
       "      <th>0</th>\n",
       "      <td>2024-02-21T20:52:42</td>\n",
       "      <td>3</td>\n",
       "      <td>Je suis sur facebook depuis 2013 he vous adore...</td>\n",
       "      <td>451.0.0.45.109</td>\n",
       "      <td>85</td>\n",
       "      <td>[0.021481344476342, 0.07381305843591601, -0.00...</td>\n",
       "    </tr>\n",
       "    <tr>\n",
       "      <th>1</th>\n",
       "      <td>2020-05-22T09:53:04</td>\n",
       "      <td>5</td>\n",
       "      <td>J'adore cette application sauf que pour se met...</td>\n",
       "      <td>6.10.0.541</td>\n",
       "      <td>50</td>\n",
       "      <td>[0.013015237636864001, 0.08942589908838201, -0...</td>\n",
       "    </tr>\n",
       "    <tr>\n",
       "      <th>2</th>\n",
       "      <td>2020-06-18T20:17:52</td>\n",
       "      <td>5</td>\n",
       "      <td>Il s'agit là d'une très bonne application et d...</td>\n",
       "      <td>135.0.0.28.119</td>\n",
       "      <td>75</td>\n",
       "      <td>[0.019543664529919, 0.047836035490036004, -0.0...</td>\n",
       "    </tr>\n",
       "    <tr>\n",
       "      <th>3</th>\n",
       "      <td>2021-03-09T07:28:29</td>\n",
       "      <td>5</td>\n",
       "      <td>depuis la mise à jour, l'appli s'ouvre et se r...</td>\n",
       "      <td>22.5.0.100</td>\n",
       "      <td>85</td>\n",
       "      <td>[-0.06765174865722601, -0.114827893674373, -0....</td>\n",
       "    </tr>\n",
       "    <tr>\n",
       "      <th>4</th>\n",
       "      <td>2021-01-19T20:22:29</td>\n",
       "      <td>1</td>\n",
       "      <td>Très déçue du sav amazon j'attends un rembours...</td>\n",
       "      <td>16.02.0.100</td>\n",
       "      <td>0</td>\n",
       "      <td>[0.13606958091259, 0.09106799960136401, -0.014...</td>\n",
       "    </tr>\n",
       "  </tbody>\n",
       "</table>\n",
       "</div>"
      ],
      "text/plain": [
       "                    at  score  \\\n",
       "0  2024-02-21T20:52:42      3   \n",
       "1  2020-05-22T09:53:04      5   \n",
       "2  2020-06-18T20:17:52      5   \n",
       "3  2021-03-09T07:28:29      5   \n",
       "4  2021-01-19T20:22:29      1   \n",
       "\n",
       "                                             content reviewCreatedVersion  \\\n",
       "0  Je suis sur facebook depuis 2013 he vous adore...       451.0.0.45.109   \n",
       "1  J'adore cette application sauf que pour se met...           6.10.0.541   \n",
       "2  Il s'agit là d'une très bonne application et d...       135.0.0.28.119   \n",
       "3  depuis la mise à jour, l'appli s'ouvre et se r...           22.5.0.100   \n",
       "4  Très déçue du sav amazon j'attends un rembours...          16.02.0.100   \n",
       "\n",
       "  relevance_score                                             vector  \n",
       "0              85  [0.021481344476342, 0.07381305843591601, -0.00...  \n",
       "1              50  [0.013015237636864001, 0.08942589908838201, -0...  \n",
       "2              75  [0.019543664529919, 0.047836035490036004, -0.0...  \n",
       "3              85  [-0.06765174865722601, -0.114827893674373, -0....  \n",
       "4               0  [0.13606958091259, 0.09106799960136401, -0.014...  "
      ]
     },
     "execution_count": 3,
     "metadata": {},
     "output_type": "execute_result"
    }
   ],
   "source": [
    "df = pd.json_normalize(df[\"comments\"])\n",
    "df.head()"
   ]
  },
  {
   "cell_type": "code",
   "execution_count": 4,
   "id": "cdceb3b9",
   "metadata": {},
   "outputs": [],
   "source": [
    "X = df[\"vector\"].tolist()\n",
    "X = np.array(X, dtype=np.float32)\n",
    "X = np.array(X).astype(np.float32)\n",
    "y = df[\"relevance_score\"].astype(float)"
   ]
  },
  {
   "cell_type": "code",
   "execution_count": 5,
   "id": "24e76d1b",
   "metadata": {},
   "outputs": [],
   "source": [
    "y_binary = (y >= 80).astype(int)"
   ]
  },
  {
   "cell_type": "code",
   "execution_count": 6,
   "id": "021514f1",
   "metadata": {},
   "outputs": [],
   "source": [
    "\n",
    "# Split the data into train and test sets with stratified sampling\n",
    "X_train, X_test, y_train, y_test = train_test_split(\n",
    "    X, y_binary, test_size=0.2, random_state=42, stratify=y_binary\n",
    ")"
   ]
  },
  {
   "cell_type": "code",
   "execution_count": 7,
   "id": "934b9679",
   "metadata": {},
   "outputs": [],
   "source": [
    "n_pos = sum(y_train == 1)\n",
    "n_neg = sum(y_train == 0)\n",
    "\n",
    "# Compute class imbalance ratio for scale_pos_weight\n",
    "ratio = n_neg / n_pos"
   ]
  },
  {
   "cell_type": "code",
   "execution_count": 17,
   "id": "36014629",
   "metadata": {},
   "outputs": [],
   "source": [
    "clf = xgb.XGBClassifier(\n",
    "    tree_method=\"hist\",          # GPU-compatible method (used instead of 'gpu_hist')\n",
    "    device=\"cuda\",               # Enable GPU acceleration\n",
    "    verbosity=1,                 # Show training progress\n",
    "    eval_metric=\"logloss\",       # Metric for binary classification\n",
    "    use_label_encoder=False,     # Disable label encoder (deprecated behavior)\n",
    "    scale_pos_weight=ratio,       # Handle class imbalance\n",
    ")\n",
    "\n",
    "# Hyperparameter grid for tuning\n",
    "param_grid = {\n",
    "    \"n_estimators\": [100, 200],\n",
    "    \"max_depth\": [4, 6, 8],\n",
    "    \"learning_rate\": [0.05, 0.1],\n",
    "    \"subsample\": [0.8, 1.0],\n",
    "}\n",
    "\n",
    "# Grid search with cross-validation (parallelized over all CPU cores)\n",
    "grid_search = GridSearchCV(\n",
    "    estimator=clf,\n",
    "    param_grid=param_grid,\n",
    "    scoring=\"f1\",\n",
    "    cv=3,\n",
    "    verbose=2\n",
    ")"
   ]
  },
  {
   "cell_type": "code",
   "execution_count": 132,
   "id": "58e6a59b",
   "metadata": {},
   "outputs": [
    {
     "name": "stdout",
     "output_type": "stream",
     "text": [
      "Fitting 3 folds for each of 24 candidates, totalling 72 fits\n"
     ]
    },
    {
     "name": "stderr",
     "output_type": "stream",
     "text": [
      "/home/marco/projects/flawfinder/useful-comments-sorter-model/.venv/lib/python3.12/site-packages/xgboost/training.py:183: UserWarning: [12:58:37] WARNING: /workspace/src/learner.cc:738: \n",
      "Parameters: { \"use_label_encoder\" } are not used.\n",
      "\n",
      "  bst.update(dtrain, iteration=i, fobj=obj)\n"
     ]
    },
    {
     "name": "stdout",
     "output_type": "stream",
     "text": [
      "[CV] END learning_rate=0.05, max_depth=4, n_estimators=100, subsample=0.8; total time=   3.7s\n"
     ]
    },
    {
     "name": "stderr",
     "output_type": "stream",
     "text": [
      "/home/marco/projects/flawfinder/useful-comments-sorter-model/.venv/lib/python3.12/site-packages/xgboost/training.py:183: UserWarning: [12:58:41] WARNING: /workspace/src/learner.cc:738: \n",
      "Parameters: { \"use_label_encoder\" } are not used.\n",
      "\n",
      "  bst.update(dtrain, iteration=i, fobj=obj)\n"
     ]
    },
    {
     "name": "stdout",
     "output_type": "stream",
     "text": [
      "[CV] END learning_rate=0.05, max_depth=4, n_estimators=100, subsample=0.8; total time=   3.3s\n"
     ]
    },
    {
     "name": "stderr",
     "output_type": "stream",
     "text": [
      "/home/marco/projects/flawfinder/useful-comments-sorter-model/.venv/lib/python3.12/site-packages/xgboost/training.py:183: UserWarning: [12:58:44] WARNING: /workspace/src/learner.cc:738: \n",
      "Parameters: { \"use_label_encoder\" } are not used.\n",
      "\n",
      "  bst.update(dtrain, iteration=i, fobj=obj)\n"
     ]
    },
    {
     "name": "stdout",
     "output_type": "stream",
     "text": [
      "[CV] END learning_rate=0.05, max_depth=4, n_estimators=100, subsample=0.8; total time=   3.5s\n"
     ]
    },
    {
     "name": "stderr",
     "output_type": "stream",
     "text": [
      "/home/marco/projects/flawfinder/useful-comments-sorter-model/.venv/lib/python3.12/site-packages/xgboost/training.py:183: UserWarning: [12:58:48] WARNING: /workspace/src/learner.cc:738: \n",
      "Parameters: { \"use_label_encoder\" } are not used.\n",
      "\n",
      "  bst.update(dtrain, iteration=i, fobj=obj)\n"
     ]
    },
    {
     "ename": "KeyboardInterrupt",
     "evalue": "",
     "output_type": "error",
     "traceback": [
      "\u001b[31m---------------------------------------------------------------------------\u001b[39m",
      "\u001b[31mKeyboardInterrupt\u001b[39m                         Traceback (most recent call last)",
      "\u001b[36mCell\u001b[39m\u001b[36m \u001b[39m\u001b[32mIn[132]\u001b[39m\u001b[32m, line 1\u001b[39m\n\u001b[32m----> \u001b[39m\u001b[32m1\u001b[39m \u001b[43mgrid_search\u001b[49m\u001b[43m.\u001b[49m\u001b[43mfit\u001b[49m\u001b[43m(\u001b[49m\u001b[43mX_train\u001b[49m\u001b[43m,\u001b[49m\u001b[43m \u001b[49m\u001b[43my_train\u001b[49m\u001b[43m)\u001b[49m\n",
      "\u001b[36mFile \u001b[39m\u001b[32m~/projects/flawfinder/useful-comments-sorter-model/.venv/lib/python3.12/site-packages/sklearn/base.py:1389\u001b[39m, in \u001b[36m_fit_context.<locals>.decorator.<locals>.wrapper\u001b[39m\u001b[34m(estimator, *args, **kwargs)\u001b[39m\n\u001b[32m   1382\u001b[39m     estimator._validate_params()\n\u001b[32m   1384\u001b[39m \u001b[38;5;28;01mwith\u001b[39;00m config_context(\n\u001b[32m   1385\u001b[39m     skip_parameter_validation=(\n\u001b[32m   1386\u001b[39m         prefer_skip_nested_validation \u001b[38;5;129;01mor\u001b[39;00m global_skip_validation\n\u001b[32m   1387\u001b[39m     )\n\u001b[32m   1388\u001b[39m ):\n\u001b[32m-> \u001b[39m\u001b[32m1389\u001b[39m     \u001b[38;5;28;01mreturn\u001b[39;00m \u001b[43mfit_method\u001b[49m\u001b[43m(\u001b[49m\u001b[43mestimator\u001b[49m\u001b[43m,\u001b[49m\u001b[43m \u001b[49m\u001b[43m*\u001b[49m\u001b[43margs\u001b[49m\u001b[43m,\u001b[49m\u001b[43m \u001b[49m\u001b[43m*\u001b[49m\u001b[43m*\u001b[49m\u001b[43mkwargs\u001b[49m\u001b[43m)\u001b[49m\n",
      "\u001b[36mFile \u001b[39m\u001b[32m~/projects/flawfinder/useful-comments-sorter-model/.venv/lib/python3.12/site-packages/sklearn/model_selection/_search.py:1024\u001b[39m, in \u001b[36mBaseSearchCV.fit\u001b[39m\u001b[34m(self, X, y, **params)\u001b[39m\n\u001b[32m   1018\u001b[39m     results = \u001b[38;5;28mself\u001b[39m._format_results(\n\u001b[32m   1019\u001b[39m         all_candidate_params, n_splits, all_out, all_more_results\n\u001b[32m   1020\u001b[39m     )\n\u001b[32m   1022\u001b[39m     \u001b[38;5;28;01mreturn\u001b[39;00m results\n\u001b[32m-> \u001b[39m\u001b[32m1024\u001b[39m \u001b[38;5;28;43mself\u001b[39;49m\u001b[43m.\u001b[49m\u001b[43m_run_search\u001b[49m\u001b[43m(\u001b[49m\u001b[43mevaluate_candidates\u001b[49m\u001b[43m)\u001b[49m\n\u001b[32m   1026\u001b[39m \u001b[38;5;66;03m# multimetric is determined here because in the case of a callable\u001b[39;00m\n\u001b[32m   1027\u001b[39m \u001b[38;5;66;03m# self.scoring the return type is only known after calling\u001b[39;00m\n\u001b[32m   1028\u001b[39m first_test_score = all_out[\u001b[32m0\u001b[39m][\u001b[33m\"\u001b[39m\u001b[33mtest_scores\u001b[39m\u001b[33m\"\u001b[39m]\n",
      "\u001b[36mFile \u001b[39m\u001b[32m~/projects/flawfinder/useful-comments-sorter-model/.venv/lib/python3.12/site-packages/sklearn/model_selection/_search.py:1571\u001b[39m, in \u001b[36mGridSearchCV._run_search\u001b[39m\u001b[34m(self, evaluate_candidates)\u001b[39m\n\u001b[32m   1569\u001b[39m \u001b[38;5;28;01mdef\u001b[39;00m\u001b[38;5;250m \u001b[39m\u001b[34m_run_search\u001b[39m(\u001b[38;5;28mself\u001b[39m, evaluate_candidates):\n\u001b[32m   1570\u001b[39m \u001b[38;5;250m    \u001b[39m\u001b[33;03m\"\"\"Search all candidates in param_grid\"\"\"\u001b[39;00m\n\u001b[32m-> \u001b[39m\u001b[32m1571\u001b[39m     \u001b[43mevaluate_candidates\u001b[49m\u001b[43m(\u001b[49m\u001b[43mParameterGrid\u001b[49m\u001b[43m(\u001b[49m\u001b[38;5;28;43mself\u001b[39;49m\u001b[43m.\u001b[49m\u001b[43mparam_grid\u001b[49m\u001b[43m)\u001b[49m\u001b[43m)\u001b[49m\n",
      "\u001b[36mFile \u001b[39m\u001b[32m~/projects/flawfinder/useful-comments-sorter-model/.venv/lib/python3.12/site-packages/sklearn/model_selection/_search.py:970\u001b[39m, in \u001b[36mBaseSearchCV.fit.<locals>.evaluate_candidates\u001b[39m\u001b[34m(candidate_params, cv, more_results)\u001b[39m\n\u001b[32m    962\u001b[39m \u001b[38;5;28;01mif\u001b[39;00m \u001b[38;5;28mself\u001b[39m.verbose > \u001b[32m0\u001b[39m:\n\u001b[32m    963\u001b[39m     \u001b[38;5;28mprint\u001b[39m(\n\u001b[32m    964\u001b[39m         \u001b[33m\"\u001b[39m\u001b[33mFitting \u001b[39m\u001b[38;5;132;01m{0}\u001b[39;00m\u001b[33m folds for each of \u001b[39m\u001b[38;5;132;01m{1}\u001b[39;00m\u001b[33m candidates,\u001b[39m\u001b[33m\"\u001b[39m\n\u001b[32m    965\u001b[39m         \u001b[33m\"\u001b[39m\u001b[33m totalling \u001b[39m\u001b[38;5;132;01m{2}\u001b[39;00m\u001b[33m fits\u001b[39m\u001b[33m\"\u001b[39m.format(\n\u001b[32m    966\u001b[39m             n_splits, n_candidates, n_candidates * n_splits\n\u001b[32m    967\u001b[39m         )\n\u001b[32m    968\u001b[39m     )\n\u001b[32m--> \u001b[39m\u001b[32m970\u001b[39m out = \u001b[43mparallel\u001b[49m\u001b[43m(\u001b[49m\n\u001b[32m    971\u001b[39m \u001b[43m    \u001b[49m\u001b[43mdelayed\u001b[49m\u001b[43m(\u001b[49m\u001b[43m_fit_and_score\u001b[49m\u001b[43m)\u001b[49m\u001b[43m(\u001b[49m\n\u001b[32m    972\u001b[39m \u001b[43m        \u001b[49m\u001b[43mclone\u001b[49m\u001b[43m(\u001b[49m\u001b[43mbase_estimator\u001b[49m\u001b[43m)\u001b[49m\u001b[43m,\u001b[49m\n\u001b[32m    973\u001b[39m \u001b[43m        \u001b[49m\u001b[43mX\u001b[49m\u001b[43m,\u001b[49m\n\u001b[32m    974\u001b[39m \u001b[43m        \u001b[49m\u001b[43my\u001b[49m\u001b[43m,\u001b[49m\n\u001b[32m    975\u001b[39m \u001b[43m        \u001b[49m\u001b[43mtrain\u001b[49m\u001b[43m=\u001b[49m\u001b[43mtrain\u001b[49m\u001b[43m,\u001b[49m\n\u001b[32m    976\u001b[39m \u001b[43m        \u001b[49m\u001b[43mtest\u001b[49m\u001b[43m=\u001b[49m\u001b[43mtest\u001b[49m\u001b[43m,\u001b[49m\n\u001b[32m    977\u001b[39m \u001b[43m        \u001b[49m\u001b[43mparameters\u001b[49m\u001b[43m=\u001b[49m\u001b[43mparameters\u001b[49m\u001b[43m,\u001b[49m\n\u001b[32m    978\u001b[39m \u001b[43m        \u001b[49m\u001b[43msplit_progress\u001b[49m\u001b[43m=\u001b[49m\u001b[43m(\u001b[49m\u001b[43msplit_idx\u001b[49m\u001b[43m,\u001b[49m\u001b[43m \u001b[49m\u001b[43mn_splits\u001b[49m\u001b[43m)\u001b[49m\u001b[43m,\u001b[49m\n\u001b[32m    979\u001b[39m \u001b[43m        \u001b[49m\u001b[43mcandidate_progress\u001b[49m\u001b[43m=\u001b[49m\u001b[43m(\u001b[49m\u001b[43mcand_idx\u001b[49m\u001b[43m,\u001b[49m\u001b[43m \u001b[49m\u001b[43mn_candidates\u001b[49m\u001b[43m)\u001b[49m\u001b[43m,\u001b[49m\n\u001b[32m    980\u001b[39m \u001b[43m        \u001b[49m\u001b[43m*\u001b[49m\u001b[43m*\u001b[49m\u001b[43mfit_and_score_kwargs\u001b[49m\u001b[43m,\u001b[49m\n\u001b[32m    981\u001b[39m \u001b[43m    \u001b[49m\u001b[43m)\u001b[49m\n\u001b[32m    982\u001b[39m \u001b[43m    \u001b[49m\u001b[38;5;28;43;01mfor\u001b[39;49;00m\u001b[43m \u001b[49m\u001b[43m(\u001b[49m\u001b[43mcand_idx\u001b[49m\u001b[43m,\u001b[49m\u001b[43m \u001b[49m\u001b[43mparameters\u001b[49m\u001b[43m)\u001b[49m\u001b[43m,\u001b[49m\u001b[43m \u001b[49m\u001b[43m(\u001b[49m\u001b[43msplit_idx\u001b[49m\u001b[43m,\u001b[49m\u001b[43m \u001b[49m\u001b[43m(\u001b[49m\u001b[43mtrain\u001b[49m\u001b[43m,\u001b[49m\u001b[43m \u001b[49m\u001b[43mtest\u001b[49m\u001b[43m)\u001b[49m\u001b[43m)\u001b[49m\u001b[43m \u001b[49m\u001b[38;5;129;43;01min\u001b[39;49;00m\u001b[43m \u001b[49m\u001b[43mproduct\u001b[49m\u001b[43m(\u001b[49m\n\u001b[32m    983\u001b[39m \u001b[43m        \u001b[49m\u001b[38;5;28;43menumerate\u001b[39;49m\u001b[43m(\u001b[49m\u001b[43mcandidate_params\u001b[49m\u001b[43m)\u001b[49m\u001b[43m,\u001b[49m\n\u001b[32m    984\u001b[39m \u001b[43m        \u001b[49m\u001b[38;5;28;43menumerate\u001b[39;49m\u001b[43m(\u001b[49m\u001b[43mcv\u001b[49m\u001b[43m.\u001b[49m\u001b[43msplit\u001b[49m\u001b[43m(\u001b[49m\u001b[43mX\u001b[49m\u001b[43m,\u001b[49m\u001b[43m \u001b[49m\u001b[43my\u001b[49m\u001b[43m,\u001b[49m\u001b[43m \u001b[49m\u001b[43m*\u001b[49m\u001b[43m*\u001b[49m\u001b[43mrouted_params\u001b[49m\u001b[43m.\u001b[49m\u001b[43msplitter\u001b[49m\u001b[43m.\u001b[49m\u001b[43msplit\u001b[49m\u001b[43m)\u001b[49m\u001b[43m)\u001b[49m\u001b[43m,\u001b[49m\n\u001b[32m    985\u001b[39m \u001b[43m    \u001b[49m\u001b[43m)\u001b[49m\n\u001b[32m    986\u001b[39m \u001b[43m\u001b[49m\u001b[43m)\u001b[49m\n\u001b[32m    988\u001b[39m \u001b[38;5;28;01mif\u001b[39;00m \u001b[38;5;28mlen\u001b[39m(out) < \u001b[32m1\u001b[39m:\n\u001b[32m    989\u001b[39m     \u001b[38;5;28;01mraise\u001b[39;00m \u001b[38;5;167;01mValueError\u001b[39;00m(\n\u001b[32m    990\u001b[39m         \u001b[33m\"\u001b[39m\u001b[33mNo fits were performed. \u001b[39m\u001b[33m\"\u001b[39m\n\u001b[32m    991\u001b[39m         \u001b[33m\"\u001b[39m\u001b[33mWas the CV iterator empty? \u001b[39m\u001b[33m\"\u001b[39m\n\u001b[32m    992\u001b[39m         \u001b[33m\"\u001b[39m\u001b[33mWere there no candidates?\u001b[39m\u001b[33m\"\u001b[39m\n\u001b[32m    993\u001b[39m     )\n",
      "\u001b[36mFile \u001b[39m\u001b[32m~/projects/flawfinder/useful-comments-sorter-model/.venv/lib/python3.12/site-packages/sklearn/utils/parallel.py:77\u001b[39m, in \u001b[36mParallel.__call__\u001b[39m\u001b[34m(self, iterable)\u001b[39m\n\u001b[32m     72\u001b[39m config = get_config()\n\u001b[32m     73\u001b[39m iterable_with_config = (\n\u001b[32m     74\u001b[39m     (_with_config(delayed_func, config), args, kwargs)\n\u001b[32m     75\u001b[39m     \u001b[38;5;28;01mfor\u001b[39;00m delayed_func, args, kwargs \u001b[38;5;129;01min\u001b[39;00m iterable\n\u001b[32m     76\u001b[39m )\n\u001b[32m---> \u001b[39m\u001b[32m77\u001b[39m \u001b[38;5;28;01mreturn\u001b[39;00m \u001b[38;5;28;43msuper\u001b[39;49m\u001b[43m(\u001b[49m\u001b[43m)\u001b[49m\u001b[43m.\u001b[49m\u001b[34;43m__call__\u001b[39;49m\u001b[43m(\u001b[49m\u001b[43miterable_with_config\u001b[49m\u001b[43m)\u001b[49m\n",
      "\u001b[36mFile \u001b[39m\u001b[32m~/projects/flawfinder/useful-comments-sorter-model/.venv/lib/python3.12/site-packages/joblib/parallel.py:1985\u001b[39m, in \u001b[36mParallel.__call__\u001b[39m\u001b[34m(self, iterable)\u001b[39m\n\u001b[32m   1983\u001b[39m     output = \u001b[38;5;28mself\u001b[39m._get_sequential_output(iterable)\n\u001b[32m   1984\u001b[39m     \u001b[38;5;28mnext\u001b[39m(output)\n\u001b[32m-> \u001b[39m\u001b[32m1985\u001b[39m     \u001b[38;5;28;01mreturn\u001b[39;00m output \u001b[38;5;28;01mif\u001b[39;00m \u001b[38;5;28mself\u001b[39m.return_generator \u001b[38;5;28;01melse\u001b[39;00m \u001b[38;5;28;43mlist\u001b[39;49m\u001b[43m(\u001b[49m\u001b[43moutput\u001b[49m\u001b[43m)\u001b[49m\n\u001b[32m   1987\u001b[39m \u001b[38;5;66;03m# Let's create an ID that uniquely identifies the current call. If the\u001b[39;00m\n\u001b[32m   1988\u001b[39m \u001b[38;5;66;03m# call is interrupted early and that the same instance is immediately\u001b[39;00m\n\u001b[32m   1989\u001b[39m \u001b[38;5;66;03m# reused, this id will be used to prevent workers that were\u001b[39;00m\n\u001b[32m   1990\u001b[39m \u001b[38;5;66;03m# concurrently finalizing a task from the previous call to run the\u001b[39;00m\n\u001b[32m   1991\u001b[39m \u001b[38;5;66;03m# callback.\u001b[39;00m\n\u001b[32m   1992\u001b[39m \u001b[38;5;28;01mwith\u001b[39;00m \u001b[38;5;28mself\u001b[39m._lock:\n",
      "\u001b[36mFile \u001b[39m\u001b[32m~/projects/flawfinder/useful-comments-sorter-model/.venv/lib/python3.12/site-packages/joblib/parallel.py:1913\u001b[39m, in \u001b[36mParallel._get_sequential_output\u001b[39m\u001b[34m(self, iterable)\u001b[39m\n\u001b[32m   1911\u001b[39m \u001b[38;5;28mself\u001b[39m.n_dispatched_batches += \u001b[32m1\u001b[39m\n\u001b[32m   1912\u001b[39m \u001b[38;5;28mself\u001b[39m.n_dispatched_tasks += \u001b[32m1\u001b[39m\n\u001b[32m-> \u001b[39m\u001b[32m1913\u001b[39m res = \u001b[43mfunc\u001b[49m\u001b[43m(\u001b[49m\u001b[43m*\u001b[49m\u001b[43margs\u001b[49m\u001b[43m,\u001b[49m\u001b[43m \u001b[49m\u001b[43m*\u001b[49m\u001b[43m*\u001b[49m\u001b[43mkwargs\u001b[49m\u001b[43m)\u001b[49m\n\u001b[32m   1914\u001b[39m \u001b[38;5;28mself\u001b[39m.n_completed_tasks += \u001b[32m1\u001b[39m\n\u001b[32m   1915\u001b[39m \u001b[38;5;28mself\u001b[39m.print_progress()\n",
      "\u001b[36mFile \u001b[39m\u001b[32m~/projects/flawfinder/useful-comments-sorter-model/.venv/lib/python3.12/site-packages/sklearn/utils/parallel.py:139\u001b[39m, in \u001b[36m_FuncWrapper.__call__\u001b[39m\u001b[34m(self, *args, **kwargs)\u001b[39m\n\u001b[32m    137\u001b[39m     config = {}\n\u001b[32m    138\u001b[39m \u001b[38;5;28;01mwith\u001b[39;00m config_context(**config):\n\u001b[32m--> \u001b[39m\u001b[32m139\u001b[39m     \u001b[38;5;28;01mreturn\u001b[39;00m \u001b[38;5;28;43mself\u001b[39;49m\u001b[43m.\u001b[49m\u001b[43mfunction\u001b[49m\u001b[43m(\u001b[49m\u001b[43m*\u001b[49m\u001b[43margs\u001b[49m\u001b[43m,\u001b[49m\u001b[43m \u001b[49m\u001b[43m*\u001b[49m\u001b[43m*\u001b[49m\u001b[43mkwargs\u001b[49m\u001b[43m)\u001b[49m\n",
      "\u001b[36mFile \u001b[39m\u001b[32m~/projects/flawfinder/useful-comments-sorter-model/.venv/lib/python3.12/site-packages/sklearn/model_selection/_validation.py:866\u001b[39m, in \u001b[36m_fit_and_score\u001b[39m\u001b[34m(estimator, X, y, scorer, train, test, verbose, parameters, fit_params, score_params, return_train_score, return_parameters, return_n_test_samples, return_times, return_estimator, split_progress, candidate_progress, error_score)\u001b[39m\n\u001b[32m    864\u001b[39m         estimator.fit(X_train, **fit_params)\n\u001b[32m    865\u001b[39m     \u001b[38;5;28;01melse\u001b[39;00m:\n\u001b[32m--> \u001b[39m\u001b[32m866\u001b[39m         \u001b[43mestimator\u001b[49m\u001b[43m.\u001b[49m\u001b[43mfit\u001b[49m\u001b[43m(\u001b[49m\u001b[43mX_train\u001b[49m\u001b[43m,\u001b[49m\u001b[43m \u001b[49m\u001b[43my_train\u001b[49m\u001b[43m,\u001b[49m\u001b[43m \u001b[49m\u001b[43m*\u001b[49m\u001b[43m*\u001b[49m\u001b[43mfit_params\u001b[49m\u001b[43m)\u001b[49m\n\u001b[32m    868\u001b[39m \u001b[38;5;28;01mexcept\u001b[39;00m \u001b[38;5;167;01mException\u001b[39;00m:\n\u001b[32m    869\u001b[39m     \u001b[38;5;66;03m# Note fit time as time until error\u001b[39;00m\n\u001b[32m    870\u001b[39m     fit_time = time.time() - start_time\n",
      "\u001b[36mFile \u001b[39m\u001b[32m~/projects/flawfinder/useful-comments-sorter-model/.venv/lib/python3.12/site-packages/xgboost/core.py:729\u001b[39m, in \u001b[36mrequire_keyword_args.<locals>.throw_if.<locals>.inner_f\u001b[39m\u001b[34m(*args, **kwargs)\u001b[39m\n\u001b[32m    727\u001b[39m \u001b[38;5;28;01mfor\u001b[39;00m k, arg \u001b[38;5;129;01min\u001b[39;00m \u001b[38;5;28mzip\u001b[39m(sig.parameters, args):\n\u001b[32m    728\u001b[39m     kwargs[k] = arg\n\u001b[32m--> \u001b[39m\u001b[32m729\u001b[39m \u001b[38;5;28;01mreturn\u001b[39;00m \u001b[43mfunc\u001b[49m\u001b[43m(\u001b[49m\u001b[43m*\u001b[49m\u001b[43m*\u001b[49m\u001b[43mkwargs\u001b[49m\u001b[43m)\u001b[49m\n",
      "\u001b[36mFile \u001b[39m\u001b[32m~/projects/flawfinder/useful-comments-sorter-model/.venv/lib/python3.12/site-packages/xgboost/sklearn.py:1682\u001b[39m, in \u001b[36mXGBClassifier.fit\u001b[39m\u001b[34m(self, X, y, sample_weight, base_margin, eval_set, verbose, xgb_model, sample_weight_eval_set, base_margin_eval_set, feature_weights)\u001b[39m\n\u001b[32m   1660\u001b[39m model, metric, params, feature_weights = \u001b[38;5;28mself\u001b[39m._configure_fit(\n\u001b[32m   1661\u001b[39m     xgb_model, params, feature_weights\n\u001b[32m   1662\u001b[39m )\n\u001b[32m   1663\u001b[39m train_dmatrix, evals = _wrap_evaluation_matrices(\n\u001b[32m   1664\u001b[39m     missing=\u001b[38;5;28mself\u001b[39m.missing,\n\u001b[32m   1665\u001b[39m     X=X,\n\u001b[32m   (...)\u001b[39m\u001b[32m   1679\u001b[39m     feature_types=\u001b[38;5;28mself\u001b[39m.feature_types,\n\u001b[32m   1680\u001b[39m )\n\u001b[32m-> \u001b[39m\u001b[32m1682\u001b[39m \u001b[38;5;28mself\u001b[39m._Booster = \u001b[43mtrain\u001b[49m\u001b[43m(\u001b[49m\n\u001b[32m   1683\u001b[39m \u001b[43m    \u001b[49m\u001b[43mparams\u001b[49m\u001b[43m,\u001b[49m\n\u001b[32m   1684\u001b[39m \u001b[43m    \u001b[49m\u001b[43mtrain_dmatrix\u001b[49m\u001b[43m,\u001b[49m\n\u001b[32m   1685\u001b[39m \u001b[43m    \u001b[49m\u001b[38;5;28;43mself\u001b[39;49m\u001b[43m.\u001b[49m\u001b[43mget_num_boosting_rounds\u001b[49m\u001b[43m(\u001b[49m\u001b[43m)\u001b[49m\u001b[43m,\u001b[49m\n\u001b[32m   1686\u001b[39m \u001b[43m    \u001b[49m\u001b[43mevals\u001b[49m\u001b[43m=\u001b[49m\u001b[43mevals\u001b[49m\u001b[43m,\u001b[49m\n\u001b[32m   1687\u001b[39m \u001b[43m    \u001b[49m\u001b[43mearly_stopping_rounds\u001b[49m\u001b[43m=\u001b[49m\u001b[38;5;28;43mself\u001b[39;49m\u001b[43m.\u001b[49m\u001b[43mearly_stopping_rounds\u001b[49m\u001b[43m,\u001b[49m\n\u001b[32m   1688\u001b[39m \u001b[43m    \u001b[49m\u001b[43mevals_result\u001b[49m\u001b[43m=\u001b[49m\u001b[43mevals_result\u001b[49m\u001b[43m,\u001b[49m\n\u001b[32m   1689\u001b[39m \u001b[43m    \u001b[49m\u001b[43mobj\u001b[49m\u001b[43m=\u001b[49m\u001b[43mobj\u001b[49m\u001b[43m,\u001b[49m\n\u001b[32m   1690\u001b[39m \u001b[43m    \u001b[49m\u001b[43mcustom_metric\u001b[49m\u001b[43m=\u001b[49m\u001b[43mmetric\u001b[49m\u001b[43m,\u001b[49m\n\u001b[32m   1691\u001b[39m \u001b[43m    \u001b[49m\u001b[43mverbose_eval\u001b[49m\u001b[43m=\u001b[49m\u001b[43mverbose\u001b[49m\u001b[43m,\u001b[49m\n\u001b[32m   1692\u001b[39m \u001b[43m    \u001b[49m\u001b[43mxgb_model\u001b[49m\u001b[43m=\u001b[49m\u001b[43mmodel\u001b[49m\u001b[43m,\u001b[49m\n\u001b[32m   1693\u001b[39m \u001b[43m    \u001b[49m\u001b[43mcallbacks\u001b[49m\u001b[43m=\u001b[49m\u001b[38;5;28;43mself\u001b[39;49m\u001b[43m.\u001b[49m\u001b[43mcallbacks\u001b[49m\u001b[43m,\u001b[49m\n\u001b[32m   1694\u001b[39m \u001b[43m\u001b[49m\u001b[43m)\u001b[49m\n\u001b[32m   1696\u001b[39m \u001b[38;5;28;01mif\u001b[39;00m \u001b[38;5;129;01mnot\u001b[39;00m \u001b[38;5;28mcallable\u001b[39m(\u001b[38;5;28mself\u001b[39m.objective):\n\u001b[32m   1697\u001b[39m     \u001b[38;5;28mself\u001b[39m.objective = params[\u001b[33m\"\u001b[39m\u001b[33mobjective\u001b[39m\u001b[33m\"\u001b[39m]\n",
      "\u001b[36mFile \u001b[39m\u001b[32m~/projects/flawfinder/useful-comments-sorter-model/.venv/lib/python3.12/site-packages/xgboost/core.py:729\u001b[39m, in \u001b[36mrequire_keyword_args.<locals>.throw_if.<locals>.inner_f\u001b[39m\u001b[34m(*args, **kwargs)\u001b[39m\n\u001b[32m    727\u001b[39m \u001b[38;5;28;01mfor\u001b[39;00m k, arg \u001b[38;5;129;01min\u001b[39;00m \u001b[38;5;28mzip\u001b[39m(sig.parameters, args):\n\u001b[32m    728\u001b[39m     kwargs[k] = arg\n\u001b[32m--> \u001b[39m\u001b[32m729\u001b[39m \u001b[38;5;28;01mreturn\u001b[39;00m \u001b[43mfunc\u001b[49m\u001b[43m(\u001b[49m\u001b[43m*\u001b[49m\u001b[43m*\u001b[49m\u001b[43mkwargs\u001b[49m\u001b[43m)\u001b[49m\n",
      "\u001b[36mFile \u001b[39m\u001b[32m~/projects/flawfinder/useful-comments-sorter-model/.venv/lib/python3.12/site-packages/xgboost/training.py:183\u001b[39m, in \u001b[36mtrain\u001b[39m\u001b[34m(params, dtrain, num_boost_round, evals, obj, maximize, early_stopping_rounds, evals_result, verbose_eval, xgb_model, callbacks, custom_metric)\u001b[39m\n\u001b[32m    181\u001b[39m \u001b[38;5;28;01mif\u001b[39;00m cb_container.before_iteration(bst, i, dtrain, evals):\n\u001b[32m    182\u001b[39m     \u001b[38;5;28;01mbreak\u001b[39;00m\n\u001b[32m--> \u001b[39m\u001b[32m183\u001b[39m \u001b[43mbst\u001b[49m\u001b[43m.\u001b[49m\u001b[43mupdate\u001b[49m\u001b[43m(\u001b[49m\u001b[43mdtrain\u001b[49m\u001b[43m,\u001b[49m\u001b[43m \u001b[49m\u001b[43miteration\u001b[49m\u001b[43m=\u001b[49m\u001b[43mi\u001b[49m\u001b[43m,\u001b[49m\u001b[43m \u001b[49m\u001b[43mfobj\u001b[49m\u001b[43m=\u001b[49m\u001b[43mobj\u001b[49m\u001b[43m)\u001b[49m\n\u001b[32m    184\u001b[39m \u001b[38;5;28;01mif\u001b[39;00m cb_container.after_iteration(bst, i, dtrain, evals):\n\u001b[32m    185\u001b[39m     \u001b[38;5;28;01mbreak\u001b[39;00m\n",
      "\u001b[36mFile \u001b[39m\u001b[32m~/projects/flawfinder/useful-comments-sorter-model/.venv/lib/python3.12/site-packages/xgboost/core.py:2247\u001b[39m, in \u001b[36mBooster.update\u001b[39m\u001b[34m(self, dtrain, iteration, fobj)\u001b[39m\n\u001b[32m   2243\u001b[39m \u001b[38;5;28mself\u001b[39m._assign_dmatrix_features(dtrain)\n\u001b[32m   2245\u001b[39m \u001b[38;5;28;01mif\u001b[39;00m fobj \u001b[38;5;129;01mis\u001b[39;00m \u001b[38;5;28;01mNone\u001b[39;00m:\n\u001b[32m   2246\u001b[39m     _check_call(\n\u001b[32m-> \u001b[39m\u001b[32m2247\u001b[39m         \u001b[43m_LIB\u001b[49m\u001b[43m.\u001b[49m\u001b[43mXGBoosterUpdateOneIter\u001b[49m\u001b[43m(\u001b[49m\n\u001b[32m   2248\u001b[39m \u001b[43m            \u001b[49m\u001b[38;5;28;43mself\u001b[39;49m\u001b[43m.\u001b[49m\u001b[43mhandle\u001b[49m\u001b[43m,\u001b[49m\u001b[43m \u001b[49m\u001b[43mctypes\u001b[49m\u001b[43m.\u001b[49m\u001b[43mc_int\u001b[49m\u001b[43m(\u001b[49m\u001b[43miteration\u001b[49m\u001b[43m)\u001b[49m\u001b[43m,\u001b[49m\u001b[43m \u001b[49m\u001b[43mdtrain\u001b[49m\u001b[43m.\u001b[49m\u001b[43mhandle\u001b[49m\n\u001b[32m   2249\u001b[39m \u001b[43m        \u001b[49m\u001b[43m)\u001b[49m\n\u001b[32m   2250\u001b[39m     )\n\u001b[32m   2251\u001b[39m \u001b[38;5;28;01melse\u001b[39;00m:\n\u001b[32m   2252\u001b[39m     pred = \u001b[38;5;28mself\u001b[39m.predict(dtrain, output_margin=\u001b[38;5;28;01mTrue\u001b[39;00m, training=\u001b[38;5;28;01mTrue\u001b[39;00m)\n",
      "\u001b[31mKeyboardInterrupt\u001b[39m: "
     ]
    }
   ],
   "source": [
    "grid_search.fit(X_train, y_train)"
   ]
  },
  {
   "cell_type": "code",
   "execution_count": null,
   "id": "43e94366",
   "metadata": {},
   "outputs": [
    {
     "name": "stdout",
     "output_type": "stream",
     "text": [
      "Fitting 3 folds for each of 1 candidates, totalling 3 fits\n"
     ]
    },
    {
     "name": "stderr",
     "output_type": "stream",
     "text": [
      "/home/marco/projects/flawfinder/useful-comments-sorter-model/.venv/lib/python3.12/site-packages/xgboost/training.py:183: UserWarning: [13:15:24] WARNING: /workspace/src/learner.cc:738: \n",
      "Parameters: { \"use_label_encoder\" } are not used.\n",
      "\n",
      "  bst.update(dtrain, iteration=i, fobj=obj)\n"
     ]
    },
    {
     "name": "stdout",
     "output_type": "stream",
     "text": [
      "[CV] END colsample_bytree=0.705051979426657, gamma=3.6386287158866253, learning_rate=0.16356457461011642, max_depth=5, min_child_weight=7, n_estimators=183, reg_alpha=0.701862669798288, reg_lambda=1.479008468380841, subsample=0.6522316555182531; total time=   8.6s\n"
     ]
    },
    {
     "name": "stderr",
     "output_type": "stream",
     "text": [
      "/home/marco/projects/flawfinder/useful-comments-sorter-model/.venv/lib/python3.12/site-packages/xgboost/training.py:183: UserWarning: [13:15:32] WARNING: /workspace/src/learner.cc:738: \n",
      "Parameters: { \"use_label_encoder\" } are not used.\n",
      "\n",
      "  bst.update(dtrain, iteration=i, fobj=obj)\n"
     ]
    },
    {
     "name": "stdout",
     "output_type": "stream",
     "text": [
      "[CV] END colsample_bytree=0.705051979426657, gamma=3.6386287158866253, learning_rate=0.16356457461011642, max_depth=5, min_child_weight=7, n_estimators=183, reg_alpha=0.701862669798288, reg_lambda=1.479008468380841, subsample=0.6522316555182531; total time=   5.5s\n"
     ]
    },
    {
     "name": "stderr",
     "output_type": "stream",
     "text": [
      "/home/marco/projects/flawfinder/useful-comments-sorter-model/.venv/lib/python3.12/site-packages/xgboost/training.py:183: UserWarning: [13:15:37] WARNING: /workspace/src/learner.cc:738: \n",
      "Parameters: { \"use_label_encoder\" } are not used.\n",
      "\n",
      "  bst.update(dtrain, iteration=i, fobj=obj)\n"
     ]
    },
    {
     "name": "stdout",
     "output_type": "stream",
     "text": [
      "[CV] END colsample_bytree=0.705051979426657, gamma=3.6386287158866253, learning_rate=0.16356457461011642, max_depth=5, min_child_weight=7, n_estimators=183, reg_alpha=0.701862669798288, reg_lambda=1.479008468380841, subsample=0.6522316555182531; total time=   5.4s\n",
      "Fitting 3 folds for each of 1 candidates, totalling 3 fits\n"
     ]
    },
    {
     "name": "stderr",
     "output_type": "stream",
     "text": [
      "/home/marco/projects/flawfinder/useful-comments-sorter-model/.venv/lib/python3.12/site-packages/xgboost/training.py:183: UserWarning: [13:15:42] WARNING: /workspace/src/learner.cc:738: \n",
      "Parameters: { \"use_label_encoder\" } are not used.\n",
      "\n",
      "  bst.update(dtrain, iteration=i, fobj=obj)\n"
     ]
    },
    {
     "name": "stdout",
     "output_type": "stream",
     "text": [
      "[CV] END colsample_bytree=0.9186941777766422, gamma=4.416576386904311, learning_rate=0.024816792756368698, max_depth=10, min_child_weight=9, n_estimators=112, reg_alpha=0.27661707655715034, reg_lambda=0.7071747952568362, subsample=0.8178645509395852; total time= 1.7min\n"
     ]
    },
    {
     "name": "stderr",
     "output_type": "stream",
     "text": [
      "/home/marco/projects/flawfinder/useful-comments-sorter-model/.venv/lib/python3.12/site-packages/xgboost/training.py:183: UserWarning: [13:17:23] WARNING: /workspace/src/learner.cc:738: \n",
      "Parameters: { \"use_label_encoder\" } are not used.\n",
      "\n",
      "  bst.update(dtrain, iteration=i, fobj=obj)\n"
     ]
    },
    {
     "name": "stdout",
     "output_type": "stream",
     "text": [
      "[CV] END colsample_bytree=0.9186941777766422, gamma=4.416576386904311, learning_rate=0.024816792756368698, max_depth=10, min_child_weight=9, n_estimators=112, reg_alpha=0.27661707655715034, reg_lambda=0.7071747952568362, subsample=0.8178645509395852; total time= 1.0min\n"
     ]
    },
    {
     "name": "stderr",
     "output_type": "stream",
     "text": [
      "/home/marco/projects/flawfinder/useful-comments-sorter-model/.venv/lib/python3.12/site-packages/xgboost/training.py:183: UserWarning: [13:18:25] WARNING: /workspace/src/learner.cc:738: \n",
      "Parameters: { \"use_label_encoder\" } are not used.\n",
      "\n",
      "  bst.update(dtrain, iteration=i, fobj=obj)\n"
     ]
    },
    {
     "name": "stdout",
     "output_type": "stream",
     "text": [
      "[CV] END colsample_bytree=0.9186941777766422, gamma=4.416576386904311, learning_rate=0.024816792756368698, max_depth=10, min_child_weight=9, n_estimators=112, reg_alpha=0.27661707655715034, reg_lambda=0.7071747952568362, subsample=0.8178645509395852; total time= 1.1min\n",
      "Fitting 3 folds for each of 1 candidates, totalling 3 fits\n"
     ]
    },
    {
     "name": "stderr",
     "output_type": "stream",
     "text": [
      "/home/marco/projects/flawfinder/useful-comments-sorter-model/.venv/lib/python3.12/site-packages/xgboost/training.py:183: UserWarning: [13:19:29] WARNING: /workspace/src/learner.cc:738: \n",
      "Parameters: { \"use_label_encoder\" } are not used.\n",
      "\n",
      "  bst.update(dtrain, iteration=i, fobj=obj)\n"
     ]
    },
    {
     "name": "stdout",
     "output_type": "stream",
     "text": [
      "[CV] END colsample_bytree=0.7224162561505759, gamma=4.593612608346885, learning_rate=0.013690676564850015, max_depth=6, min_child_weight=3, n_estimators=191, reg_alpha=0.31089610810108664, reg_lambda=1.503105062680993, subsample=0.7786702115169006; total time=   9.4s\n"
     ]
    },
    {
     "name": "stderr",
     "output_type": "stream",
     "text": [
      "/home/marco/projects/flawfinder/useful-comments-sorter-model/.venv/lib/python3.12/site-packages/xgboost/training.py:183: UserWarning: [13:19:39] WARNING: /workspace/src/learner.cc:738: \n",
      "Parameters: { \"use_label_encoder\" } are not used.\n",
      "\n",
      "  bst.update(dtrain, iteration=i, fobj=obj)\n"
     ]
    },
    {
     "name": "stdout",
     "output_type": "stream",
     "text": [
      "[CV] END colsample_bytree=0.7224162561505759, gamma=4.593612608346885, learning_rate=0.013690676564850015, max_depth=6, min_child_weight=3, n_estimators=191, reg_alpha=0.31089610810108664, reg_lambda=1.503105062680993, subsample=0.7786702115169006; total time=   9.3s\n"
     ]
    },
    {
     "name": "stderr",
     "output_type": "stream",
     "text": [
      "/home/marco/projects/flawfinder/useful-comments-sorter-model/.venv/lib/python3.12/site-packages/xgboost/training.py:183: UserWarning: [13:19:48] WARNING: /workspace/src/learner.cc:738: \n",
      "Parameters: { \"use_label_encoder\" } are not used.\n",
      "\n",
      "  bst.update(dtrain, iteration=i, fobj=obj)\n"
     ]
    },
    {
     "name": "stdout",
     "output_type": "stream",
     "text": [
      "[CV] END colsample_bytree=0.7224162561505759, gamma=4.593612608346885, learning_rate=0.013690676564850015, max_depth=6, min_child_weight=3, n_estimators=191, reg_alpha=0.31089610810108664, reg_lambda=1.503105062680993, subsample=0.7786702115169006; total time=  10.0s\n",
      "Fitting 3 folds for each of 1 candidates, totalling 3 fits\n"
     ]
    },
    {
     "name": "stderr",
     "output_type": "stream",
     "text": [
      "/home/marco/projects/flawfinder/useful-comments-sorter-model/.venv/lib/python3.12/site-packages/xgboost/training.py:183: UserWarning: [13:19:58] WARNING: /workspace/src/learner.cc:738: \n",
      "Parameters: { \"use_label_encoder\" } are not used.\n",
      "\n",
      "  bst.update(dtrain, iteration=i, fobj=obj)\n"
     ]
    },
    {
     "name": "stdout",
     "output_type": "stream",
     "text": [
      "[CV] END colsample_bytree=0.9061979941786817, gamma=0.8593578069828035, learning_rate=0.059989768591227254, max_depth=9, min_child_weight=6, n_estimators=119, reg_alpha=1.5116010656717631, reg_lambda=1.7452607066198842, subsample=0.9559644307534418; total time=  21.3s\n"
     ]
    },
    {
     "name": "stderr",
     "output_type": "stream",
     "text": [
      "/home/marco/projects/flawfinder/useful-comments-sorter-model/.venv/lib/python3.12/site-packages/xgboost/training.py:183: UserWarning: [13:20:20] WARNING: /workspace/src/learner.cc:738: \n",
      "Parameters: { \"use_label_encoder\" } are not used.\n",
      "\n",
      "  bst.update(dtrain, iteration=i, fobj=obj)\n"
     ]
    },
    {
     "name": "stdout",
     "output_type": "stream",
     "text": [
      "[CV] END colsample_bytree=0.9061979941786817, gamma=0.8593578069828035, learning_rate=0.059989768591227254, max_depth=9, min_child_weight=6, n_estimators=119, reg_alpha=1.5116010656717631, reg_lambda=1.7452607066198842, subsample=0.9559644307534418; total time=  22.6s\n"
     ]
    },
    {
     "name": "stderr",
     "output_type": "stream",
     "text": [
      "/home/marco/projects/flawfinder/useful-comments-sorter-model/.venv/lib/python3.12/site-packages/xgboost/training.py:183: UserWarning: [13:20:42] WARNING: /workspace/src/learner.cc:738: \n",
      "Parameters: { \"use_label_encoder\" } are not used.\n",
      "\n",
      "  bst.update(dtrain, iteration=i, fobj=obj)\n"
     ]
    },
    {
     "name": "stdout",
     "output_type": "stream",
     "text": [
      "[CV] END colsample_bytree=0.9061979941786817, gamma=0.8593578069828035, learning_rate=0.059989768591227254, max_depth=9, min_child_weight=6, n_estimators=119, reg_alpha=1.5116010656717631, reg_lambda=1.7452607066198842, subsample=0.9559644307534418; total time=  22.4s\n",
      "Fitting 3 folds for each of 1 candidates, totalling 3 fits\n"
     ]
    },
    {
     "name": "stderr",
     "output_type": "stream",
     "text": [
      "/home/marco/projects/flawfinder/useful-comments-sorter-model/.venv/lib/python3.12/site-packages/xgboost/training.py:183: UserWarning: [13:21:04] WARNING: /workspace/src/learner.cc:738: \n",
      "Parameters: { \"use_label_encoder\" } are not used.\n",
      "\n",
      "  bst.update(dtrain, iteration=i, fobj=obj)\n"
     ]
    },
    {
     "name": "stdout",
     "output_type": "stream",
     "text": [
      "[CV] END colsample_bytree=0.8997767208035865, gamma=2.190145932204617, learning_rate=0.04843382015645565, max_depth=8, min_child_weight=9, n_estimators=243, reg_alpha=0.8483561449213641, reg_lambda=1.3005682034955253, subsample=0.6765419227639857; total time=  22.9s\n"
     ]
    },
    {
     "name": "stderr",
     "output_type": "stream",
     "text": [
      "/home/marco/projects/flawfinder/useful-comments-sorter-model/.venv/lib/python3.12/site-packages/xgboost/training.py:183: UserWarning: [13:21:28] WARNING: /workspace/src/learner.cc:738: \n",
      "Parameters: { \"use_label_encoder\" } are not used.\n",
      "\n",
      "  bst.update(dtrain, iteration=i, fobj=obj)\n"
     ]
    },
    {
     "name": "stdout",
     "output_type": "stream",
     "text": [
      "[CV] END colsample_bytree=0.8997767208035865, gamma=2.190145932204617, learning_rate=0.04843382015645565, max_depth=8, min_child_weight=9, n_estimators=243, reg_alpha=0.8483561449213641, reg_lambda=1.3005682034955253, subsample=0.6765419227639857; total time=  23.7s\n"
     ]
    },
    {
     "name": "stderr",
     "output_type": "stream",
     "text": [
      "/home/marco/projects/flawfinder/useful-comments-sorter-model/.venv/lib/python3.12/site-packages/xgboost/training.py:183: UserWarning: [13:21:51] WARNING: /workspace/src/learner.cc:738: \n",
      "Parameters: { \"use_label_encoder\" } are not used.\n",
      "\n",
      "  bst.update(dtrain, iteration=i, fobj=obj)\n"
     ]
    },
    {
     "name": "stdout",
     "output_type": "stream",
     "text": [
      "[CV] END colsample_bytree=0.8997767208035865, gamma=2.190145932204617, learning_rate=0.04843382015645565, max_depth=8, min_child_weight=9, n_estimators=243, reg_alpha=0.8483561449213641, reg_lambda=1.3005682034955253, subsample=0.6765419227639857; total time=  23.7s\n",
      "Fitting 3 folds for each of 1 candidates, totalling 3 fits\n"
     ]
    },
    {
     "name": "stderr",
     "output_type": "stream",
     "text": [
      "/home/marco/projects/flawfinder/useful-comments-sorter-model/.venv/lib/python3.12/site-packages/xgboost/training.py:183: UserWarning: [13:22:16] WARNING: /workspace/src/learner.cc:738: \n",
      "Parameters: { \"use_label_encoder\" } are not used.\n",
      "\n",
      "  bst.update(dtrain, iteration=i, fobj=obj)\n"
     ]
    },
    {
     "name": "stdout",
     "output_type": "stream",
     "text": [
      "[CV] END colsample_bytree=0.8670140089927842, gamma=4.6968486880138585, learning_rate=0.016325175054961123, max_depth=4, min_child_weight=8, n_estimators=175, reg_alpha=0.9180490283016114, reg_lambda=1.0695303202422712, subsample=0.8926419685712479; total time=   6.3s\n"
     ]
    },
    {
     "name": "stderr",
     "output_type": "stream",
     "text": [
      "/home/marco/projects/flawfinder/useful-comments-sorter-model/.venv/lib/python3.12/site-packages/xgboost/training.py:183: UserWarning: [13:22:21] WARNING: /workspace/src/learner.cc:738: \n",
      "Parameters: { \"use_label_encoder\" } are not used.\n",
      "\n",
      "  bst.update(dtrain, iteration=i, fobj=obj)\n"
     ]
    },
    {
     "name": "stdout",
     "output_type": "stream",
     "text": [
      "[CV] END colsample_bytree=0.8670140089927842, gamma=4.6968486880138585, learning_rate=0.016325175054961123, max_depth=4, min_child_weight=8, n_estimators=175, reg_alpha=0.9180490283016114, reg_lambda=1.0695303202422712, subsample=0.8926419685712479; total time=   4.8s\n"
     ]
    },
    {
     "name": "stderr",
     "output_type": "stream",
     "text": [
      "/home/marco/projects/flawfinder/useful-comments-sorter-model/.venv/lib/python3.12/site-packages/xgboost/training.py:183: UserWarning: [13:22:26] WARNING: /workspace/src/learner.cc:738: \n",
      "Parameters: { \"use_label_encoder\" } are not used.\n",
      "\n",
      "  bst.update(dtrain, iteration=i, fobj=obj)\n"
     ]
    },
    {
     "name": "stdout",
     "output_type": "stream",
     "text": [
      "[CV] END colsample_bytree=0.8670140089927842, gamma=4.6968486880138585, learning_rate=0.016325175054961123, max_depth=4, min_child_weight=8, n_estimators=175, reg_alpha=0.9180490283016114, reg_lambda=1.0695303202422712, subsample=0.8926419685712479; total time=   5.0s\n",
      "Fitting 3 folds for each of 1 candidates, totalling 3 fits\n"
     ]
    },
    {
     "name": "stderr",
     "output_type": "stream",
     "text": [
      "/home/marco/projects/flawfinder/useful-comments-sorter-model/.venv/lib/python3.12/site-packages/xgboost/training.py:183: UserWarning: [13:22:31] WARNING: /workspace/src/learner.cc:738: \n",
      "Parameters: { \"use_label_encoder\" } are not used.\n",
      "\n",
      "  bst.update(dtrain, iteration=i, fobj=obj)\n"
     ]
    },
    {
     "name": "stdout",
     "output_type": "stream",
     "text": [
      "[CV] END colsample_bytree=0.8085396792511581, gamma=3.876821894139413, learning_rate=0.02931565510026712, max_depth=9, min_child_weight=6, n_estimators=219, reg_alpha=1.2975550194074517, reg_lambda=0.8441651719013947, subsample=0.866941242634403; total time=  34.4s\n"
     ]
    },
    {
     "name": "stderr",
     "output_type": "stream",
     "text": [
      "/home/marco/projects/flawfinder/useful-comments-sorter-model/.venv/lib/python3.12/site-packages/xgboost/training.py:183: UserWarning: [13:23:06] WARNING: /workspace/src/learner.cc:738: \n",
      "Parameters: { \"use_label_encoder\" } are not used.\n",
      "\n",
      "  bst.update(dtrain, iteration=i, fobj=obj)\n"
     ]
    },
    {
     "name": "stdout",
     "output_type": "stream",
     "text": [
      "[CV] END colsample_bytree=0.8085396792511581, gamma=3.876821894139413, learning_rate=0.02931565510026712, max_depth=9, min_child_weight=6, n_estimators=219, reg_alpha=1.2975550194074517, reg_lambda=0.8441651719013947, subsample=0.866941242634403; total time=  34.7s\n"
     ]
    },
    {
     "name": "stderr",
     "output_type": "stream",
     "text": [
      "/home/marco/projects/flawfinder/useful-comments-sorter-model/.venv/lib/python3.12/site-packages/xgboost/training.py:183: UserWarning: [13:23:40] WARNING: /workspace/src/learner.cc:738: \n",
      "Parameters: { \"use_label_encoder\" } are not used.\n",
      "\n",
      "  bst.update(dtrain, iteration=i, fobj=obj)\n"
     ]
    },
    {
     "name": "stdout",
     "output_type": "stream",
     "text": [
      "[CV] END colsample_bytree=0.8085396792511581, gamma=3.876821894139413, learning_rate=0.02931565510026712, max_depth=9, min_child_weight=6, n_estimators=219, reg_alpha=1.2975550194074517, reg_lambda=0.8441651719013947, subsample=0.866941242634403; total time=  34.3s\n",
      "Fitting 3 folds for each of 1 candidates, totalling 3 fits\n"
     ]
    },
    {
     "name": "stderr",
     "output_type": "stream",
     "text": [
      "/home/marco/projects/flawfinder/useful-comments-sorter-model/.venv/lib/python3.12/site-packages/xgboost/training.py:183: UserWarning: [13:24:15] WARNING: /workspace/src/learner.cc:738: \n",
      "Parameters: { \"use_label_encoder\" } are not used.\n",
      "\n",
      "  bst.update(dtrain, iteration=i, fobj=obj)\n"
     ]
    },
    {
     "name": "stdout",
     "output_type": "stream",
     "text": [
      "[CV] END colsample_bytree=0.7717015338451563, gamma=4.600046132186582, learning_rate=0.04425048888775232, max_depth=9, min_child_weight=4, n_estimators=110, reg_alpha=1.1415556053577964, reg_lambda=0.05160217010704217, subsample=0.6928647954923324; total time=  18.2s\n"
     ]
    },
    {
     "name": "stderr",
     "output_type": "stream",
     "text": [
      "/home/marco/projects/flawfinder/useful-comments-sorter-model/.venv/lib/python3.12/site-packages/xgboost/training.py:183: UserWarning: [13:24:32] WARNING: /workspace/src/learner.cc:738: \n",
      "Parameters: { \"use_label_encoder\" } are not used.\n",
      "\n",
      "  bst.update(dtrain, iteration=i, fobj=obj)\n"
     ]
    },
    {
     "name": "stdout",
     "output_type": "stream",
     "text": [
      "[CV] END colsample_bytree=0.7717015338451563, gamma=4.600046132186582, learning_rate=0.04425048888775232, max_depth=9, min_child_weight=4, n_estimators=110, reg_alpha=1.1415556053577964, reg_lambda=0.05160217010704217, subsample=0.6928647954923324; total time=  19.3s\n"
     ]
    },
    {
     "name": "stderr",
     "output_type": "stream",
     "text": [
      "/home/marco/projects/flawfinder/useful-comments-sorter-model/.venv/lib/python3.12/site-packages/xgboost/training.py:183: UserWarning: [13:24:52] WARNING: /workspace/src/learner.cc:738: \n",
      "Parameters: { \"use_label_encoder\" } are not used.\n",
      "\n",
      "  bst.update(dtrain, iteration=i, fobj=obj)\n"
     ]
    },
    {
     "name": "stdout",
     "output_type": "stream",
     "text": [
      "[CV] END colsample_bytree=0.7717015338451563, gamma=4.600046132186582, learning_rate=0.04425048888775232, max_depth=9, min_child_weight=4, n_estimators=110, reg_alpha=1.1415556053577964, reg_lambda=0.05160217010704217, subsample=0.6928647954923324; total time=  17.6s\n",
      "Fitting 3 folds for each of 1 candidates, totalling 3 fits\n"
     ]
    },
    {
     "name": "stderr",
     "output_type": "stream",
     "text": [
      "/home/marco/projects/flawfinder/useful-comments-sorter-model/.venv/lib/python3.12/site-packages/xgboost/training.py:183: UserWarning: [13:25:11] WARNING: /workspace/src/learner.cc:738: \n",
      "Parameters: { \"use_label_encoder\" } are not used.\n",
      "\n",
      "  bst.update(dtrain, iteration=i, fobj=obj)\n"
     ]
    },
    {
     "name": "stdout",
     "output_type": "stream",
     "text": [
      "[CV] END colsample_bytree=0.9777389931549642, gamma=3.50310722310683, learning_rate=0.13615867129890064, max_depth=6, min_child_weight=4, n_estimators=142, reg_alpha=0.0001221015053469721, reg_lambda=0.7413709753254089, subsample=0.7971894567956928; total time=   8.7s\n"
     ]
    },
    {
     "name": "stderr",
     "output_type": "stream",
     "text": [
      "/home/marco/projects/flawfinder/useful-comments-sorter-model/.venv/lib/python3.12/site-packages/xgboost/training.py:183: UserWarning: [13:25:18] WARNING: /workspace/src/learner.cc:738: \n",
      "Parameters: { \"use_label_encoder\" } are not used.\n",
      "\n",
      "  bst.update(dtrain, iteration=i, fobj=obj)\n"
     ]
    },
    {
     "name": "stdout",
     "output_type": "stream",
     "text": [
      "[CV] END colsample_bytree=0.9777389931549642, gamma=3.50310722310683, learning_rate=0.13615867129890064, max_depth=6, min_child_weight=4, n_estimators=142, reg_alpha=0.0001221015053469721, reg_lambda=0.7413709753254089, subsample=0.7971894567956928; total time=   7.9s\n"
     ]
    },
    {
     "name": "stderr",
     "output_type": "stream",
     "text": [
      "/home/marco/projects/flawfinder/useful-comments-sorter-model/.venv/lib/python3.12/site-packages/xgboost/training.py:183: UserWarning: [13:25:26] WARNING: /workspace/src/learner.cc:738: \n",
      "Parameters: { \"use_label_encoder\" } are not used.\n",
      "\n",
      "  bst.update(dtrain, iteration=i, fobj=obj)\n"
     ]
    },
    {
     "name": "stdout",
     "output_type": "stream",
     "text": [
      "[CV] END colsample_bytree=0.9777389931549642, gamma=3.50310722310683, learning_rate=0.13615867129890064, max_depth=6, min_child_weight=4, n_estimators=142, reg_alpha=0.0001221015053469721, reg_lambda=0.7413709753254089, subsample=0.7971894567956928; total time=   6.7s\n",
      "Fitting 3 folds for each of 1 candidates, totalling 3 fits\n"
     ]
    },
    {
     "name": "stderr",
     "output_type": "stream",
     "text": [
      "/home/marco/projects/flawfinder/useful-comments-sorter-model/.venv/lib/python3.12/site-packages/xgboost/training.py:183: UserWarning: [13:25:33] WARNING: /workspace/src/learner.cc:738: \n",
      "Parameters: { \"use_label_encoder\" } are not used.\n",
      "\n",
      "  bst.update(dtrain, iteration=i, fobj=obj)\n"
     ]
    },
    {
     "name": "stdout",
     "output_type": "stream",
     "text": [
      "[CV] END colsample_bytree=0.5018151536273716, gamma=4.089150098318758, learning_rate=0.09213636741693375, max_depth=5, min_child_weight=6, n_estimators=155, reg_alpha=0.6256786124692563, reg_lambda=0.30518917367688864, subsample=0.9469190305262598; total time=   4.8s\n"
     ]
    },
    {
     "name": "stderr",
     "output_type": "stream",
     "text": [
      "/home/marco/projects/flawfinder/useful-comments-sorter-model/.venv/lib/python3.12/site-packages/xgboost/training.py:183: UserWarning: [13:25:38] WARNING: /workspace/src/learner.cc:738: \n",
      "Parameters: { \"use_label_encoder\" } are not used.\n",
      "\n",
      "  bst.update(dtrain, iteration=i, fobj=obj)\n"
     ]
    },
    {
     "name": "stdout",
     "output_type": "stream",
     "text": [
      "[CV] END colsample_bytree=0.5018151536273716, gamma=4.089150098318758, learning_rate=0.09213636741693375, max_depth=5, min_child_weight=6, n_estimators=155, reg_alpha=0.6256786124692563, reg_lambda=0.30518917367688864, subsample=0.9469190305262598; total time=   4.9s\n"
     ]
    },
    {
     "name": "stderr",
     "output_type": "stream",
     "text": [
      "/home/marco/projects/flawfinder/useful-comments-sorter-model/.venv/lib/python3.12/site-packages/xgboost/training.py:183: UserWarning: [13:25:44] WARNING: /workspace/src/learner.cc:738: \n",
      "Parameters: { \"use_label_encoder\" } are not used.\n",
      "\n",
      "  bst.update(dtrain, iteration=i, fobj=obj)\n"
     ]
    },
    {
     "name": "stdout",
     "output_type": "stream",
     "text": [
      "[CV] END colsample_bytree=0.5018151536273716, gamma=4.089150098318758, learning_rate=0.09213636741693375, max_depth=5, min_child_weight=6, n_estimators=155, reg_alpha=0.6256786124692563, reg_lambda=0.30518917367688864, subsample=0.9469190305262598; total time=   6.6s\n",
      "Fitting 3 folds for each of 1 candidates, totalling 3 fits\n"
     ]
    },
    {
     "name": "stderr",
     "output_type": "stream",
     "text": [
      "/home/marco/projects/flawfinder/useful-comments-sorter-model/.venv/lib/python3.12/site-packages/xgboost/training.py:183: UserWarning: [13:26:07] WARNING: /workspace/src/learner.cc:738: \n",
      "Parameters: { \"use_label_encoder\" } are not used.\n",
      "\n",
      "  bst.update(dtrain, iteration=i, fobj=obj)\n"
     ]
    },
    {
     "name": "stdout",
     "output_type": "stream",
     "text": [
      "[CV] END colsample_bytree=0.622383276443231, gamma=1.6502846559696036, learning_rate=0.2, max_depth=10, min_child_weight=4, n_estimators=300, reg_alpha=0.536806873305035, reg_lambda=0.904548893838038, subsample=0.9772379130495001; total time= 2.0min\n"
     ]
    },
    {
     "name": "stderr",
     "output_type": "stream",
     "text": [
      "/home/marco/projects/flawfinder/useful-comments-sorter-model/.venv/lib/python3.12/site-packages/xgboost/training.py:183: UserWarning: [13:28:09] WARNING: /workspace/src/learner.cc:738: \n",
      "Parameters: { \"use_label_encoder\" } are not used.\n",
      "\n",
      "  bst.update(dtrain, iteration=i, fobj=obj)\n"
     ]
    },
    {
     "name": "stdout",
     "output_type": "stream",
     "text": [
      "[CV] END colsample_bytree=0.622383276443231, gamma=1.6502846559696036, learning_rate=0.2, max_depth=10, min_child_weight=4, n_estimators=300, reg_alpha=0.536806873305035, reg_lambda=0.904548893838038, subsample=0.9772379130495001; total time=  58.5s\n"
     ]
    },
    {
     "name": "stderr",
     "output_type": "stream",
     "text": [
      "/home/marco/projects/flawfinder/useful-comments-sorter-model/.venv/lib/python3.12/site-packages/xgboost/training.py:183: UserWarning: [13:29:07] WARNING: /workspace/src/learner.cc:738: \n",
      "Parameters: { \"use_label_encoder\" } are not used.\n",
      "\n",
      "  bst.update(dtrain, iteration=i, fobj=obj)\n"
     ]
    },
    {
     "name": "stdout",
     "output_type": "stream",
     "text": [
      "[CV] END colsample_bytree=0.622383276443231, gamma=1.6502846559696036, learning_rate=0.2, max_depth=10, min_child_weight=4, n_estimators=300, reg_alpha=0.536806873305035, reg_lambda=0.904548893838038, subsample=0.9772379130495001; total time= 1.1min\n",
      "Fitting 3 folds for each of 1 candidates, totalling 3 fits\n"
     ]
    },
    {
     "name": "stderr",
     "output_type": "stream",
     "text": [
      "/home/marco/projects/flawfinder/useful-comments-sorter-model/.venv/lib/python3.12/site-packages/xgboost/training.py:183: UserWarning: [13:30:13] WARNING: /workspace/src/learner.cc:738: \n",
      "Parameters: { \"use_label_encoder\" } are not used.\n",
      "\n",
      "  bst.update(dtrain, iteration=i, fobj=obj)\n"
     ]
    },
    {
     "name": "stdout",
     "output_type": "stream",
     "text": [
      "[CV] END colsample_bytree=0.5, gamma=1.594575848327178, learning_rate=0.05786312817965926, max_depth=10, min_child_weight=2, n_estimators=300, reg_alpha=0.0, reg_lambda=0.0, subsample=0.5; total time= 1.4min\n"
     ]
    },
    {
     "name": "stderr",
     "output_type": "stream",
     "text": [
      "/home/marco/projects/flawfinder/useful-comments-sorter-model/.venv/lib/python3.12/site-packages/xgboost/training.py:183: UserWarning: [13:31:37] WARNING: /workspace/src/learner.cc:738: \n",
      "Parameters: { \"use_label_encoder\" } are not used.\n",
      "\n",
      "  bst.update(dtrain, iteration=i, fobj=obj)\n"
     ]
    },
    {
     "name": "stdout",
     "output_type": "stream",
     "text": [
      "[CV] END colsample_bytree=0.5, gamma=1.594575848327178, learning_rate=0.05786312817965926, max_depth=10, min_child_weight=2, n_estimators=300, reg_alpha=0.0, reg_lambda=0.0, subsample=0.5; total time= 1.1min\n"
     ]
    },
    {
     "name": "stderr",
     "output_type": "stream",
     "text": [
      "/home/marco/projects/flawfinder/useful-comments-sorter-model/.venv/lib/python3.12/site-packages/xgboost/training.py:183: UserWarning: [13:32:44] WARNING: /workspace/src/learner.cc:738: \n",
      "Parameters: { \"use_label_encoder\" } are not used.\n",
      "\n",
      "  bst.update(dtrain, iteration=i, fobj=obj)\n"
     ]
    },
    {
     "name": "stdout",
     "output_type": "stream",
     "text": [
      "[CV] END colsample_bytree=0.5, gamma=1.594575848327178, learning_rate=0.05786312817965926, max_depth=10, min_child_weight=2, n_estimators=300, reg_alpha=0.0, reg_lambda=0.0, subsample=0.5; total time= 1.1min\n",
      "Fitting 3 folds for each of 1 candidates, totalling 3 fits\n"
     ]
    },
    {
     "name": "stderr",
     "output_type": "stream",
     "text": [
      "/home/marco/projects/flawfinder/useful-comments-sorter-model/.venv/lib/python3.12/site-packages/xgboost/training.py:183: UserWarning: [13:33:53] WARNING: /workspace/src/learner.cc:738: \n",
      "Parameters: { \"use_label_encoder\" } are not used.\n",
      "\n",
      "  bst.update(dtrain, iteration=i, fobj=obj)\n"
     ]
    },
    {
     "name": "stdout",
     "output_type": "stream",
     "text": [
      "[CV] END colsample_bytree=0.8643135010173961, gamma=0.5457976444818942, learning_rate=0.011086738648924616, max_depth=10, min_child_weight=2, n_estimators=295, reg_alpha=1.207535107247104, reg_lambda=1.4358228832996576, subsample=0.8987566530459745; total time= 2.1min\n"
     ]
    },
    {
     "name": "stderr",
     "output_type": "stream",
     "text": [
      "/home/marco/projects/flawfinder/useful-comments-sorter-model/.venv/lib/python3.12/site-packages/xgboost/training.py:183: UserWarning: [13:36:00] WARNING: /workspace/src/learner.cc:738: \n",
      "Parameters: { \"use_label_encoder\" } are not used.\n",
      "\n",
      "  bst.update(dtrain, iteration=i, fobj=obj)\n"
     ]
    },
    {
     "name": "stdout",
     "output_type": "stream",
     "text": [
      "[CV] END colsample_bytree=0.8643135010173961, gamma=0.5457976444818942, learning_rate=0.011086738648924616, max_depth=10, min_child_weight=2, n_estimators=295, reg_alpha=1.207535107247104, reg_lambda=1.4358228832996576, subsample=0.8987566530459745; total time= 3.4min\n"
     ]
    },
    {
     "name": "stderr",
     "output_type": "stream",
     "text": [
      "/home/marco/projects/flawfinder/useful-comments-sorter-model/.venv/lib/python3.12/site-packages/xgboost/training.py:183: UserWarning: [13:39:22] WARNING: /workspace/src/learner.cc:738: \n",
      "Parameters: { \"use_label_encoder\" } are not used.\n",
      "\n",
      "  bst.update(dtrain, iteration=i, fobj=obj)\n"
     ]
    },
    {
     "name": "stdout",
     "output_type": "stream",
     "text": [
      "[CV] END colsample_bytree=0.8643135010173961, gamma=0.5457976444818942, learning_rate=0.011086738648924616, max_depth=10, min_child_weight=2, n_estimators=295, reg_alpha=1.207535107247104, reg_lambda=1.4358228832996576, subsample=0.8987566530459745; total time= 3.1min\n",
      "Fitting 3 folds for each of 1 candidates, totalling 3 fits\n"
     ]
    },
    {
     "name": "stderr",
     "output_type": "stream",
     "text": [
      "/home/marco/projects/flawfinder/useful-comments-sorter-model/.venv/lib/python3.12/site-packages/xgboost/training.py:183: UserWarning: [13:42:30] WARNING: /workspace/src/learner.cc:738: \n",
      "Parameters: { \"use_label_encoder\" } are not used.\n",
      "\n",
      "  bst.update(dtrain, iteration=i, fobj=obj)\n"
     ]
    },
    {
     "name": "stdout",
     "output_type": "stream",
     "text": [
      "[CV] END colsample_bytree=0.5995008610124359, gamma=2.761448038322376, learning_rate=0.19893422120677123, max_depth=3, min_child_weight=6, n_estimators=107, reg_alpha=1.5168763417266078, reg_lambda=1.9027792869972682, subsample=0.5970612446418292; total time=   2.9s\n"
     ]
    },
    {
     "name": "stderr",
     "output_type": "stream",
     "text": [
      "/home/marco/projects/flawfinder/useful-comments-sorter-model/.venv/lib/python3.12/site-packages/xgboost/training.py:183: UserWarning: [13:42:32] WARNING: /workspace/src/learner.cc:738: \n",
      "Parameters: { \"use_label_encoder\" } are not used.\n",
      "\n",
      "  bst.update(dtrain, iteration=i, fobj=obj)\n"
     ]
    },
    {
     "name": "stdout",
     "output_type": "stream",
     "text": [
      "[CV] END colsample_bytree=0.5995008610124359, gamma=2.761448038322376, learning_rate=0.19893422120677123, max_depth=3, min_child_weight=6, n_estimators=107, reg_alpha=1.5168763417266078, reg_lambda=1.9027792869972682, subsample=0.5970612446418292; total time=   2.7s\n"
     ]
    },
    {
     "name": "stderr",
     "output_type": "stream",
     "text": [
      "/home/marco/projects/flawfinder/useful-comments-sorter-model/.venv/lib/python3.12/site-packages/xgboost/training.py:183: UserWarning: [13:42:35] WARNING: /workspace/src/learner.cc:738: \n",
      "Parameters: { \"use_label_encoder\" } are not used.\n",
      "\n",
      "  bst.update(dtrain, iteration=i, fobj=obj)\n"
     ]
    },
    {
     "name": "stdout",
     "output_type": "stream",
     "text": [
      "[CV] END colsample_bytree=0.5995008610124359, gamma=2.761448038322376, learning_rate=0.19893422120677123, max_depth=3, min_child_weight=6, n_estimators=107, reg_alpha=1.5168763417266078, reg_lambda=1.9027792869972682, subsample=0.5970612446418292; total time=   2.7s\n",
      "Fitting 3 folds for each of 1 candidates, totalling 3 fits\n"
     ]
    },
    {
     "name": "stderr",
     "output_type": "stream",
     "text": [
      "/home/marco/projects/flawfinder/useful-comments-sorter-model/.venv/lib/python3.12/site-packages/xgboost/training.py:183: UserWarning: [13:42:38] WARNING: /workspace/src/learner.cc:738: \n",
      "Parameters: { \"use_label_encoder\" } are not used.\n",
      "\n",
      "  bst.update(dtrain, iteration=i, fobj=obj)\n"
     ]
    },
    {
     "name": "stdout",
     "output_type": "stream",
     "text": [
      "[CV] END colsample_bytree=0.7666479412463671, gamma=0.4959070959124613, learning_rate=0.16346730389263162, max_depth=3, min_child_weight=3, n_estimators=298, reg_alpha=1.789944739488713, reg_lambda=0.4698703782640893, subsample=0.600065921154478; total time=   5.1s\n"
     ]
    },
    {
     "name": "stderr",
     "output_type": "stream",
     "text": [
      "/home/marco/projects/flawfinder/useful-comments-sorter-model/.venv/lib/python3.12/site-packages/xgboost/training.py:183: UserWarning: [13:42:44] WARNING: /workspace/src/learner.cc:738: \n",
      "Parameters: { \"use_label_encoder\" } are not used.\n",
      "\n",
      "  bst.update(dtrain, iteration=i, fobj=obj)\n"
     ]
    },
    {
     "name": "stdout",
     "output_type": "stream",
     "text": [
      "[CV] END colsample_bytree=0.7666479412463671, gamma=0.4959070959124613, learning_rate=0.16346730389263162, max_depth=3, min_child_weight=3, n_estimators=298, reg_alpha=1.789944739488713, reg_lambda=0.4698703782640893, subsample=0.600065921154478; total time=   5.0s\n"
     ]
    },
    {
     "name": "stderr",
     "output_type": "stream",
     "text": [
      "/home/marco/projects/flawfinder/useful-comments-sorter-model/.venv/lib/python3.12/site-packages/xgboost/training.py:183: UserWarning: [13:42:49] WARNING: /workspace/src/learner.cc:738: \n",
      "Parameters: { \"use_label_encoder\" } are not used.\n",
      "\n",
      "  bst.update(dtrain, iteration=i, fobj=obj)\n"
     ]
    },
    {
     "name": "stdout",
     "output_type": "stream",
     "text": [
      "[CV] END colsample_bytree=0.7666479412463671, gamma=0.4959070959124613, learning_rate=0.16346730389263162, max_depth=3, min_child_weight=3, n_estimators=298, reg_alpha=1.789944739488713, reg_lambda=0.4698703782640893, subsample=0.600065921154478; total time=   5.1s\n",
      "Fitting 3 folds for each of 1 candidates, totalling 3 fits\n"
     ]
    },
    {
     "name": "stderr",
     "output_type": "stream",
     "text": [
      "/home/marco/projects/flawfinder/useful-comments-sorter-model/.venv/lib/python3.12/site-packages/xgboost/training.py:183: UserWarning: [13:42:54] WARNING: /workspace/src/learner.cc:738: \n",
      "Parameters: { \"use_label_encoder\" } are not used.\n",
      "\n",
      "  bst.update(dtrain, iteration=i, fobj=obj)\n"
     ]
    },
    {
     "name": "stdout",
     "output_type": "stream",
     "text": [
      "[CV] END colsample_bytree=0.6669077926103604, gamma=4.855652804768744, learning_rate=0.11907412870240315, max_depth=7, min_child_weight=4, n_estimators=293, reg_alpha=0.739778787683102, reg_lambda=1.2325684457629336, subsample=0.9666138306192789; total time=  11.9s\n"
     ]
    },
    {
     "name": "stderr",
     "output_type": "stream",
     "text": [
      "/home/marco/projects/flawfinder/useful-comments-sorter-model/.venv/lib/python3.12/site-packages/xgboost/training.py:183: UserWarning: [13:43:06] WARNING: /workspace/src/learner.cc:738: \n",
      "Parameters: { \"use_label_encoder\" } are not used.\n",
      "\n",
      "  bst.update(dtrain, iteration=i, fobj=obj)\n"
     ]
    },
    {
     "name": "stdout",
     "output_type": "stream",
     "text": [
      "[CV] END colsample_bytree=0.6669077926103604, gamma=4.855652804768744, learning_rate=0.11907412870240315, max_depth=7, min_child_weight=4, n_estimators=293, reg_alpha=0.739778787683102, reg_lambda=1.2325684457629336, subsample=0.9666138306192789; total time=  10.6s\n"
     ]
    },
    {
     "name": "stderr",
     "output_type": "stream",
     "text": [
      "/home/marco/projects/flawfinder/useful-comments-sorter-model/.venv/lib/python3.12/site-packages/xgboost/training.py:183: UserWarning: [13:43:19] WARNING: /workspace/src/learner.cc:738: \n",
      "Parameters: { \"use_label_encoder\" } are not used.\n",
      "\n",
      "  bst.update(dtrain, iteration=i, fobj=obj)\n"
     ]
    },
    {
     "name": "stdout",
     "output_type": "stream",
     "text": [
      "[CV] END colsample_bytree=0.6669077926103604, gamma=4.855652804768744, learning_rate=0.11907412870240315, max_depth=7, min_child_weight=4, n_estimators=293, reg_alpha=0.739778787683102, reg_lambda=1.2325684457629336, subsample=0.9666138306192789; total time=  13.4s\n",
      "Fitting 3 folds for each of 1 candidates, totalling 3 fits\n"
     ]
    },
    {
     "name": "stderr",
     "output_type": "stream",
     "text": [
      "/home/marco/projects/flawfinder/useful-comments-sorter-model/.venv/lib/python3.12/site-packages/xgboost/training.py:183: UserWarning: [13:43:34] WARNING: /workspace/src/learner.cc:738: \n",
      "Parameters: { \"use_label_encoder\" } are not used.\n",
      "\n",
      "  bst.update(dtrain, iteration=i, fobj=obj)\n"
     ]
    },
    {
     "name": "stdout",
     "output_type": "stream",
     "text": [
      "[CV] END colsample_bytree=0.7060233204976595, gamma=4.950967166067057, learning_rate=0.19802283878142263, max_depth=10, min_child_weight=3, n_estimators=102, reg_alpha=0.07647819168572705, reg_lambda=1.0683603627265907, subsample=0.9152925911351995; total time= 1.9min\n"
     ]
    },
    {
     "name": "stderr",
     "output_type": "stream",
     "text": [
      "/home/marco/projects/flawfinder/useful-comments-sorter-model/.venv/lib/python3.12/site-packages/xgboost/training.py:183: UserWarning: [13:45:24] WARNING: /workspace/src/learner.cc:738: \n",
      "Parameters: { \"use_label_encoder\" } are not used.\n",
      "\n",
      "  bst.update(dtrain, iteration=i, fobj=obj)\n"
     ]
    },
    {
     "name": "stdout",
     "output_type": "stream",
     "text": [
      "[CV] END colsample_bytree=0.7060233204976595, gamma=4.950967166067057, learning_rate=0.19802283878142263, max_depth=10, min_child_weight=3, n_estimators=102, reg_alpha=0.07647819168572705, reg_lambda=1.0683603627265907, subsample=0.9152925911351995; total time= 1.7min\n"
     ]
    },
    {
     "name": "stderr",
     "output_type": "stream",
     "text": [
      "/home/marco/projects/flawfinder/useful-comments-sorter-model/.venv/lib/python3.12/site-packages/xgboost/training.py:183: UserWarning: [13:47:06] WARNING: /workspace/src/learner.cc:738: \n",
      "Parameters: { \"use_label_encoder\" } are not used.\n",
      "\n",
      "  bst.update(dtrain, iteration=i, fobj=obj)\n"
     ]
    },
    {
     "name": "stdout",
     "output_type": "stream",
     "text": [
      "[CV] END colsample_bytree=0.7060233204976595, gamma=4.950967166067057, learning_rate=0.19802283878142263, max_depth=10, min_child_weight=3, n_estimators=102, reg_alpha=0.07647819168572705, reg_lambda=1.0683603627265907, subsample=0.9152925911351995; total time=  25.1s\n",
      "Fitting 3 folds for each of 1 candidates, totalling 3 fits\n"
     ]
    },
    {
     "name": "stderr",
     "output_type": "stream",
     "text": [
      "/home/marco/projects/flawfinder/useful-comments-sorter-model/.venv/lib/python3.12/site-packages/xgboost/training.py:183: UserWarning: [13:47:32] WARNING: /workspace/src/learner.cc:738: \n",
      "Parameters: { \"use_label_encoder\" } are not used.\n",
      "\n",
      "  bst.update(dtrain, iteration=i, fobj=obj)\n"
     ]
    },
    {
     "name": "stdout",
     "output_type": "stream",
     "text": [
      "[CV] END colsample_bytree=0.5991465512780847, gamma=1.1834850485139006, learning_rate=0.05295426293551907, max_depth=5, min_child_weight=10, n_estimators=300, reg_alpha=1.4339616136848514, reg_lambda=0.392609403794172, subsample=0.9908964636121995; total time=   8.8s\n"
     ]
    },
    {
     "name": "stderr",
     "output_type": "stream",
     "text": [
      "/home/marco/projects/flawfinder/useful-comments-sorter-model/.venv/lib/python3.12/site-packages/xgboost/training.py:183: UserWarning: [13:47:40] WARNING: /workspace/src/learner.cc:738: \n",
      "Parameters: { \"use_label_encoder\" } are not used.\n",
      "\n",
      "  bst.update(dtrain, iteration=i, fobj=obj)\n"
     ]
    },
    {
     "name": "stdout",
     "output_type": "stream",
     "text": [
      "[CV] END colsample_bytree=0.5991465512780847, gamma=1.1834850485139006, learning_rate=0.05295426293551907, max_depth=5, min_child_weight=10, n_estimators=300, reg_alpha=1.4339616136848514, reg_lambda=0.392609403794172, subsample=0.9908964636121995; total time=   8.4s\n"
     ]
    },
    {
     "name": "stderr",
     "output_type": "stream",
     "text": [
      "/home/marco/projects/flawfinder/useful-comments-sorter-model/.venv/lib/python3.12/site-packages/xgboost/training.py:183: UserWarning: [13:47:49] WARNING: /workspace/src/learner.cc:738: \n",
      "Parameters: { \"use_label_encoder\" } are not used.\n",
      "\n",
      "  bst.update(dtrain, iteration=i, fobj=obj)\n"
     ]
    },
    {
     "name": "stdout",
     "output_type": "stream",
     "text": [
      "[CV] END colsample_bytree=0.5991465512780847, gamma=1.1834850485139006, learning_rate=0.05295426293551907, max_depth=5, min_child_weight=10, n_estimators=300, reg_alpha=1.4339616136848514, reg_lambda=0.392609403794172, subsample=0.9908964636121995; total time=   9.4s\n",
      "Fitting 3 folds for each of 1 candidates, totalling 3 fits\n"
     ]
    },
    {
     "name": "stderr",
     "output_type": "stream",
     "text": [
      "/home/marco/projects/flawfinder/useful-comments-sorter-model/.venv/lib/python3.12/site-packages/xgboost/training.py:183: UserWarning: [13:48:03] WARNING: /workspace/src/learner.cc:738: \n",
      "Parameters: { \"use_label_encoder\" } are not used.\n",
      "\n",
      "  bst.update(dtrain, iteration=i, fobj=obj)\n"
     ]
    },
    {
     "name": "stdout",
     "output_type": "stream",
     "text": [
      "[CV] END colsample_bytree=0.5, gamma=0.0, learning_rate=0.052524493386849294, max_depth=8, min_child_weight=1, n_estimators=300, reg_alpha=0.0, reg_lambda=0.0, subsample=1.0; total time=  30.5s\n"
     ]
    },
    {
     "name": "stderr",
     "output_type": "stream",
     "text": [
      "/home/marco/projects/flawfinder/useful-comments-sorter-model/.venv/lib/python3.12/site-packages/xgboost/training.py:183: UserWarning: [13:48:34] WARNING: /workspace/src/learner.cc:738: \n",
      "Parameters: { \"use_label_encoder\" } are not used.\n",
      "\n",
      "  bst.update(dtrain, iteration=i, fobj=obj)\n"
     ]
    },
    {
     "name": "stdout",
     "output_type": "stream",
     "text": [
      "[CV] END colsample_bytree=0.5, gamma=0.0, learning_rate=0.052524493386849294, max_depth=8, min_child_weight=1, n_estimators=300, reg_alpha=0.0, reg_lambda=0.0, subsample=1.0; total time=  30.8s\n"
     ]
    },
    {
     "name": "stderr",
     "output_type": "stream",
     "text": [
      "/home/marco/projects/flawfinder/useful-comments-sorter-model/.venv/lib/python3.12/site-packages/xgboost/training.py:183: UserWarning: [13:49:04] WARNING: /workspace/src/learner.cc:738: \n",
      "Parameters: { \"use_label_encoder\" } are not used.\n",
      "\n",
      "  bst.update(dtrain, iteration=i, fobj=obj)\n"
     ]
    },
    {
     "name": "stdout",
     "output_type": "stream",
     "text": [
      "[CV] END colsample_bytree=0.5, gamma=0.0, learning_rate=0.052524493386849294, max_depth=8, min_child_weight=1, n_estimators=300, reg_alpha=0.0, reg_lambda=0.0, subsample=1.0; total time=  29.9s\n",
      "Fitting 3 folds for each of 1 candidates, totalling 3 fits\n"
     ]
    },
    {
     "name": "stderr",
     "output_type": "stream",
     "text": [
      "/home/marco/projects/flawfinder/useful-comments-sorter-model/.venv/lib/python3.12/site-packages/xgboost/training.py:183: UserWarning: [13:49:43] WARNING: /workspace/src/learner.cc:738: \n",
      "Parameters: { \"use_label_encoder\" } are not used.\n",
      "\n",
      "  bst.update(dtrain, iteration=i, fobj=obj)\n"
     ]
    },
    {
     "name": "stdout",
     "output_type": "stream",
     "text": [
      "[CV] END colsample_bytree=0.5819120888377877, gamma=4.424966790433941, learning_rate=0.03635065275717406, max_depth=3, min_child_weight=9, n_estimators=294, reg_alpha=1.4397449843866927, reg_lambda=1.2172386820108185, subsample=0.5249423696411073; total time=   5.4s\n"
     ]
    },
    {
     "name": "stderr",
     "output_type": "stream",
     "text": [
      "/home/marco/projects/flawfinder/useful-comments-sorter-model/.venv/lib/python3.12/site-packages/xgboost/training.py:183: UserWarning: [13:49:48] WARNING: /workspace/src/learner.cc:738: \n",
      "Parameters: { \"use_label_encoder\" } are not used.\n",
      "\n",
      "  bst.update(dtrain, iteration=i, fobj=obj)\n"
     ]
    },
    {
     "name": "stdout",
     "output_type": "stream",
     "text": [
      "[CV] END colsample_bytree=0.5819120888377877, gamma=4.424966790433941, learning_rate=0.03635065275717406, max_depth=3, min_child_weight=9, n_estimators=294, reg_alpha=1.4397449843866927, reg_lambda=1.2172386820108185, subsample=0.5249423696411073; total time=   5.2s\n"
     ]
    },
    {
     "name": "stderr",
     "output_type": "stream",
     "text": [
      "/home/marco/projects/flawfinder/useful-comments-sorter-model/.venv/lib/python3.12/site-packages/xgboost/training.py:183: UserWarning: [13:49:53] WARNING: /workspace/src/learner.cc:738: \n",
      "Parameters: { \"use_label_encoder\" } are not used.\n",
      "\n",
      "  bst.update(dtrain, iteration=i, fobj=obj)\n"
     ]
    },
    {
     "name": "stdout",
     "output_type": "stream",
     "text": [
      "[CV] END colsample_bytree=0.5819120888377877, gamma=4.424966790433941, learning_rate=0.03635065275717406, max_depth=3, min_child_weight=9, n_estimators=294, reg_alpha=1.4397449843866927, reg_lambda=1.2172386820108185, subsample=0.5249423696411073; total time=   5.2s\n",
      "Fitting 3 folds for each of 1 candidates, totalling 3 fits\n"
     ]
    },
    {
     "name": "stderr",
     "output_type": "stream",
     "text": [
      "/home/marco/projects/flawfinder/useful-comments-sorter-model/.venv/lib/python3.12/site-packages/xgboost/training.py:183: UserWarning: [13:49:59] WARNING: /workspace/src/learner.cc:738: \n",
      "Parameters: { \"use_label_encoder\" } are not used.\n",
      "\n",
      "  bst.update(dtrain, iteration=i, fobj=obj)\n"
     ]
    },
    {
     "name": "stdout",
     "output_type": "stream",
     "text": [
      "[CV] END colsample_bytree=0.6208005651026717, gamma=0.46698199695805526, learning_rate=0.010249331750121257, max_depth=3, min_child_weight=9, n_estimators=293, reg_alpha=0.853090392478929, reg_lambda=1.8995872530859046, subsample=0.7100222646364696; total time=   5.6s\n"
     ]
    },
    {
     "name": "stderr",
     "output_type": "stream",
     "text": [
      "/home/marco/projects/flawfinder/useful-comments-sorter-model/.venv/lib/python3.12/site-packages/xgboost/training.py:183: UserWarning: [13:50:08] WARNING: /workspace/src/learner.cc:738: \n",
      "Parameters: { \"use_label_encoder\" } are not used.\n",
      "\n",
      "  bst.update(dtrain, iteration=i, fobj=obj)\n"
     ]
    },
    {
     "name": "stdout",
     "output_type": "stream",
     "text": [
      "[CV] END colsample_bytree=0.6208005651026717, gamma=0.46698199695805526, learning_rate=0.010249331750121257, max_depth=3, min_child_weight=9, n_estimators=293, reg_alpha=0.853090392478929, reg_lambda=1.8995872530859046, subsample=0.7100222646364696; total time=   9.7s\n"
     ]
    },
    {
     "name": "stderr",
     "output_type": "stream",
     "text": [
      "/home/marco/projects/flawfinder/useful-comments-sorter-model/.venv/lib/python3.12/site-packages/xgboost/training.py:183: UserWarning: [13:50:15] WARNING: /workspace/src/learner.cc:738: \n",
      "Parameters: { \"use_label_encoder\" } are not used.\n",
      "\n",
      "  bst.update(dtrain, iteration=i, fobj=obj)\n"
     ]
    },
    {
     "name": "stdout",
     "output_type": "stream",
     "text": [
      "[CV] END colsample_bytree=0.6208005651026717, gamma=0.46698199695805526, learning_rate=0.010249331750121257, max_depth=3, min_child_weight=9, n_estimators=293, reg_alpha=0.853090392478929, reg_lambda=1.8995872530859046, subsample=0.7100222646364696; total time=   5.5s\n",
      "Fitting 3 folds for each of 1 candidates, totalling 3 fits\n"
     ]
    },
    {
     "name": "stderr",
     "output_type": "stream",
     "text": [
      "/home/marco/projects/flawfinder/useful-comments-sorter-model/.venv/lib/python3.12/site-packages/xgboost/training.py:183: UserWarning: [13:50:21] WARNING: /workspace/src/learner.cc:738: \n",
      "Parameters: { \"use_label_encoder\" } are not used.\n",
      "\n",
      "  bst.update(dtrain, iteration=i, fobj=obj)\n"
     ]
    },
    {
     "name": "stdout",
     "output_type": "stream",
     "text": [
      "[CV] END colsample_bytree=0.9794420598368971, gamma=1.6973830432585615, learning_rate=0.010380074614328166, max_depth=10, min_child_weight=4, n_estimators=110, reg_alpha=0.27974631609460215, reg_lambda=0.230183401643743, subsample=0.5678180390786722; total time= 1.5min\n"
     ]
    },
    {
     "name": "stderr",
     "output_type": "stream",
     "text": [
      "/home/marco/projects/flawfinder/useful-comments-sorter-model/.venv/lib/python3.12/site-packages/xgboost/training.py:183: UserWarning: [13:51:50] WARNING: /workspace/src/learner.cc:738: \n",
      "Parameters: { \"use_label_encoder\" } are not used.\n",
      "\n",
      "  bst.update(dtrain, iteration=i, fobj=obj)\n"
     ]
    },
    {
     "name": "stdout",
     "output_type": "stream",
     "text": [
      "[CV] END colsample_bytree=0.9794420598368971, gamma=1.6973830432585615, learning_rate=0.010380074614328166, max_depth=10, min_child_weight=4, n_estimators=110, reg_alpha=0.27974631609460215, reg_lambda=0.230183401643743, subsample=0.5678180390786722; total time= 1.0min\n"
     ]
    },
    {
     "name": "stderr",
     "output_type": "stream",
     "text": [
      "/home/marco/projects/flawfinder/useful-comments-sorter-model/.venv/lib/python3.12/site-packages/xgboost/training.py:183: UserWarning: [13:52:50] WARNING: /workspace/src/learner.cc:738: \n",
      "Parameters: { \"use_label_encoder\" } are not used.\n",
      "\n",
      "  bst.update(dtrain, iteration=i, fobj=obj)\n"
     ]
    },
    {
     "name": "stdout",
     "output_type": "stream",
     "text": [
      "[CV] END colsample_bytree=0.9794420598368971, gamma=1.6973830432585615, learning_rate=0.010380074614328166, max_depth=10, min_child_weight=4, n_estimators=110, reg_alpha=0.27974631609460215, reg_lambda=0.230183401643743, subsample=0.5678180390786722; total time= 1.1min\n",
      "Fitting 3 folds for each of 1 candidates, totalling 3 fits\n"
     ]
    },
    {
     "name": "stderr",
     "output_type": "stream",
     "text": [
      "/home/marco/projects/flawfinder/useful-comments-sorter-model/.venv/lib/python3.12/site-packages/xgboost/training.py:183: UserWarning: [13:53:55] WARNING: /workspace/src/learner.cc:738: \n",
      "Parameters: { \"use_label_encoder\" } are not used.\n",
      "\n",
      "  bst.update(dtrain, iteration=i, fobj=obj)\n"
     ]
    },
    {
     "name": "stdout",
     "output_type": "stream",
     "text": [
      "[CV] END colsample_bytree=0.9682608285738958, gamma=0.9844632708525323, learning_rate=0.19525717758041605, max_depth=6, min_child_weight=5, n_estimators=300, reg_alpha=0.8936359806821186, reg_lambda=1.9586586877536047, subsample=0.7372290568197504; total time=  14.5s\n"
     ]
    },
    {
     "name": "stderr",
     "output_type": "stream",
     "text": [
      "/home/marco/projects/flawfinder/useful-comments-sorter-model/.venv/lib/python3.12/site-packages/xgboost/training.py:183: UserWarning: [13:54:09] WARNING: /workspace/src/learner.cc:738: \n",
      "Parameters: { \"use_label_encoder\" } are not used.\n",
      "\n",
      "  bst.update(dtrain, iteration=i, fobj=obj)\n"
     ]
    },
    {
     "name": "stdout",
     "output_type": "stream",
     "text": [
      "[CV] END colsample_bytree=0.9682608285738958, gamma=0.9844632708525323, learning_rate=0.19525717758041605, max_depth=6, min_child_weight=5, n_estimators=300, reg_alpha=0.8936359806821186, reg_lambda=1.9586586877536047, subsample=0.7372290568197504; total time=  13.3s\n"
     ]
    },
    {
     "name": "stderr",
     "output_type": "stream",
     "text": [
      "/home/marco/projects/flawfinder/useful-comments-sorter-model/.venv/lib/python3.12/site-packages/xgboost/training.py:183: UserWarning: [13:54:23] WARNING: /workspace/src/learner.cc:738: \n",
      "Parameters: { \"use_label_encoder\" } are not used.\n",
      "\n",
      "  bst.update(dtrain, iteration=i, fobj=obj)\n"
     ]
    },
    {
     "name": "stdout",
     "output_type": "stream",
     "text": [
      "[CV] END colsample_bytree=0.9682608285738958, gamma=0.9844632708525323, learning_rate=0.19525717758041605, max_depth=6, min_child_weight=5, n_estimators=300, reg_alpha=0.8936359806821186, reg_lambda=1.9586586877536047, subsample=0.7372290568197504; total time=  13.7s\n",
      "Fitting 3 folds for each of 1 candidates, totalling 3 fits\n"
     ]
    },
    {
     "name": "stderr",
     "output_type": "stream",
     "text": [
      "/home/marco/projects/flawfinder/useful-comments-sorter-model/.venv/lib/python3.12/site-packages/xgboost/training.py:183: UserWarning: [13:54:40] WARNING: /workspace/src/learner.cc:738: \n",
      "Parameters: { \"use_label_encoder\" } are not used.\n",
      "\n",
      "  bst.update(dtrain, iteration=i, fobj=obj)\n"
     ]
    },
    {
     "name": "stdout",
     "output_type": "stream",
     "text": [
      "[CV] END colsample_bytree=0.8049058673050258, gamma=0.17605297742226303, learning_rate=0.1533843138597975, max_depth=8, min_child_weight=9, n_estimators=206, reg_alpha=1.5413327297963468, reg_lambda=0.2010171325045978, subsample=0.6130980319293741; total time=  19.7s\n"
     ]
    },
    {
     "name": "stderr",
     "output_type": "stream",
     "text": [
      "/home/marco/projects/flawfinder/useful-comments-sorter-model/.venv/lib/python3.12/site-packages/xgboost/training.py:183: UserWarning: [13:54:57] WARNING: /workspace/src/learner.cc:738: \n",
      "Parameters: { \"use_label_encoder\" } are not used.\n",
      "\n",
      "  bst.update(dtrain, iteration=i, fobj=obj)\n"
     ]
    },
    {
     "name": "stdout",
     "output_type": "stream",
     "text": [
      "[CV] END colsample_bytree=0.8049058673050258, gamma=0.17605297742226303, learning_rate=0.1533843138597975, max_depth=8, min_child_weight=9, n_estimators=206, reg_alpha=1.5413327297963468, reg_lambda=0.2010171325045978, subsample=0.6130980319293741; total time=  17.9s\n"
     ]
    },
    {
     "name": "stderr",
     "output_type": "stream",
     "text": [
      "/home/marco/projects/flawfinder/useful-comments-sorter-model/.venv/lib/python3.12/site-packages/xgboost/training.py:183: UserWarning: [13:55:18] WARNING: /workspace/src/learner.cc:738: \n",
      "Parameters: { \"use_label_encoder\" } are not used.\n",
      "\n",
      "  bst.update(dtrain, iteration=i, fobj=obj)\n"
     ]
    },
    {
     "name": "stdout",
     "output_type": "stream",
     "text": [
      "[CV] END colsample_bytree=0.8049058673050258, gamma=0.17605297742226303, learning_rate=0.1533843138597975, max_depth=8, min_child_weight=9, n_estimators=206, reg_alpha=1.5413327297963468, reg_lambda=0.2010171325045978, subsample=0.6130980319293741; total time=  20.0s\n",
      "Fitting 3 folds for each of 1 candidates, totalling 3 fits\n"
     ]
    },
    {
     "name": "stderr",
     "output_type": "stream",
     "text": [
      "/home/marco/projects/flawfinder/useful-comments-sorter-model/.venv/lib/python3.12/site-packages/xgboost/training.py:183: UserWarning: [13:55:39] WARNING: /workspace/src/learner.cc:738: \n",
      "Parameters: { \"use_label_encoder\" } are not used.\n",
      "\n",
      "  bst.update(dtrain, iteration=i, fobj=obj)\n"
     ]
    },
    {
     "name": "stdout",
     "output_type": "stream",
     "text": [
      "[CV] END colsample_bytree=0.8892191244338314, gamma=4.836467201829181, learning_rate=0.018506685856437003, max_depth=8, min_child_weight=7, n_estimators=299, reg_alpha=1.585250512600822, reg_lambda=0.29403476076224716, subsample=0.5354894829340601; total time=  34.8s\n"
     ]
    },
    {
     "name": "stderr",
     "output_type": "stream",
     "text": [
      "/home/marco/projects/flawfinder/useful-comments-sorter-model/.venv/lib/python3.12/site-packages/xgboost/training.py:183: UserWarning: [13:56:11] WARNING: /workspace/src/learner.cc:738: \n",
      "Parameters: { \"use_label_encoder\" } are not used.\n",
      "\n",
      "  bst.update(dtrain, iteration=i, fobj=obj)\n"
     ]
    },
    {
     "name": "stdout",
     "output_type": "stream",
     "text": [
      "[CV] END colsample_bytree=0.8892191244338314, gamma=4.836467201829181, learning_rate=0.018506685856437003, max_depth=8, min_child_weight=7, n_estimators=299, reg_alpha=1.585250512600822, reg_lambda=0.29403476076224716, subsample=0.5354894829340601; total time=  31.8s\n"
     ]
    },
    {
     "name": "stderr",
     "output_type": "stream",
     "text": [
      "/home/marco/projects/flawfinder/useful-comments-sorter-model/.venv/lib/python3.12/site-packages/xgboost/training.py:183: UserWarning: [13:56:45] WARNING: /workspace/src/learner.cc:738: \n",
      "Parameters: { \"use_label_encoder\" } are not used.\n",
      "\n",
      "  bst.update(dtrain, iteration=i, fobj=obj)\n"
     ]
    },
    {
     "name": "stdout",
     "output_type": "stream",
     "text": [
      "[CV] END colsample_bytree=0.8892191244338314, gamma=4.836467201829181, learning_rate=0.018506685856437003, max_depth=8, min_child_weight=7, n_estimators=299, reg_alpha=1.585250512600822, reg_lambda=0.29403476076224716, subsample=0.5354894829340601; total time=  33.4s\n",
      "Fitting 3 folds for each of 1 candidates, totalling 3 fits\n"
     ]
    },
    {
     "name": "stderr",
     "output_type": "stream",
     "text": [
      "/home/marco/projects/flawfinder/useful-comments-sorter-model/.venv/lib/python3.12/site-packages/xgboost/training.py:183: UserWarning: [13:57:20] WARNING: /workspace/src/learner.cc:738: \n",
      "Parameters: { \"use_label_encoder\" } are not used.\n",
      "\n",
      "  bst.update(dtrain, iteration=i, fobj=obj)\n"
     ]
    },
    {
     "name": "stdout",
     "output_type": "stream",
     "text": [
      "[CV] END colsample_bytree=1.0, gamma=0.0, learning_rate=0.05495627199474921, max_depth=9, min_child_weight=10, n_estimators=300, reg_alpha=2.0, reg_lambda=2.0, subsample=0.5; total time=  40.3s\n"
     ]
    },
    {
     "name": "stderr",
     "output_type": "stream",
     "text": [
      "/home/marco/projects/flawfinder/useful-comments-sorter-model/.venv/lib/python3.12/site-packages/xgboost/training.py:183: UserWarning: [13:57:59] WARNING: /workspace/src/learner.cc:738: \n",
      "Parameters: { \"use_label_encoder\" } are not used.\n",
      "\n",
      "  bst.update(dtrain, iteration=i, fobj=obj)\n"
     ]
    },
    {
     "name": "stdout",
     "output_type": "stream",
     "text": [
      "[CV] END colsample_bytree=1.0, gamma=0.0, learning_rate=0.05495627199474921, max_depth=9, min_child_weight=10, n_estimators=300, reg_alpha=2.0, reg_lambda=2.0, subsample=0.5; total time=  39.0s\n"
     ]
    },
    {
     "name": "stderr",
     "output_type": "stream",
     "text": [
      "/home/marco/projects/flawfinder/useful-comments-sorter-model/.venv/lib/python3.12/site-packages/xgboost/training.py:183: UserWarning: [13:58:40] WARNING: /workspace/src/learner.cc:738: \n",
      "Parameters: { \"use_label_encoder\" } are not used.\n",
      "\n",
      "  bst.update(dtrain, iteration=i, fobj=obj)\n"
     ]
    },
    {
     "name": "stdout",
     "output_type": "stream",
     "text": [
      "[CV] END colsample_bytree=1.0, gamma=0.0, learning_rate=0.05495627199474921, max_depth=9, min_child_weight=10, n_estimators=300, reg_alpha=2.0, reg_lambda=2.0, subsample=0.5; total time=  40.9s\n",
      "Fitting 3 folds for each of 1 candidates, totalling 3 fits\n"
     ]
    },
    {
     "name": "stderr",
     "output_type": "stream",
     "text": [
      "/home/marco/projects/flawfinder/useful-comments-sorter-model/.venv/lib/python3.12/site-packages/xgboost/training.py:183: UserWarning: [13:59:21] WARNING: /workspace/src/learner.cc:738: \n",
      "Parameters: { \"use_label_encoder\" } are not used.\n",
      "\n",
      "  bst.update(dtrain, iteration=i, fobj=obj)\n"
     ]
    },
    {
     "name": "stdout",
     "output_type": "stream",
     "text": [
      "[CV] END colsample_bytree=0.8458431488190256, gamma=0.008170219561988159, learning_rate=0.06590024654274663, max_depth=3, min_child_weight=6, n_estimators=116, reg_alpha=0.06544135617423953, reg_lambda=1.6131061281772625, subsample=0.9281454408890097; total time=   4.3s\n"
     ]
    },
    {
     "name": "stderr",
     "output_type": "stream",
     "text": [
      "/home/marco/projects/flawfinder/useful-comments-sorter-model/.venv/lib/python3.12/site-packages/xgboost/training.py:183: UserWarning: [13:59:24] WARNING: /workspace/src/learner.cc:738: \n",
      "Parameters: { \"use_label_encoder\" } are not used.\n",
      "\n",
      "  bst.update(dtrain, iteration=i, fobj=obj)\n"
     ]
    },
    {
     "name": "stdout",
     "output_type": "stream",
     "text": [
      "[CV] END colsample_bytree=0.8458431488190256, gamma=0.008170219561988159, learning_rate=0.06590024654274663, max_depth=3, min_child_weight=6, n_estimators=116, reg_alpha=0.06544135617423953, reg_lambda=1.6131061281772625, subsample=0.9281454408890097; total time=   3.1s\n"
     ]
    },
    {
     "name": "stderr",
     "output_type": "stream",
     "text": [
      "/home/marco/projects/flawfinder/useful-comments-sorter-model/.venv/lib/python3.12/site-packages/xgboost/training.py:183: UserWarning: [13:59:27] WARNING: /workspace/src/learner.cc:738: \n",
      "Parameters: { \"use_label_encoder\" } are not used.\n",
      "\n",
      "  bst.update(dtrain, iteration=i, fobj=obj)\n"
     ]
    },
    {
     "name": "stdout",
     "output_type": "stream",
     "text": [
      "[CV] END colsample_bytree=0.8458431488190256, gamma=0.008170219561988159, learning_rate=0.06590024654274663, max_depth=3, min_child_weight=6, n_estimators=116, reg_alpha=0.06544135617423953, reg_lambda=1.6131061281772625, subsample=0.9281454408890097; total time=   3.2s\n",
      "Fitting 3 folds for each of 1 candidates, totalling 3 fits\n"
     ]
    },
    {
     "name": "stderr",
     "output_type": "stream",
     "text": [
      "/home/marco/projects/flawfinder/useful-comments-sorter-model/.venv/lib/python3.12/site-packages/xgboost/training.py:183: UserWarning: [13:59:31] WARNING: /workspace/src/learner.cc:738: \n",
      "Parameters: { \"use_label_encoder\" } are not used.\n",
      "\n",
      "  bst.update(dtrain, iteration=i, fobj=obj)\n"
     ]
    },
    {
     "name": "stdout",
     "output_type": "stream",
     "text": [
      "[CV] END colsample_bytree=0.5657010818865271, gamma=0.2032829764792016, learning_rate=0.040247974328028936, max_depth=7, min_child_weight=8, n_estimators=105, reg_alpha=0.8479029296245675, reg_lambda=1.9148696443875421, subsample=0.9770458780747879; total time=   8.9s\n"
     ]
    },
    {
     "name": "stderr",
     "output_type": "stream",
     "text": [
      "/home/marco/projects/flawfinder/useful-comments-sorter-model/.venv/lib/python3.12/site-packages/xgboost/training.py:183: UserWarning: [13:59:40] WARNING: /workspace/src/learner.cc:738: \n",
      "Parameters: { \"use_label_encoder\" } are not used.\n",
      "\n",
      "  bst.update(dtrain, iteration=i, fobj=obj)\n"
     ]
    },
    {
     "name": "stdout",
     "output_type": "stream",
     "text": [
      "[CV] END colsample_bytree=0.5657010818865271, gamma=0.2032829764792016, learning_rate=0.040247974328028936, max_depth=7, min_child_weight=8, n_estimators=105, reg_alpha=0.8479029296245675, reg_lambda=1.9148696443875421, subsample=0.9770458780747879; total time=   8.4s\n"
     ]
    },
    {
     "name": "stderr",
     "output_type": "stream",
     "text": [
      "/home/marco/projects/flawfinder/useful-comments-sorter-model/.venv/lib/python3.12/site-packages/xgboost/training.py:183: UserWarning: [13:59:51] WARNING: /workspace/src/learner.cc:738: \n",
      "Parameters: { \"use_label_encoder\" } are not used.\n",
      "\n",
      "  bst.update(dtrain, iteration=i, fobj=obj)\n"
     ]
    },
    {
     "name": "stdout",
     "output_type": "stream",
     "text": [
      "[CV] END colsample_bytree=0.5657010818865271, gamma=0.2032829764792016, learning_rate=0.040247974328028936, max_depth=7, min_child_weight=8, n_estimators=105, reg_alpha=0.8479029296245675, reg_lambda=1.9148696443875421, subsample=0.9770458780747879; total time=  10.4s\n",
      "Fitting 3 folds for each of 1 candidates, totalling 3 fits\n"
     ]
    },
    {
     "name": "stderr",
     "output_type": "stream",
     "text": [
      "/home/marco/projects/flawfinder/useful-comments-sorter-model/.venv/lib/python3.12/site-packages/xgboost/training.py:183: UserWarning: [14:00:01] WARNING: /workspace/src/learner.cc:738: \n",
      "Parameters: { \"use_label_encoder\" } are not used.\n",
      "\n",
      "  bst.update(dtrain, iteration=i, fobj=obj)\n"
     ]
    },
    {
     "name": "stdout",
     "output_type": "stream",
     "text": [
      "[CV] END colsample_bytree=0.7468283533956264, gamma=4.895688493883358, learning_rate=0.02526206172212955, max_depth=10, min_child_weight=1, n_estimators=299, reg_alpha=1.6774505711636998, reg_lambda=1.539819962375651, subsample=0.8354735811768219; total time= 2.6min\n"
     ]
    },
    {
     "name": "stderr",
     "output_type": "stream",
     "text": [
      "/home/marco/projects/flawfinder/useful-comments-sorter-model/.venv/lib/python3.12/site-packages/xgboost/training.py:183: UserWarning: [14:02:37] WARNING: /workspace/src/learner.cc:738: \n",
      "Parameters: { \"use_label_encoder\" } are not used.\n",
      "\n",
      "  bst.update(dtrain, iteration=i, fobj=obj)\n"
     ]
    },
    {
     "name": "stdout",
     "output_type": "stream",
     "text": [
      "[CV] END colsample_bytree=0.7468283533956264, gamma=4.895688493883358, learning_rate=0.02526206172212955, max_depth=10, min_child_weight=1, n_estimators=299, reg_alpha=1.6774505711636998, reg_lambda=1.539819962375651, subsample=0.8354735811768219; total time= 2.5min\n"
     ]
    },
    {
     "name": "stderr",
     "output_type": "stream",
     "text": [
      "/home/marco/projects/flawfinder/useful-comments-sorter-model/.venv/lib/python3.12/site-packages/xgboost/training.py:183: UserWarning: [14:05:08] WARNING: /workspace/src/learner.cc:738: \n",
      "Parameters: { \"use_label_encoder\" } are not used.\n",
      "\n",
      "  bst.update(dtrain, iteration=i, fobj=obj)\n"
     ]
    },
    {
     "name": "stdout",
     "output_type": "stream",
     "text": [
      "[CV] END colsample_bytree=0.7468283533956264, gamma=4.895688493883358, learning_rate=0.02526206172212955, max_depth=10, min_child_weight=1, n_estimators=299, reg_alpha=1.6774505711636998, reg_lambda=1.539819962375651, subsample=0.8354735811768219; total time= 2.6min\n",
      "Fitting 3 folds for each of 1 candidates, totalling 3 fits\n"
     ]
    },
    {
     "name": "stderr",
     "output_type": "stream",
     "text": [
      "/home/marco/projects/flawfinder/useful-comments-sorter-model/.venv/lib/python3.12/site-packages/xgboost/training.py:183: UserWarning: [14:07:42] WARNING: /workspace/src/learner.cc:738: \n",
      "Parameters: { \"use_label_encoder\" } are not used.\n",
      "\n",
      "  bst.update(dtrain, iteration=i, fobj=obj)\n"
     ]
    },
    {
     "name": "stdout",
     "output_type": "stream",
     "text": [
      "[CV] END colsample_bytree=0.5, gamma=5.0, learning_rate=0.05123396574074597, max_depth=8, min_child_weight=1, n_estimators=300, reg_alpha=2.0, reg_lambda=2.0, subsample=0.5; total time=  20.9s\n"
     ]
    },
    {
     "name": "stderr",
     "output_type": "stream",
     "text": [
      "/home/marco/projects/flawfinder/useful-comments-sorter-model/.venv/lib/python3.12/site-packages/xgboost/training.py:183: UserWarning: [14:08:03] WARNING: /workspace/src/learner.cc:738: \n",
      "Parameters: { \"use_label_encoder\" } are not used.\n",
      "\n",
      "  bst.update(dtrain, iteration=i, fobj=obj)\n"
     ]
    },
    {
     "name": "stdout",
     "output_type": "stream",
     "text": [
      "[CV] END colsample_bytree=0.5, gamma=5.0, learning_rate=0.05123396574074597, max_depth=8, min_child_weight=1, n_estimators=300, reg_alpha=2.0, reg_lambda=2.0, subsample=0.5; total time=  19.3s\n"
     ]
    },
    {
     "name": "stderr",
     "output_type": "stream",
     "text": [
      "/home/marco/projects/flawfinder/useful-comments-sorter-model/.venv/lib/python3.12/site-packages/xgboost/training.py:183: UserWarning: [14:08:24] WARNING: /workspace/src/learner.cc:738: \n",
      "Parameters: { \"use_label_encoder\" } are not used.\n",
      "\n",
      "  bst.update(dtrain, iteration=i, fobj=obj)\n"
     ]
    },
    {
     "name": "stdout",
     "output_type": "stream",
     "text": [
      "[CV] END colsample_bytree=0.5, gamma=5.0, learning_rate=0.05123396574074597, max_depth=8, min_child_weight=1, n_estimators=300, reg_alpha=2.0, reg_lambda=2.0, subsample=0.5; total time=  22.9s\n"
     ]
    },
    {
     "name": "stderr",
     "output_type": "stream",
     "text": [
      "/home/marco/projects/flawfinder/useful-comments-sorter-model/.venv/lib/python3.12/site-packages/xgboost/training.py:183: UserWarning: [14:08:50] WARNING: /workspace/src/learner.cc:738: \n",
      "Parameters: { \"use_label_encoder\" } are not used.\n",
      "\n",
      "  bst.update(dtrain, iteration=i, fobj=obj)\n"
     ]
    },
    {
     "data": {
      "text/html": [
       "<style>#sk-container-id-12 {\n",
       "  /* Definition of color scheme common for light and dark mode */\n",
       "  --sklearn-color-text: #000;\n",
       "  --sklearn-color-text-muted: #666;\n",
       "  --sklearn-color-line: gray;\n",
       "  /* Definition of color scheme for unfitted estimators */\n",
       "  --sklearn-color-unfitted-level-0: #fff5e6;\n",
       "  --sklearn-color-unfitted-level-1: #f6e4d2;\n",
       "  --sklearn-color-unfitted-level-2: #ffe0b3;\n",
       "  --sklearn-color-unfitted-level-3: chocolate;\n",
       "  /* Definition of color scheme for fitted estimators */\n",
       "  --sklearn-color-fitted-level-0: #f0f8ff;\n",
       "  --sklearn-color-fitted-level-1: #d4ebff;\n",
       "  --sklearn-color-fitted-level-2: #b3dbfd;\n",
       "  --sklearn-color-fitted-level-3: cornflowerblue;\n",
       "\n",
       "  /* Specific color for light theme */\n",
       "  --sklearn-color-text-on-default-background: var(--sg-text-color, var(--theme-code-foreground, var(--jp-content-font-color1, black)));\n",
       "  --sklearn-color-background: var(--sg-background-color, var(--theme-background, var(--jp-layout-color0, white)));\n",
       "  --sklearn-color-border-box: var(--sg-text-color, var(--theme-code-foreground, var(--jp-content-font-color1, black)));\n",
       "  --sklearn-color-icon: #696969;\n",
       "\n",
       "  @media (prefers-color-scheme: dark) {\n",
       "    /* Redefinition of color scheme for dark theme */\n",
       "    --sklearn-color-text-on-default-background: var(--sg-text-color, var(--theme-code-foreground, var(--jp-content-font-color1, white)));\n",
       "    --sklearn-color-background: var(--sg-background-color, var(--theme-background, var(--jp-layout-color0, #111)));\n",
       "    --sklearn-color-border-box: var(--sg-text-color, var(--theme-code-foreground, var(--jp-content-font-color1, white)));\n",
       "    --sklearn-color-icon: #878787;\n",
       "  }\n",
       "}\n",
       "\n",
       "#sk-container-id-12 {\n",
       "  color: var(--sklearn-color-text);\n",
       "}\n",
       "\n",
       "#sk-container-id-12 pre {\n",
       "  padding: 0;\n",
       "}\n",
       "\n",
       "#sk-container-id-12 input.sk-hidden--visually {\n",
       "  border: 0;\n",
       "  clip: rect(1px 1px 1px 1px);\n",
       "  clip: rect(1px, 1px, 1px, 1px);\n",
       "  height: 1px;\n",
       "  margin: -1px;\n",
       "  overflow: hidden;\n",
       "  padding: 0;\n",
       "  position: absolute;\n",
       "  width: 1px;\n",
       "}\n",
       "\n",
       "#sk-container-id-12 div.sk-dashed-wrapped {\n",
       "  border: 1px dashed var(--sklearn-color-line);\n",
       "  margin: 0 0.4em 0.5em 0.4em;\n",
       "  box-sizing: border-box;\n",
       "  padding-bottom: 0.4em;\n",
       "  background-color: var(--sklearn-color-background);\n",
       "}\n",
       "\n",
       "#sk-container-id-12 div.sk-container {\n",
       "  /* jupyter's `normalize.less` sets `[hidden] { display: none; }`\n",
       "     but bootstrap.min.css set `[hidden] { display: none !important; }`\n",
       "     so we also need the `!important` here to be able to override the\n",
       "     default hidden behavior on the sphinx rendered scikit-learn.org.\n",
       "     See: https://github.com/scikit-learn/scikit-learn/issues/21755 */\n",
       "  display: inline-block !important;\n",
       "  position: relative;\n",
       "}\n",
       "\n",
       "#sk-container-id-12 div.sk-text-repr-fallback {\n",
       "  display: none;\n",
       "}\n",
       "\n",
       "div.sk-parallel-item,\n",
       "div.sk-serial,\n",
       "div.sk-item {\n",
       "  /* draw centered vertical line to link estimators */\n",
       "  background-image: linear-gradient(var(--sklearn-color-text-on-default-background), var(--sklearn-color-text-on-default-background));\n",
       "  background-size: 2px 100%;\n",
       "  background-repeat: no-repeat;\n",
       "  background-position: center center;\n",
       "}\n",
       "\n",
       "/* Parallel-specific style estimator block */\n",
       "\n",
       "#sk-container-id-12 div.sk-parallel-item::after {\n",
       "  content: \"\";\n",
       "  width: 100%;\n",
       "  border-bottom: 2px solid var(--sklearn-color-text-on-default-background);\n",
       "  flex-grow: 1;\n",
       "}\n",
       "\n",
       "#sk-container-id-12 div.sk-parallel {\n",
       "  display: flex;\n",
       "  align-items: stretch;\n",
       "  justify-content: center;\n",
       "  background-color: var(--sklearn-color-background);\n",
       "  position: relative;\n",
       "}\n",
       "\n",
       "#sk-container-id-12 div.sk-parallel-item {\n",
       "  display: flex;\n",
       "  flex-direction: column;\n",
       "}\n",
       "\n",
       "#sk-container-id-12 div.sk-parallel-item:first-child::after {\n",
       "  align-self: flex-end;\n",
       "  width: 50%;\n",
       "}\n",
       "\n",
       "#sk-container-id-12 div.sk-parallel-item:last-child::after {\n",
       "  align-self: flex-start;\n",
       "  width: 50%;\n",
       "}\n",
       "\n",
       "#sk-container-id-12 div.sk-parallel-item:only-child::after {\n",
       "  width: 0;\n",
       "}\n",
       "\n",
       "/* Serial-specific style estimator block */\n",
       "\n",
       "#sk-container-id-12 div.sk-serial {\n",
       "  display: flex;\n",
       "  flex-direction: column;\n",
       "  align-items: center;\n",
       "  background-color: var(--sklearn-color-background);\n",
       "  padding-right: 1em;\n",
       "  padding-left: 1em;\n",
       "}\n",
       "\n",
       "\n",
       "/* Toggleable style: style used for estimator/Pipeline/ColumnTransformer box that is\n",
       "clickable and can be expanded/collapsed.\n",
       "- Pipeline and ColumnTransformer use this feature and define the default style\n",
       "- Estimators will overwrite some part of the style using the `sk-estimator` class\n",
       "*/\n",
       "\n",
       "/* Pipeline and ColumnTransformer style (default) */\n",
       "\n",
       "#sk-container-id-12 div.sk-toggleable {\n",
       "  /* Default theme specific background. It is overwritten whether we have a\n",
       "  specific estimator or a Pipeline/ColumnTransformer */\n",
       "  background-color: var(--sklearn-color-background);\n",
       "}\n",
       "\n",
       "/* Toggleable label */\n",
       "#sk-container-id-12 label.sk-toggleable__label {\n",
       "  cursor: pointer;\n",
       "  display: flex;\n",
       "  width: 100%;\n",
       "  margin-bottom: 0;\n",
       "  padding: 0.5em;\n",
       "  box-sizing: border-box;\n",
       "  text-align: center;\n",
       "  align-items: start;\n",
       "  justify-content: space-between;\n",
       "  gap: 0.5em;\n",
       "}\n",
       "\n",
       "#sk-container-id-12 label.sk-toggleable__label .caption {\n",
       "  font-size: 0.6rem;\n",
       "  font-weight: lighter;\n",
       "  color: var(--sklearn-color-text-muted);\n",
       "}\n",
       "\n",
       "#sk-container-id-12 label.sk-toggleable__label-arrow:before {\n",
       "  /* Arrow on the left of the label */\n",
       "  content: \"▸\";\n",
       "  float: left;\n",
       "  margin-right: 0.25em;\n",
       "  color: var(--sklearn-color-icon);\n",
       "}\n",
       "\n",
       "#sk-container-id-12 label.sk-toggleable__label-arrow:hover:before {\n",
       "  color: var(--sklearn-color-text);\n",
       "}\n",
       "\n",
       "/* Toggleable content - dropdown */\n",
       "\n",
       "#sk-container-id-12 div.sk-toggleable__content {\n",
       "  max-height: 0;\n",
       "  max-width: 0;\n",
       "  overflow: hidden;\n",
       "  text-align: left;\n",
       "  /* unfitted */\n",
       "  background-color: var(--sklearn-color-unfitted-level-0);\n",
       "}\n",
       "\n",
       "#sk-container-id-12 div.sk-toggleable__content.fitted {\n",
       "  /* fitted */\n",
       "  background-color: var(--sklearn-color-fitted-level-0);\n",
       "}\n",
       "\n",
       "#sk-container-id-12 div.sk-toggleable__content pre {\n",
       "  margin: 0.2em;\n",
       "  border-radius: 0.25em;\n",
       "  color: var(--sklearn-color-text);\n",
       "  /* unfitted */\n",
       "  background-color: var(--sklearn-color-unfitted-level-0);\n",
       "}\n",
       "\n",
       "#sk-container-id-12 div.sk-toggleable__content.fitted pre {\n",
       "  /* unfitted */\n",
       "  background-color: var(--sklearn-color-fitted-level-0);\n",
       "}\n",
       "\n",
       "#sk-container-id-12 input.sk-toggleable__control:checked~div.sk-toggleable__content {\n",
       "  /* Expand drop-down */\n",
       "  max-height: 200px;\n",
       "  max-width: 100%;\n",
       "  overflow: auto;\n",
       "}\n",
       "\n",
       "#sk-container-id-12 input.sk-toggleable__control:checked~label.sk-toggleable__label-arrow:before {\n",
       "  content: \"▾\";\n",
       "}\n",
       "\n",
       "/* Pipeline/ColumnTransformer-specific style */\n",
       "\n",
       "#sk-container-id-12 div.sk-label input.sk-toggleable__control:checked~label.sk-toggleable__label {\n",
       "  color: var(--sklearn-color-text);\n",
       "  background-color: var(--sklearn-color-unfitted-level-2);\n",
       "}\n",
       "\n",
       "#sk-container-id-12 div.sk-label.fitted input.sk-toggleable__control:checked~label.sk-toggleable__label {\n",
       "  background-color: var(--sklearn-color-fitted-level-2);\n",
       "}\n",
       "\n",
       "/* Estimator-specific style */\n",
       "\n",
       "/* Colorize estimator box */\n",
       "#sk-container-id-12 div.sk-estimator input.sk-toggleable__control:checked~label.sk-toggleable__label {\n",
       "  /* unfitted */\n",
       "  background-color: var(--sklearn-color-unfitted-level-2);\n",
       "}\n",
       "\n",
       "#sk-container-id-12 div.sk-estimator.fitted input.sk-toggleable__control:checked~label.sk-toggleable__label {\n",
       "  /* fitted */\n",
       "  background-color: var(--sklearn-color-fitted-level-2);\n",
       "}\n",
       "\n",
       "#sk-container-id-12 div.sk-label label.sk-toggleable__label,\n",
       "#sk-container-id-12 div.sk-label label {\n",
       "  /* The background is the default theme color */\n",
       "  color: var(--sklearn-color-text-on-default-background);\n",
       "}\n",
       "\n",
       "/* On hover, darken the color of the background */\n",
       "#sk-container-id-12 div.sk-label:hover label.sk-toggleable__label {\n",
       "  color: var(--sklearn-color-text);\n",
       "  background-color: var(--sklearn-color-unfitted-level-2);\n",
       "}\n",
       "\n",
       "/* Label box, darken color on hover, fitted */\n",
       "#sk-container-id-12 div.sk-label.fitted:hover label.sk-toggleable__label.fitted {\n",
       "  color: var(--sklearn-color-text);\n",
       "  background-color: var(--sklearn-color-fitted-level-2);\n",
       "}\n",
       "\n",
       "/* Estimator label */\n",
       "\n",
       "#sk-container-id-12 div.sk-label label {\n",
       "  font-family: monospace;\n",
       "  font-weight: bold;\n",
       "  display: inline-block;\n",
       "  line-height: 1.2em;\n",
       "}\n",
       "\n",
       "#sk-container-id-12 div.sk-label-container {\n",
       "  text-align: center;\n",
       "}\n",
       "\n",
       "/* Estimator-specific */\n",
       "#sk-container-id-12 div.sk-estimator {\n",
       "  font-family: monospace;\n",
       "  border: 1px dotted var(--sklearn-color-border-box);\n",
       "  border-radius: 0.25em;\n",
       "  box-sizing: border-box;\n",
       "  margin-bottom: 0.5em;\n",
       "  /* unfitted */\n",
       "  background-color: var(--sklearn-color-unfitted-level-0);\n",
       "}\n",
       "\n",
       "#sk-container-id-12 div.sk-estimator.fitted {\n",
       "  /* fitted */\n",
       "  background-color: var(--sklearn-color-fitted-level-0);\n",
       "}\n",
       "\n",
       "/* on hover */\n",
       "#sk-container-id-12 div.sk-estimator:hover {\n",
       "  /* unfitted */\n",
       "  background-color: var(--sklearn-color-unfitted-level-2);\n",
       "}\n",
       "\n",
       "#sk-container-id-12 div.sk-estimator.fitted:hover {\n",
       "  /* fitted */\n",
       "  background-color: var(--sklearn-color-fitted-level-2);\n",
       "}\n",
       "\n",
       "/* Specification for estimator info (e.g. \"i\" and \"?\") */\n",
       "\n",
       "/* Common style for \"i\" and \"?\" */\n",
       "\n",
       ".sk-estimator-doc-link,\n",
       "a:link.sk-estimator-doc-link,\n",
       "a:visited.sk-estimator-doc-link {\n",
       "  float: right;\n",
       "  font-size: smaller;\n",
       "  line-height: 1em;\n",
       "  font-family: monospace;\n",
       "  background-color: var(--sklearn-color-background);\n",
       "  border-radius: 1em;\n",
       "  height: 1em;\n",
       "  width: 1em;\n",
       "  text-decoration: none !important;\n",
       "  margin-left: 0.5em;\n",
       "  text-align: center;\n",
       "  /* unfitted */\n",
       "  border: var(--sklearn-color-unfitted-level-1) 1pt solid;\n",
       "  color: var(--sklearn-color-unfitted-level-1);\n",
       "}\n",
       "\n",
       ".sk-estimator-doc-link.fitted,\n",
       "a:link.sk-estimator-doc-link.fitted,\n",
       "a:visited.sk-estimator-doc-link.fitted {\n",
       "  /* fitted */\n",
       "  border: var(--sklearn-color-fitted-level-1) 1pt solid;\n",
       "  color: var(--sklearn-color-fitted-level-1);\n",
       "}\n",
       "\n",
       "/* On hover */\n",
       "div.sk-estimator:hover .sk-estimator-doc-link:hover,\n",
       ".sk-estimator-doc-link:hover,\n",
       "div.sk-label-container:hover .sk-estimator-doc-link:hover,\n",
       ".sk-estimator-doc-link:hover {\n",
       "  /* unfitted */\n",
       "  background-color: var(--sklearn-color-unfitted-level-3);\n",
       "  color: var(--sklearn-color-background);\n",
       "  text-decoration: none;\n",
       "}\n",
       "\n",
       "div.sk-estimator.fitted:hover .sk-estimator-doc-link.fitted:hover,\n",
       ".sk-estimator-doc-link.fitted:hover,\n",
       "div.sk-label-container:hover .sk-estimator-doc-link.fitted:hover,\n",
       ".sk-estimator-doc-link.fitted:hover {\n",
       "  /* fitted */\n",
       "  background-color: var(--sklearn-color-fitted-level-3);\n",
       "  color: var(--sklearn-color-background);\n",
       "  text-decoration: none;\n",
       "}\n",
       "\n",
       "/* Span, style for the box shown on hovering the info icon */\n",
       ".sk-estimator-doc-link span {\n",
       "  display: none;\n",
       "  z-index: 9999;\n",
       "  position: relative;\n",
       "  font-weight: normal;\n",
       "  right: .2ex;\n",
       "  padding: .5ex;\n",
       "  margin: .5ex;\n",
       "  width: min-content;\n",
       "  min-width: 20ex;\n",
       "  max-width: 50ex;\n",
       "  color: var(--sklearn-color-text);\n",
       "  box-shadow: 2pt 2pt 4pt #999;\n",
       "  /* unfitted */\n",
       "  background: var(--sklearn-color-unfitted-level-0);\n",
       "  border: .5pt solid var(--sklearn-color-unfitted-level-3);\n",
       "}\n",
       "\n",
       ".sk-estimator-doc-link.fitted span {\n",
       "  /* fitted */\n",
       "  background: var(--sklearn-color-fitted-level-0);\n",
       "  border: var(--sklearn-color-fitted-level-3);\n",
       "}\n",
       "\n",
       ".sk-estimator-doc-link:hover span {\n",
       "  display: block;\n",
       "}\n",
       "\n",
       "/* \"?\"-specific style due to the `<a>` HTML tag */\n",
       "\n",
       "#sk-container-id-12 a.estimator_doc_link {\n",
       "  float: right;\n",
       "  font-size: 1rem;\n",
       "  line-height: 1em;\n",
       "  font-family: monospace;\n",
       "  background-color: var(--sklearn-color-background);\n",
       "  border-radius: 1rem;\n",
       "  height: 1rem;\n",
       "  width: 1rem;\n",
       "  text-decoration: none;\n",
       "  /* unfitted */\n",
       "  color: var(--sklearn-color-unfitted-level-1);\n",
       "  border: var(--sklearn-color-unfitted-level-1) 1pt solid;\n",
       "}\n",
       "\n",
       "#sk-container-id-12 a.estimator_doc_link.fitted {\n",
       "  /* fitted */\n",
       "  border: var(--sklearn-color-fitted-level-1) 1pt solid;\n",
       "  color: var(--sklearn-color-fitted-level-1);\n",
       "}\n",
       "\n",
       "/* On hover */\n",
       "#sk-container-id-12 a.estimator_doc_link:hover {\n",
       "  /* unfitted */\n",
       "  background-color: var(--sklearn-color-unfitted-level-3);\n",
       "  color: var(--sklearn-color-background);\n",
       "  text-decoration: none;\n",
       "}\n",
       "\n",
       "#sk-container-id-12 a.estimator_doc_link.fitted:hover {\n",
       "  /* fitted */\n",
       "  background-color: var(--sklearn-color-fitted-level-3);\n",
       "}\n",
       "</style><div id=\"sk-container-id-12\" class=\"sk-top-container\"><div class=\"sk-text-repr-fallback\"><pre>BayesSearchCV(cv=3,\n",
       "              estimator=XGBClassifier(base_score=None, booster=None,\n",
       "                                      callbacks=None, colsample_bylevel=None,\n",
       "                                      colsample_bynode=None,\n",
       "                                      colsample_bytree=None, device=&#x27;cuda&#x27;,\n",
       "                                      early_stopping_rounds=None,\n",
       "                                      enable_categorical=False,\n",
       "                                      eval_metric=&#x27;logloss&#x27;, feature_types=None,\n",
       "                                      feature_weights=None, gamma=None,\n",
       "                                      grow_policy=None, importance_type=None,\n",
       "                                      interaction_constra...\n",
       "                             &#x27;min_child_weight&#x27;: Integer(low=1, high=10, prior=&#x27;uniform&#x27;, transform=&#x27;normalize&#x27;),\n",
       "                             &#x27;n_estimators&#x27;: Integer(low=100, high=300, prior=&#x27;uniform&#x27;, transform=&#x27;normalize&#x27;),\n",
       "                             &#x27;reg_alpha&#x27;: Real(low=0, high=2, prior=&#x27;uniform&#x27;, transform=&#x27;normalize&#x27;),\n",
       "                             &#x27;reg_lambda&#x27;: Real(low=0, high=2, prior=&#x27;uniform&#x27;, transform=&#x27;normalize&#x27;),\n",
       "                             &#x27;subsample&#x27;: Real(low=0.5, high=1.0, prior=&#x27;uniform&#x27;, transform=&#x27;normalize&#x27;)},\n",
       "              verbose=2)</pre><b>In a Jupyter environment, please rerun this cell to show the HTML representation or trust the notebook. <br />On GitHub, the HTML representation is unable to render, please try loading this page with nbviewer.org.</b></div><div class=\"sk-container\" hidden><div class=\"sk-item sk-dashed-wrapped\"><div class=\"sk-label-container\"><div class=\"sk-label fitted sk-toggleable\"><input class=\"sk-toggleable__control sk-hidden--visually\" id=\"sk-estimator-id-12\" type=\"checkbox\" ><label for=\"sk-estimator-id-12\" class=\"sk-toggleable__label fitted sk-toggleable__label-arrow\"><div><div>BayesSearchCV</div></div><div><span class=\"sk-estimator-doc-link fitted\">i<span>Fitted</span></span></div></label><div class=\"sk-toggleable__content fitted\"><pre>BayesSearchCV(cv=3,\n",
       "              estimator=XGBClassifier(base_score=None, booster=None,\n",
       "                                      callbacks=None, colsample_bylevel=None,\n",
       "                                      colsample_bynode=None,\n",
       "                                      colsample_bytree=None, device=&#x27;cuda&#x27;,\n",
       "                                      early_stopping_rounds=None,\n",
       "                                      enable_categorical=False,\n",
       "                                      eval_metric=&#x27;logloss&#x27;, feature_types=None,\n",
       "                                      feature_weights=None, gamma=None,\n",
       "                                      grow_policy=None, importance_type=None,\n",
       "                                      interaction_constra...\n",
       "                             &#x27;min_child_weight&#x27;: Integer(low=1, high=10, prior=&#x27;uniform&#x27;, transform=&#x27;normalize&#x27;),\n",
       "                             &#x27;n_estimators&#x27;: Integer(low=100, high=300, prior=&#x27;uniform&#x27;, transform=&#x27;normalize&#x27;),\n",
       "                             &#x27;reg_alpha&#x27;: Real(low=0, high=2, prior=&#x27;uniform&#x27;, transform=&#x27;normalize&#x27;),\n",
       "                             &#x27;reg_lambda&#x27;: Real(low=0, high=2, prior=&#x27;uniform&#x27;, transform=&#x27;normalize&#x27;),\n",
       "                             &#x27;subsample&#x27;: Real(low=0.5, high=1.0, prior=&#x27;uniform&#x27;, transform=&#x27;normalize&#x27;)},\n",
       "              verbose=2)</pre></div> </div></div><div class=\"sk-parallel\"><div class=\"sk-parallel-item\"><div class=\"sk-item\"><div class=\"sk-label-container\"><div class=\"sk-label fitted sk-toggleable\"><input class=\"sk-toggleable__control sk-hidden--visually\" id=\"sk-estimator-id-13\" type=\"checkbox\" ><label for=\"sk-estimator-id-13\" class=\"sk-toggleable__label fitted sk-toggleable__label-arrow\"><div><div>best_estimator_: XGBClassifier</div></div></label><div class=\"sk-toggleable__content fitted\"><pre>XGBClassifier(base_score=None, booster=None, callbacks=None,\n",
       "              colsample_bylevel=None, colsample_bynode=None,\n",
       "              colsample_bytree=1.0, device=&#x27;cuda&#x27;, early_stopping_rounds=None,\n",
       "              enable_categorical=False, eval_metric=&#x27;logloss&#x27;,\n",
       "              feature_types=None, feature_weights=None, gamma=0.0,\n",
       "              grow_policy=None, importance_type=None,\n",
       "              interaction_constraints=None, learning_rate=0.05495627199474921,\n",
       "              max_bin=None, max_cat_threshold=None, max_cat_to_onehot=None,\n",
       "              max_delta_step=None, max_depth=9, max_leaves=None,\n",
       "              min_child_weight=10, missing=nan, monotone_constraints=None,\n",
       "              multi_strategy=None, n_estimators=300, n_jobs=None,\n",
       "              num_parallel_tree=None, ...)</pre></div> </div></div><div class=\"sk-serial\"><div class=\"sk-item\"><div class=\"sk-estimator fitted sk-toggleable\"><input class=\"sk-toggleable__control sk-hidden--visually\" id=\"sk-estimator-id-14\" type=\"checkbox\" ><label for=\"sk-estimator-id-14\" class=\"sk-toggleable__label fitted sk-toggleable__label-arrow\"><div><div>XGBClassifier</div></div><div><a class=\"sk-estimator-doc-link fitted\" rel=\"noreferrer\" target=\"_blank\" href=\"https://xgboost.readthedocs.io/en/release_3.0.0/python/python_api.html#xgboost.XGBClassifier\">?<span>Documentation for XGBClassifier</span></a></div></label><div class=\"sk-toggleable__content fitted\"><pre>XGBClassifier(base_score=None, booster=None, callbacks=None,\n",
       "              colsample_bylevel=None, colsample_bynode=None,\n",
       "              colsample_bytree=1.0, device=&#x27;cuda&#x27;, early_stopping_rounds=None,\n",
       "              enable_categorical=False, eval_metric=&#x27;logloss&#x27;,\n",
       "              feature_types=None, feature_weights=None, gamma=0.0,\n",
       "              grow_policy=None, importance_type=None,\n",
       "              interaction_constraints=None, learning_rate=0.05495627199474921,\n",
       "              max_bin=None, max_cat_threshold=None, max_cat_to_onehot=None,\n",
       "              max_delta_step=None, max_depth=9, max_leaves=None,\n",
       "              min_child_weight=10, missing=nan, monotone_constraints=None,\n",
       "              multi_strategy=None, n_estimators=300, n_jobs=None,\n",
       "              num_parallel_tree=None, ...)</pre></div> </div></div></div></div></div></div></div></div></div>"
      ],
      "text/plain": [
       "BayesSearchCV(cv=3,\n",
       "              estimator=XGBClassifier(base_score=None, booster=None,\n",
       "                                      callbacks=None, colsample_bylevel=None,\n",
       "                                      colsample_bynode=None,\n",
       "                                      colsample_bytree=None, device='cuda',\n",
       "                                      early_stopping_rounds=None,\n",
       "                                      enable_categorical=False,\n",
       "                                      eval_metric='logloss', feature_types=None,\n",
       "                                      feature_weights=None, gamma=None,\n",
       "                                      grow_policy=None, importance_type=None,\n",
       "                                      interaction_constra...\n",
       "                             'min_child_weight': Integer(low=1, high=10, prior='uniform', transform='normalize'),\n",
       "                             'n_estimators': Integer(low=100, high=300, prior='uniform', transform='normalize'),\n",
       "                             'reg_alpha': Real(low=0, high=2, prior='uniform', transform='normalize'),\n",
       "                             'reg_lambda': Real(low=0, high=2, prior='uniform', transform='normalize'),\n",
       "                             'subsample': Real(low=0.5, high=1.0, prior='uniform', transform='normalize')},\n",
       "              verbose=2)"
      ]
     },
     "execution_count": 134,
     "metadata": {},
     "output_type": "execute_result"
    }
   ],
   "source": [
    "from skopt import BayesSearchCV\n",
    "from skopt.space import Real, Integer\n",
    "\n",
    "# Define the search space for Bayesian optimization\n",
    "search_space = {\n",
    "    \"n_estimators\": Integer(100, 300),\n",
    "    \"max_depth\": Integer(3, 10),\n",
    "    \"learning_rate\": Real(0.01, 0.2, prior=\"log-uniform\"),\n",
    "    \"subsample\": Real(0.5, 1.0),\n",
    "    \"colsample_bytree\": Real(0.5, 1.0),\n",
    "    \"gamma\": Real(0, 5),\n",
    "    \"min_child_weight\": Integer(1, 10),\n",
    "    \"reg_alpha\": Real(0, 2),     # L1 regularization\n",
    "    \"reg_lambda\": Real(0, 2),    # L2 regularization\n",
    "}\n",
    "\n",
    "# Bayesian hyperparameter search\n",
    "bayes_search = BayesSearchCV(\n",
    "    estimator=clf,\n",
    "    search_spaces=search_space,\n",
    "    n_iter=30,\n",
    "    scoring=\"f1\",\n",
    "    cv=3,\n",
    "    verbose=2,\n",
    "    random_state=42,\n",
    "    n_jobs=1\n",
    ")\n",
    "\n",
    "bayes_search.fit(X_train, y_train)\n"
   ]
  },
  {
   "cell_type": "code",
   "execution_count": 8,
   "id": "1b07c23c",
   "metadata": {},
   "outputs": [],
   "source": [
    "model_params = {\n",
    "    'learning_rate': 0.1,\n",
    "    'max_depth': 8,\n",
    "    'n_estimators': 200,\n",
    "    'eval_metric': 'logloss',\n",
    "    'use_label_encoder': False\n",
    "}"
   ]
  },
  {
   "cell_type": "code",
   "execution_count": 19,
   "id": "3b9993be",
   "metadata": {},
   "outputs": [
    {
     "data": {
      "text/html": [
       "Tracking run with wandb version 0.19.10"
      ],
      "text/plain": [
       "<IPython.core.display.HTML object>"
      ]
     },
     "metadata": {},
     "output_type": "display_data"
    },
    {
     "data": {
      "text/html": [
       "Run data is saved locally in <code>/home/marco/projects/flawfinder/useful-comments-sorter-model/wandb/run-20250529_145345-c0xh0xxw</code>"
      ],
      "text/plain": [
       "<IPython.core.display.HTML object>"
      ]
     },
     "metadata": {},
     "output_type": "display_data"
    },
    {
     "data": {
      "text/html": [
       "Syncing run <strong><a href='https://wandb.ai/michelmortier1213-hes-so-gen-ve/useful_comments_sorter/runs/c0xh0xxw' target=\"_blank\">xgb_1_cross_export</a></strong> to <a href='https://wandb.ai/michelmortier1213-hes-so-gen-ve/useful_comments_sorter' target=\"_blank\">Weights & Biases</a> (<a href='https://wandb.me/developer-guide' target=\"_blank\">docs</a>)<br>"
      ],
      "text/plain": [
       "<IPython.core.display.HTML object>"
      ]
     },
     "metadata": {},
     "output_type": "display_data"
    },
    {
     "data": {
      "text/html": [
       " View project at <a href='https://wandb.ai/michelmortier1213-hes-so-gen-ve/useful_comments_sorter' target=\"_blank\">https://wandb.ai/michelmortier1213-hes-so-gen-ve/useful_comments_sorter</a>"
      ],
      "text/plain": [
       "<IPython.core.display.HTML object>"
      ]
     },
     "metadata": {},
     "output_type": "display_data"
    },
    {
     "data": {
      "text/html": [
       " View run at <a href='https://wandb.ai/michelmortier1213-hes-so-gen-ve/useful_comments_sorter/runs/c0xh0xxw' target=\"_blank\">https://wandb.ai/michelmortier1213-hes-so-gen-ve/useful_comments_sorter/runs/c0xh0xxw</a>"
      ],
      "text/plain": [
       "<IPython.core.display.HTML object>"
      ]
     },
     "metadata": {},
     "output_type": "display_data"
    }
   ],
   "source": [
    "run = wandb.init(\n",
    "    project=\"useful_comments_sorter\",\n",
    "    name=\"xgb_1_cross_export\",\n",
    "    config=model_params,       # Logged under the “Config” tab in W&B\n",
    "    reinit='finish_previous'\n",
    "          # Restart the run if a previous one was active\n",
    ")"
   ]
  },
  {
   "cell_type": "code",
   "execution_count": 9,
   "id": "6300d564",
   "metadata": {},
   "outputs": [],
   "source": [
    "from wandb.integration.xgboost import WandbCallback\n",
    "import xgboost as xgb\n",
    "\n",
    "# # W&B callback for logging model and feature importance\n",
    "# wb_cb = WandbCallback(\n",
    "#     log_model=True,\n",
    "#     log_feature_importance=True\n",
    "# )"
   ]
  },
  {
   "cell_type": "code",
   "execution_count": 10,
   "id": "5a1df8f5",
   "metadata": {},
   "outputs": [],
   "source": [
    "model = xgb.XGBClassifier(\n",
    "    **model_params,\n",
    "    tree_method=\"gpu_hist\",       # Use GPU-accelerated histogram-based algorithm\n",
    "    device=\"cuda\",                # Run on GPU\n",
    "    # callbacks=[wb_cb],            # Log metrics and feature importance to W&B\n",
    "    scale_pos_weight=ratio        # Handle class imbalance\n",
    ")"
   ]
  },
  {
   "cell_type": "code",
   "execution_count": 11,
   "id": "64481979",
   "metadata": {},
   "outputs": [
    {
     "name": "stderr",
     "output_type": "stream",
     "text": [
      "/home/marco/projects/flawfinder/useful-comments-sorter-model/.venv/lib/python3.12/site-packages/xgboost/training.py:183: UserWarning: [17:42:22] WARNING: /workspace/src/common/error_msg.cc:27: The tree method `gpu_hist` is deprecated since 2.0.0. To use GPU training, set the `device` parameter to CUDA instead.\n",
      "\n",
      "    E.g. tree_method = \"hist\", device = \"cuda\"\n",
      "\n",
      "  bst.update(dtrain, iteration=i, fobj=obj)\n",
      "/home/marco/projects/flawfinder/useful-comments-sorter-model/.venv/lib/python3.12/site-packages/xgboost/training.py:183: UserWarning: [17:42:22] WARNING: /workspace/src/learner.cc:738: \n",
      "Parameters: { \"use_label_encoder\" } are not used.\n",
      "\n",
      "  bst.update(dtrain, iteration=i, fobj=obj)\n"
     ]
    },
    {
     "name": "stdout",
     "output_type": "stream",
     "text": [
      "[0]\tvalidation_0-logloss:0.64734\tvalidation_1-logloss:0.65061\n",
      "[1]\tvalidation_0-logloss:0.60830\tvalidation_1-logloss:0.61433\n",
      "[2]\tvalidation_0-logloss:0.57476\tvalidation_1-logloss:0.58365\n",
      "[3]\tvalidation_0-logloss:0.54578\tvalidation_1-logloss:0.55714\n",
      "[4]\tvalidation_0-logloss:0.52046\tvalidation_1-logloss:0.53493\n",
      "[5]\tvalidation_0-logloss:0.49810\tvalidation_1-logloss:0.51512\n",
      "[6]\tvalidation_0-logloss:0.47820\tvalidation_1-logloss:0.49776\n",
      "[7]\tvalidation_0-logloss:0.46057\tvalidation_1-logloss:0.48282\n",
      "[8]\tvalidation_0-logloss:0.44494\tvalidation_1-logloss:0.46949\n",
      "[9]\tvalidation_0-logloss:0.43090\tvalidation_1-logloss:0.45762\n",
      "[10]\tvalidation_0-logloss:0.41839\tvalidation_1-logloss:0.44741\n",
      "[11]\tvalidation_0-logloss:0.40627\tvalidation_1-logloss:0.43760\n",
      "[12]\tvalidation_0-logloss:0.39568\tvalidation_1-logloss:0.42913\n",
      "[13]\tvalidation_0-logloss:0.38553\tvalidation_1-logloss:0.42145\n",
      "[14]\tvalidation_0-logloss:0.37660\tvalidation_1-logloss:0.41452\n",
      "[15]\tvalidation_0-logloss:0.36834\tvalidation_1-logloss:0.40851\n",
      "[16]\tvalidation_0-logloss:0.36008\tvalidation_1-logloss:0.40235\n",
      "[17]\tvalidation_0-logloss:0.35313\tvalidation_1-logloss:0.39726\n",
      "[18]\tvalidation_0-logloss:0.34654\tvalidation_1-logloss:0.39262\n",
      "[19]\tvalidation_0-logloss:0.34051\tvalidation_1-logloss:0.38842\n",
      "[20]\tvalidation_0-logloss:0.33451\tvalidation_1-logloss:0.38438\n",
      "[21]\tvalidation_0-logloss:0.32898\tvalidation_1-logloss:0.38082\n",
      "[22]\tvalidation_0-logloss:0.32396\tvalidation_1-logloss:0.37760\n",
      "[23]\tvalidation_0-logloss:0.31859\tvalidation_1-logloss:0.37438\n",
      "[24]\tvalidation_0-logloss:0.31413\tvalidation_1-logloss:0.37168\n",
      "[25]\tvalidation_0-logloss:0.30961\tvalidation_1-logloss:0.36915\n",
      "[26]\tvalidation_0-logloss:0.30551\tvalidation_1-logloss:0.36687\n",
      "[27]\tvalidation_0-logloss:0.30163\tvalidation_1-logloss:0.36490\n",
      "[28]\tvalidation_0-logloss:0.29776\tvalidation_1-logloss:0.36279\n",
      "[29]\tvalidation_0-logloss:0.29406\tvalidation_1-logloss:0.36098\n",
      "[30]\tvalidation_0-logloss:0.29029\tvalidation_1-logloss:0.35898\n",
      "[31]\tvalidation_0-logloss:0.28692\tvalidation_1-logloss:0.35733\n",
      "[32]\tvalidation_0-logloss:0.28348\tvalidation_1-logloss:0.35573\n",
      "[33]\tvalidation_0-logloss:0.28031\tvalidation_1-logloss:0.35432\n",
      "[34]\tvalidation_0-logloss:0.27698\tvalidation_1-logloss:0.35294\n",
      "[35]\tvalidation_0-logloss:0.27386\tvalidation_1-logloss:0.35160\n",
      "[36]\tvalidation_0-logloss:0.27116\tvalidation_1-logloss:0.35042\n",
      "[37]\tvalidation_0-logloss:0.26819\tvalidation_1-logloss:0.34931\n",
      "[38]\tvalidation_0-logloss:0.26536\tvalidation_1-logloss:0.34830\n",
      "[39]\tvalidation_0-logloss:0.26338\tvalidation_1-logloss:0.34741\n",
      "[40]\tvalidation_0-logloss:0.26037\tvalidation_1-logloss:0.34629\n",
      "[41]\tvalidation_0-logloss:0.25834\tvalidation_1-logloss:0.34556\n",
      "[42]\tvalidation_0-logloss:0.25591\tvalidation_1-logloss:0.34483\n",
      "[43]\tvalidation_0-logloss:0.25355\tvalidation_1-logloss:0.34388\n",
      "[44]\tvalidation_0-logloss:0.25140\tvalidation_1-logloss:0.34307\n",
      "[45]\tvalidation_0-logloss:0.24904\tvalidation_1-logloss:0.34230\n",
      "[46]\tvalidation_0-logloss:0.24662\tvalidation_1-logloss:0.34151\n",
      "[47]\tvalidation_0-logloss:0.24446\tvalidation_1-logloss:0.34088\n",
      "[48]\tvalidation_0-logloss:0.24284\tvalidation_1-logloss:0.34034\n",
      "[49]\tvalidation_0-logloss:0.24117\tvalidation_1-logloss:0.33974\n",
      "[50]\tvalidation_0-logloss:0.23944\tvalidation_1-logloss:0.33917\n",
      "[51]\tvalidation_0-logloss:0.23725\tvalidation_1-logloss:0.33851\n",
      "[52]\tvalidation_0-logloss:0.23509\tvalidation_1-logloss:0.33783\n",
      "[53]\tvalidation_0-logloss:0.23333\tvalidation_1-logloss:0.33739\n",
      "[54]\tvalidation_0-logloss:0.23160\tvalidation_1-logloss:0.33681\n",
      "[55]\tvalidation_0-logloss:0.23008\tvalidation_1-logloss:0.33645\n",
      "[56]\tvalidation_0-logloss:0.22797\tvalidation_1-logloss:0.33602\n",
      "[57]\tvalidation_0-logloss:0.22660\tvalidation_1-logloss:0.33565\n",
      "[58]\tvalidation_0-logloss:0.22485\tvalidation_1-logloss:0.33521\n",
      "[59]\tvalidation_0-logloss:0.22305\tvalidation_1-logloss:0.33463\n",
      "[60]\tvalidation_0-logloss:0.22122\tvalidation_1-logloss:0.33430\n",
      "[61]\tvalidation_0-logloss:0.22015\tvalidation_1-logloss:0.33396\n",
      "[62]\tvalidation_0-logloss:0.21882\tvalidation_1-logloss:0.33363\n",
      "[63]\tvalidation_0-logloss:0.21703\tvalidation_1-logloss:0.33340\n",
      "[64]\tvalidation_0-logloss:0.21503\tvalidation_1-logloss:0.33292\n",
      "[65]\tvalidation_0-logloss:0.21357\tvalidation_1-logloss:0.33256\n",
      "[66]\tvalidation_0-logloss:0.21228\tvalidation_1-logloss:0.33209\n",
      "[67]\tvalidation_0-logloss:0.21113\tvalidation_1-logloss:0.33184\n",
      "[68]\tvalidation_0-logloss:0.20969\tvalidation_1-logloss:0.33155\n",
      "[69]\tvalidation_0-logloss:0.20815\tvalidation_1-logloss:0.33135\n",
      "[70]\tvalidation_0-logloss:0.20699\tvalidation_1-logloss:0.33108\n",
      "[71]\tvalidation_0-logloss:0.20591\tvalidation_1-logloss:0.33086\n",
      "[72]\tvalidation_0-logloss:0.20464\tvalidation_1-logloss:0.33079\n",
      "[73]\tvalidation_0-logloss:0.20316\tvalidation_1-logloss:0.33037\n",
      "[74]\tvalidation_0-logloss:0.20189\tvalidation_1-logloss:0.33008\n",
      "[75]\tvalidation_0-logloss:0.20031\tvalidation_1-logloss:0.32984\n",
      "[76]\tvalidation_0-logloss:0.19910\tvalidation_1-logloss:0.32963\n",
      "[77]\tvalidation_0-logloss:0.19750\tvalidation_1-logloss:0.32936\n",
      "[78]\tvalidation_0-logloss:0.19622\tvalidation_1-logloss:0.32917\n",
      "[79]\tvalidation_0-logloss:0.19494\tvalidation_1-logloss:0.32893\n",
      "[80]\tvalidation_0-logloss:0.19362\tvalidation_1-logloss:0.32870\n",
      "[81]\tvalidation_0-logloss:0.19253\tvalidation_1-logloss:0.32848\n",
      "[82]\tvalidation_0-logloss:0.19148\tvalidation_1-logloss:0.32828\n",
      "[83]\tvalidation_0-logloss:0.19057\tvalidation_1-logloss:0.32811\n",
      "[84]\tvalidation_0-logloss:0.18939\tvalidation_1-logloss:0.32786\n",
      "[85]\tvalidation_0-logloss:0.18820\tvalidation_1-logloss:0.32770\n",
      "[86]\tvalidation_0-logloss:0.18717\tvalidation_1-logloss:0.32759\n",
      "[87]\tvalidation_0-logloss:0.18623\tvalidation_1-logloss:0.32742\n",
      "[88]\tvalidation_0-logloss:0.18517\tvalidation_1-logloss:0.32737\n",
      "[89]\tvalidation_0-logloss:0.18421\tvalidation_1-logloss:0.32718\n",
      "[90]\tvalidation_0-logloss:0.18291\tvalidation_1-logloss:0.32694\n",
      "[91]\tvalidation_0-logloss:0.18193\tvalidation_1-logloss:0.32659\n",
      "[92]\tvalidation_0-logloss:0.18109\tvalidation_1-logloss:0.32649\n",
      "[93]\tvalidation_0-logloss:0.18019\tvalidation_1-logloss:0.32629\n",
      "[94]\tvalidation_0-logloss:0.17915\tvalidation_1-logloss:0.32606\n",
      "[95]\tvalidation_0-logloss:0.17802\tvalidation_1-logloss:0.32596\n",
      "[96]\tvalidation_0-logloss:0.17717\tvalidation_1-logloss:0.32579\n",
      "[97]\tvalidation_0-logloss:0.17628\tvalidation_1-logloss:0.32564\n",
      "[98]\tvalidation_0-logloss:0.17482\tvalidation_1-logloss:0.32539\n",
      "[99]\tvalidation_0-logloss:0.17363\tvalidation_1-logloss:0.32526\n",
      "[100]\tvalidation_0-logloss:0.17285\tvalidation_1-logloss:0.32511\n",
      "[101]\tvalidation_0-logloss:0.17195\tvalidation_1-logloss:0.32506\n",
      "[102]\tvalidation_0-logloss:0.17063\tvalidation_1-logloss:0.32496\n",
      "[103]\tvalidation_0-logloss:0.16952\tvalidation_1-logloss:0.32472\n",
      "[104]\tvalidation_0-logloss:0.16833\tvalidation_1-logloss:0.32465\n",
      "[105]\tvalidation_0-logloss:0.16729\tvalidation_1-logloss:0.32451\n",
      "[106]\tvalidation_0-logloss:0.16654\tvalidation_1-logloss:0.32455\n",
      "[107]\tvalidation_0-logloss:0.16563\tvalidation_1-logloss:0.32447\n",
      "[108]\tvalidation_0-logloss:0.16488\tvalidation_1-logloss:0.32433\n",
      "[109]\tvalidation_0-logloss:0.16369\tvalidation_1-logloss:0.32419\n",
      "[110]\tvalidation_0-logloss:0.16247\tvalidation_1-logloss:0.32409\n",
      "[111]\tvalidation_0-logloss:0.16162\tvalidation_1-logloss:0.32388\n",
      "[112]\tvalidation_0-logloss:0.16058\tvalidation_1-logloss:0.32372\n",
      "[113]\tvalidation_0-logloss:0.15977\tvalidation_1-logloss:0.32355\n",
      "[114]\tvalidation_0-logloss:0.15884\tvalidation_1-logloss:0.32336\n",
      "[115]\tvalidation_0-logloss:0.15813\tvalidation_1-logloss:0.32327\n",
      "[116]\tvalidation_0-logloss:0.15693\tvalidation_1-logloss:0.32311\n",
      "[117]\tvalidation_0-logloss:0.15622\tvalidation_1-logloss:0.32306\n",
      "[118]\tvalidation_0-logloss:0.15546\tvalidation_1-logloss:0.32292\n",
      "[119]\tvalidation_0-logloss:0.15461\tvalidation_1-logloss:0.32284\n",
      "[120]\tvalidation_0-logloss:0.15374\tvalidation_1-logloss:0.32284\n",
      "[121]\tvalidation_0-logloss:0.15276\tvalidation_1-logloss:0.32268\n",
      "[122]\tvalidation_0-logloss:0.15217\tvalidation_1-logloss:0.32257\n",
      "[123]\tvalidation_0-logloss:0.15139\tvalidation_1-logloss:0.32249\n",
      "[124]\tvalidation_0-logloss:0.15053\tvalidation_1-logloss:0.32241\n",
      "[125]\tvalidation_0-logloss:0.14977\tvalidation_1-logloss:0.32239\n",
      "[126]\tvalidation_0-logloss:0.14908\tvalidation_1-logloss:0.32234\n",
      "[127]\tvalidation_0-logloss:0.14827\tvalidation_1-logloss:0.32226\n",
      "[128]\tvalidation_0-logloss:0.14722\tvalidation_1-logloss:0.32210\n",
      "[129]\tvalidation_0-logloss:0.14664\tvalidation_1-logloss:0.32200\n",
      "[130]\tvalidation_0-logloss:0.14599\tvalidation_1-logloss:0.32193\n",
      "[131]\tvalidation_0-logloss:0.14518\tvalidation_1-logloss:0.32192\n",
      "[132]\tvalidation_0-logloss:0.14453\tvalidation_1-logloss:0.32181\n",
      "[133]\tvalidation_0-logloss:0.14373\tvalidation_1-logloss:0.32172\n",
      "[134]\tvalidation_0-logloss:0.14287\tvalidation_1-logloss:0.32178\n",
      "[135]\tvalidation_0-logloss:0.14231\tvalidation_1-logloss:0.32175\n",
      "[136]\tvalidation_0-logloss:0.14131\tvalidation_1-logloss:0.32175\n",
      "[137]\tvalidation_0-logloss:0.14053\tvalidation_1-logloss:0.32163\n",
      "[138]\tvalidation_0-logloss:0.13983\tvalidation_1-logloss:0.32152\n",
      "[139]\tvalidation_0-logloss:0.13899\tvalidation_1-logloss:0.32143\n",
      "[140]\tvalidation_0-logloss:0.13816\tvalidation_1-logloss:0.32140\n",
      "[141]\tvalidation_0-logloss:0.13730\tvalidation_1-logloss:0.32138\n",
      "[142]\tvalidation_0-logloss:0.13643\tvalidation_1-logloss:0.32128\n",
      "[143]\tvalidation_0-logloss:0.13545\tvalidation_1-logloss:0.32115\n",
      "[144]\tvalidation_0-logloss:0.13495\tvalidation_1-logloss:0.32106\n",
      "[145]\tvalidation_0-logloss:0.13405\tvalidation_1-logloss:0.32098\n",
      "[146]\tvalidation_0-logloss:0.13330\tvalidation_1-logloss:0.32092\n",
      "[147]\tvalidation_0-logloss:0.13282\tvalidation_1-logloss:0.32084\n",
      "[148]\tvalidation_0-logloss:0.13233\tvalidation_1-logloss:0.32084\n",
      "[149]\tvalidation_0-logloss:0.13156\tvalidation_1-logloss:0.32086\n",
      "[150]\tvalidation_0-logloss:0.13087\tvalidation_1-logloss:0.32083\n",
      "[151]\tvalidation_0-logloss:0.12998\tvalidation_1-logloss:0.32064\n",
      "[152]\tvalidation_0-logloss:0.12957\tvalidation_1-logloss:0.32065\n",
      "[153]\tvalidation_0-logloss:0.12866\tvalidation_1-logloss:0.32063\n",
      "[154]\tvalidation_0-logloss:0.12820\tvalidation_1-logloss:0.32050\n",
      "[155]\tvalidation_0-logloss:0.12743\tvalidation_1-logloss:0.32043\n",
      "[156]\tvalidation_0-logloss:0.12688\tvalidation_1-logloss:0.32052\n",
      "[157]\tvalidation_0-logloss:0.12626\tvalidation_1-logloss:0.32045\n",
      "[158]\tvalidation_0-logloss:0.12583\tvalidation_1-logloss:0.32049\n",
      "[159]\tvalidation_0-logloss:0.12541\tvalidation_1-logloss:0.32053\n",
      "[160]\tvalidation_0-logloss:0.12477\tvalidation_1-logloss:0.32054\n",
      "[161]\tvalidation_0-logloss:0.12402\tvalidation_1-logloss:0.32053\n",
      "[162]\tvalidation_0-logloss:0.12356\tvalidation_1-logloss:0.32044\n",
      "[163]\tvalidation_0-logloss:0.12300\tvalidation_1-logloss:0.32044\n",
      "[164]\tvalidation_0-logloss:0.12223\tvalidation_1-logloss:0.32036\n",
      "[165]\tvalidation_0-logloss:0.12137\tvalidation_1-logloss:0.32021\n",
      "[166]\tvalidation_0-logloss:0.12084\tvalidation_1-logloss:0.32019\n",
      "[167]\tvalidation_0-logloss:0.12038\tvalidation_1-logloss:0.32017\n",
      "[168]\tvalidation_0-logloss:0.11958\tvalidation_1-logloss:0.32029\n",
      "[169]\tvalidation_0-logloss:0.11916\tvalidation_1-logloss:0.32028\n",
      "[170]\tvalidation_0-logloss:0.11868\tvalidation_1-logloss:0.32018\n",
      "[171]\tvalidation_0-logloss:0.11821\tvalidation_1-logloss:0.32015\n",
      "[172]\tvalidation_0-logloss:0.11774\tvalidation_1-logloss:0.32009\n",
      "[173]\tvalidation_0-logloss:0.11699\tvalidation_1-logloss:0.32000\n",
      "[174]\tvalidation_0-logloss:0.11671\tvalidation_1-logloss:0.31996\n",
      "[175]\tvalidation_0-logloss:0.11619\tvalidation_1-logloss:0.31992\n",
      "[176]\tvalidation_0-logloss:0.11561\tvalidation_1-logloss:0.31994\n",
      "[177]\tvalidation_0-logloss:0.11495\tvalidation_1-logloss:0.31994\n",
      "[178]\tvalidation_0-logloss:0.11417\tvalidation_1-logloss:0.31988\n",
      "[179]\tvalidation_0-logloss:0.11373\tvalidation_1-logloss:0.31988\n",
      "[180]\tvalidation_0-logloss:0.11307\tvalidation_1-logloss:0.31979\n",
      "[181]\tvalidation_0-logloss:0.11257\tvalidation_1-logloss:0.31981\n",
      "[182]\tvalidation_0-logloss:0.11220\tvalidation_1-logloss:0.31981\n",
      "[183]\tvalidation_0-logloss:0.11163\tvalidation_1-logloss:0.31987\n",
      "[184]\tvalidation_0-logloss:0.11120\tvalidation_1-logloss:0.31990\n",
      "[185]\tvalidation_0-logloss:0.11044\tvalidation_1-logloss:0.31995\n",
      "[186]\tvalidation_0-logloss:0.10999\tvalidation_1-logloss:0.31998\n",
      "[187]\tvalidation_0-logloss:0.10928\tvalidation_1-logloss:0.31998\n",
      "[188]\tvalidation_0-logloss:0.10882\tvalidation_1-logloss:0.31997\n",
      "[189]\tvalidation_0-logloss:0.10857\tvalidation_1-logloss:0.31998\n",
      "[190]\tvalidation_0-logloss:0.10814\tvalidation_1-logloss:0.32003\n",
      "[191]\tvalidation_0-logloss:0.10737\tvalidation_1-logloss:0.32004\n",
      "[192]\tvalidation_0-logloss:0.10691\tvalidation_1-logloss:0.32004\n",
      "[193]\tvalidation_0-logloss:0.10641\tvalidation_1-logloss:0.31995\n",
      "[194]\tvalidation_0-logloss:0.10576\tvalidation_1-logloss:0.32002\n",
      "[195]\tvalidation_0-logloss:0.10533\tvalidation_1-logloss:0.32000\n",
      "[196]\tvalidation_0-logloss:0.10497\tvalidation_1-logloss:0.32005\n",
      "[197]\tvalidation_0-logloss:0.10462\tvalidation_1-logloss:0.32004\n",
      "[198]\tvalidation_0-logloss:0.10426\tvalidation_1-logloss:0.32003\n",
      "[199]\tvalidation_0-logloss:0.10380\tvalidation_1-logloss:0.32002\n"
     ]
    },
    {
     "data": {
      "text/html": [
       "<style>#sk-container-id-1 {\n",
       "  /* Definition of color scheme common for light and dark mode */\n",
       "  --sklearn-color-text: #000;\n",
       "  --sklearn-color-text-muted: #666;\n",
       "  --sklearn-color-line: gray;\n",
       "  /* Definition of color scheme for unfitted estimators */\n",
       "  --sklearn-color-unfitted-level-0: #fff5e6;\n",
       "  --sklearn-color-unfitted-level-1: #f6e4d2;\n",
       "  --sklearn-color-unfitted-level-2: #ffe0b3;\n",
       "  --sklearn-color-unfitted-level-3: chocolate;\n",
       "  /* Definition of color scheme for fitted estimators */\n",
       "  --sklearn-color-fitted-level-0: #f0f8ff;\n",
       "  --sklearn-color-fitted-level-1: #d4ebff;\n",
       "  --sklearn-color-fitted-level-2: #b3dbfd;\n",
       "  --sklearn-color-fitted-level-3: cornflowerblue;\n",
       "\n",
       "  /* Specific color for light theme */\n",
       "  --sklearn-color-text-on-default-background: var(--sg-text-color, var(--theme-code-foreground, var(--jp-content-font-color1, black)));\n",
       "  --sklearn-color-background: var(--sg-background-color, var(--theme-background, var(--jp-layout-color0, white)));\n",
       "  --sklearn-color-border-box: var(--sg-text-color, var(--theme-code-foreground, var(--jp-content-font-color1, black)));\n",
       "  --sklearn-color-icon: #696969;\n",
       "\n",
       "  @media (prefers-color-scheme: dark) {\n",
       "    /* Redefinition of color scheme for dark theme */\n",
       "    --sklearn-color-text-on-default-background: var(--sg-text-color, var(--theme-code-foreground, var(--jp-content-font-color1, white)));\n",
       "    --sklearn-color-background: var(--sg-background-color, var(--theme-background, var(--jp-layout-color0, #111)));\n",
       "    --sklearn-color-border-box: var(--sg-text-color, var(--theme-code-foreground, var(--jp-content-font-color1, white)));\n",
       "    --sklearn-color-icon: #878787;\n",
       "  }\n",
       "}\n",
       "\n",
       "#sk-container-id-1 {\n",
       "  color: var(--sklearn-color-text);\n",
       "}\n",
       "\n",
       "#sk-container-id-1 pre {\n",
       "  padding: 0;\n",
       "}\n",
       "\n",
       "#sk-container-id-1 input.sk-hidden--visually {\n",
       "  border: 0;\n",
       "  clip: rect(1px 1px 1px 1px);\n",
       "  clip: rect(1px, 1px, 1px, 1px);\n",
       "  height: 1px;\n",
       "  margin: -1px;\n",
       "  overflow: hidden;\n",
       "  padding: 0;\n",
       "  position: absolute;\n",
       "  width: 1px;\n",
       "}\n",
       "\n",
       "#sk-container-id-1 div.sk-dashed-wrapped {\n",
       "  border: 1px dashed var(--sklearn-color-line);\n",
       "  margin: 0 0.4em 0.5em 0.4em;\n",
       "  box-sizing: border-box;\n",
       "  padding-bottom: 0.4em;\n",
       "  background-color: var(--sklearn-color-background);\n",
       "}\n",
       "\n",
       "#sk-container-id-1 div.sk-container {\n",
       "  /* jupyter's `normalize.less` sets `[hidden] { display: none; }`\n",
       "     but bootstrap.min.css set `[hidden] { display: none !important; }`\n",
       "     so we also need the `!important` here to be able to override the\n",
       "     default hidden behavior on the sphinx rendered scikit-learn.org.\n",
       "     See: https://github.com/scikit-learn/scikit-learn/issues/21755 */\n",
       "  display: inline-block !important;\n",
       "  position: relative;\n",
       "}\n",
       "\n",
       "#sk-container-id-1 div.sk-text-repr-fallback {\n",
       "  display: none;\n",
       "}\n",
       "\n",
       "div.sk-parallel-item,\n",
       "div.sk-serial,\n",
       "div.sk-item {\n",
       "  /* draw centered vertical line to link estimators */\n",
       "  background-image: linear-gradient(var(--sklearn-color-text-on-default-background), var(--sklearn-color-text-on-default-background));\n",
       "  background-size: 2px 100%;\n",
       "  background-repeat: no-repeat;\n",
       "  background-position: center center;\n",
       "}\n",
       "\n",
       "/* Parallel-specific style estimator block */\n",
       "\n",
       "#sk-container-id-1 div.sk-parallel-item::after {\n",
       "  content: \"\";\n",
       "  width: 100%;\n",
       "  border-bottom: 2px solid var(--sklearn-color-text-on-default-background);\n",
       "  flex-grow: 1;\n",
       "}\n",
       "\n",
       "#sk-container-id-1 div.sk-parallel {\n",
       "  display: flex;\n",
       "  align-items: stretch;\n",
       "  justify-content: center;\n",
       "  background-color: var(--sklearn-color-background);\n",
       "  position: relative;\n",
       "}\n",
       "\n",
       "#sk-container-id-1 div.sk-parallel-item {\n",
       "  display: flex;\n",
       "  flex-direction: column;\n",
       "}\n",
       "\n",
       "#sk-container-id-1 div.sk-parallel-item:first-child::after {\n",
       "  align-self: flex-end;\n",
       "  width: 50%;\n",
       "}\n",
       "\n",
       "#sk-container-id-1 div.sk-parallel-item:last-child::after {\n",
       "  align-self: flex-start;\n",
       "  width: 50%;\n",
       "}\n",
       "\n",
       "#sk-container-id-1 div.sk-parallel-item:only-child::after {\n",
       "  width: 0;\n",
       "}\n",
       "\n",
       "/* Serial-specific style estimator block */\n",
       "\n",
       "#sk-container-id-1 div.sk-serial {\n",
       "  display: flex;\n",
       "  flex-direction: column;\n",
       "  align-items: center;\n",
       "  background-color: var(--sklearn-color-background);\n",
       "  padding-right: 1em;\n",
       "  padding-left: 1em;\n",
       "}\n",
       "\n",
       "\n",
       "/* Toggleable style: style used for estimator/Pipeline/ColumnTransformer box that is\n",
       "clickable and can be expanded/collapsed.\n",
       "- Pipeline and ColumnTransformer use this feature and define the default style\n",
       "- Estimators will overwrite some part of the style using the `sk-estimator` class\n",
       "*/\n",
       "\n",
       "/* Pipeline and ColumnTransformer style (default) */\n",
       "\n",
       "#sk-container-id-1 div.sk-toggleable {\n",
       "  /* Default theme specific background. It is overwritten whether we have a\n",
       "  specific estimator or a Pipeline/ColumnTransformer */\n",
       "  background-color: var(--sklearn-color-background);\n",
       "}\n",
       "\n",
       "/* Toggleable label */\n",
       "#sk-container-id-1 label.sk-toggleable__label {\n",
       "  cursor: pointer;\n",
       "  display: flex;\n",
       "  width: 100%;\n",
       "  margin-bottom: 0;\n",
       "  padding: 0.5em;\n",
       "  box-sizing: border-box;\n",
       "  text-align: center;\n",
       "  align-items: start;\n",
       "  justify-content: space-between;\n",
       "  gap: 0.5em;\n",
       "}\n",
       "\n",
       "#sk-container-id-1 label.sk-toggleable__label .caption {\n",
       "  font-size: 0.6rem;\n",
       "  font-weight: lighter;\n",
       "  color: var(--sklearn-color-text-muted);\n",
       "}\n",
       "\n",
       "#sk-container-id-1 label.sk-toggleable__label-arrow:before {\n",
       "  /* Arrow on the left of the label */\n",
       "  content: \"▸\";\n",
       "  float: left;\n",
       "  margin-right: 0.25em;\n",
       "  color: var(--sklearn-color-icon);\n",
       "}\n",
       "\n",
       "#sk-container-id-1 label.sk-toggleable__label-arrow:hover:before {\n",
       "  color: var(--sklearn-color-text);\n",
       "}\n",
       "\n",
       "/* Toggleable content - dropdown */\n",
       "\n",
       "#sk-container-id-1 div.sk-toggleable__content {\n",
       "  max-height: 0;\n",
       "  max-width: 0;\n",
       "  overflow: hidden;\n",
       "  text-align: left;\n",
       "  /* unfitted */\n",
       "  background-color: var(--sklearn-color-unfitted-level-0);\n",
       "}\n",
       "\n",
       "#sk-container-id-1 div.sk-toggleable__content.fitted {\n",
       "  /* fitted */\n",
       "  background-color: var(--sklearn-color-fitted-level-0);\n",
       "}\n",
       "\n",
       "#sk-container-id-1 div.sk-toggleable__content pre {\n",
       "  margin: 0.2em;\n",
       "  border-radius: 0.25em;\n",
       "  color: var(--sklearn-color-text);\n",
       "  /* unfitted */\n",
       "  background-color: var(--sklearn-color-unfitted-level-0);\n",
       "}\n",
       "\n",
       "#sk-container-id-1 div.sk-toggleable__content.fitted pre {\n",
       "  /* unfitted */\n",
       "  background-color: var(--sklearn-color-fitted-level-0);\n",
       "}\n",
       "\n",
       "#sk-container-id-1 input.sk-toggleable__control:checked~div.sk-toggleable__content {\n",
       "  /* Expand drop-down */\n",
       "  max-height: 200px;\n",
       "  max-width: 100%;\n",
       "  overflow: auto;\n",
       "}\n",
       "\n",
       "#sk-container-id-1 input.sk-toggleable__control:checked~label.sk-toggleable__label-arrow:before {\n",
       "  content: \"▾\";\n",
       "}\n",
       "\n",
       "/* Pipeline/ColumnTransformer-specific style */\n",
       "\n",
       "#sk-container-id-1 div.sk-label input.sk-toggleable__control:checked~label.sk-toggleable__label {\n",
       "  color: var(--sklearn-color-text);\n",
       "  background-color: var(--sklearn-color-unfitted-level-2);\n",
       "}\n",
       "\n",
       "#sk-container-id-1 div.sk-label.fitted input.sk-toggleable__control:checked~label.sk-toggleable__label {\n",
       "  background-color: var(--sklearn-color-fitted-level-2);\n",
       "}\n",
       "\n",
       "/* Estimator-specific style */\n",
       "\n",
       "/* Colorize estimator box */\n",
       "#sk-container-id-1 div.sk-estimator input.sk-toggleable__control:checked~label.sk-toggleable__label {\n",
       "  /* unfitted */\n",
       "  background-color: var(--sklearn-color-unfitted-level-2);\n",
       "}\n",
       "\n",
       "#sk-container-id-1 div.sk-estimator.fitted input.sk-toggleable__control:checked~label.sk-toggleable__label {\n",
       "  /* fitted */\n",
       "  background-color: var(--sklearn-color-fitted-level-2);\n",
       "}\n",
       "\n",
       "#sk-container-id-1 div.sk-label label.sk-toggleable__label,\n",
       "#sk-container-id-1 div.sk-label label {\n",
       "  /* The background is the default theme color */\n",
       "  color: var(--sklearn-color-text-on-default-background);\n",
       "}\n",
       "\n",
       "/* On hover, darken the color of the background */\n",
       "#sk-container-id-1 div.sk-label:hover label.sk-toggleable__label {\n",
       "  color: var(--sklearn-color-text);\n",
       "  background-color: var(--sklearn-color-unfitted-level-2);\n",
       "}\n",
       "\n",
       "/* Label box, darken color on hover, fitted */\n",
       "#sk-container-id-1 div.sk-label.fitted:hover label.sk-toggleable__label.fitted {\n",
       "  color: var(--sklearn-color-text);\n",
       "  background-color: var(--sklearn-color-fitted-level-2);\n",
       "}\n",
       "\n",
       "/* Estimator label */\n",
       "\n",
       "#sk-container-id-1 div.sk-label label {\n",
       "  font-family: monospace;\n",
       "  font-weight: bold;\n",
       "  display: inline-block;\n",
       "  line-height: 1.2em;\n",
       "}\n",
       "\n",
       "#sk-container-id-1 div.sk-label-container {\n",
       "  text-align: center;\n",
       "}\n",
       "\n",
       "/* Estimator-specific */\n",
       "#sk-container-id-1 div.sk-estimator {\n",
       "  font-family: monospace;\n",
       "  border: 1px dotted var(--sklearn-color-border-box);\n",
       "  border-radius: 0.25em;\n",
       "  box-sizing: border-box;\n",
       "  margin-bottom: 0.5em;\n",
       "  /* unfitted */\n",
       "  background-color: var(--sklearn-color-unfitted-level-0);\n",
       "}\n",
       "\n",
       "#sk-container-id-1 div.sk-estimator.fitted {\n",
       "  /* fitted */\n",
       "  background-color: var(--sklearn-color-fitted-level-0);\n",
       "}\n",
       "\n",
       "/* on hover */\n",
       "#sk-container-id-1 div.sk-estimator:hover {\n",
       "  /* unfitted */\n",
       "  background-color: var(--sklearn-color-unfitted-level-2);\n",
       "}\n",
       "\n",
       "#sk-container-id-1 div.sk-estimator.fitted:hover {\n",
       "  /* fitted */\n",
       "  background-color: var(--sklearn-color-fitted-level-2);\n",
       "}\n",
       "\n",
       "/* Specification for estimator info (e.g. \"i\" and \"?\") */\n",
       "\n",
       "/* Common style for \"i\" and \"?\" */\n",
       "\n",
       ".sk-estimator-doc-link,\n",
       "a:link.sk-estimator-doc-link,\n",
       "a:visited.sk-estimator-doc-link {\n",
       "  float: right;\n",
       "  font-size: smaller;\n",
       "  line-height: 1em;\n",
       "  font-family: monospace;\n",
       "  background-color: var(--sklearn-color-background);\n",
       "  border-radius: 1em;\n",
       "  height: 1em;\n",
       "  width: 1em;\n",
       "  text-decoration: none !important;\n",
       "  margin-left: 0.5em;\n",
       "  text-align: center;\n",
       "  /* unfitted */\n",
       "  border: var(--sklearn-color-unfitted-level-1) 1pt solid;\n",
       "  color: var(--sklearn-color-unfitted-level-1);\n",
       "}\n",
       "\n",
       ".sk-estimator-doc-link.fitted,\n",
       "a:link.sk-estimator-doc-link.fitted,\n",
       "a:visited.sk-estimator-doc-link.fitted {\n",
       "  /* fitted */\n",
       "  border: var(--sklearn-color-fitted-level-1) 1pt solid;\n",
       "  color: var(--sklearn-color-fitted-level-1);\n",
       "}\n",
       "\n",
       "/* On hover */\n",
       "div.sk-estimator:hover .sk-estimator-doc-link:hover,\n",
       ".sk-estimator-doc-link:hover,\n",
       "div.sk-label-container:hover .sk-estimator-doc-link:hover,\n",
       ".sk-estimator-doc-link:hover {\n",
       "  /* unfitted */\n",
       "  background-color: var(--sklearn-color-unfitted-level-3);\n",
       "  color: var(--sklearn-color-background);\n",
       "  text-decoration: none;\n",
       "}\n",
       "\n",
       "div.sk-estimator.fitted:hover .sk-estimator-doc-link.fitted:hover,\n",
       ".sk-estimator-doc-link.fitted:hover,\n",
       "div.sk-label-container:hover .sk-estimator-doc-link.fitted:hover,\n",
       ".sk-estimator-doc-link.fitted:hover {\n",
       "  /* fitted */\n",
       "  background-color: var(--sklearn-color-fitted-level-3);\n",
       "  color: var(--sklearn-color-background);\n",
       "  text-decoration: none;\n",
       "}\n",
       "\n",
       "/* Span, style for the box shown on hovering the info icon */\n",
       ".sk-estimator-doc-link span {\n",
       "  display: none;\n",
       "  z-index: 9999;\n",
       "  position: relative;\n",
       "  font-weight: normal;\n",
       "  right: .2ex;\n",
       "  padding: .5ex;\n",
       "  margin: .5ex;\n",
       "  width: min-content;\n",
       "  min-width: 20ex;\n",
       "  max-width: 50ex;\n",
       "  color: var(--sklearn-color-text);\n",
       "  box-shadow: 2pt 2pt 4pt #999;\n",
       "  /* unfitted */\n",
       "  background: var(--sklearn-color-unfitted-level-0);\n",
       "  border: .5pt solid var(--sklearn-color-unfitted-level-3);\n",
       "}\n",
       "\n",
       ".sk-estimator-doc-link.fitted span {\n",
       "  /* fitted */\n",
       "  background: var(--sklearn-color-fitted-level-0);\n",
       "  border: var(--sklearn-color-fitted-level-3);\n",
       "}\n",
       "\n",
       ".sk-estimator-doc-link:hover span {\n",
       "  display: block;\n",
       "}\n",
       "\n",
       "/* \"?\"-specific style due to the `<a>` HTML tag */\n",
       "\n",
       "#sk-container-id-1 a.estimator_doc_link {\n",
       "  float: right;\n",
       "  font-size: 1rem;\n",
       "  line-height: 1em;\n",
       "  font-family: monospace;\n",
       "  background-color: var(--sklearn-color-background);\n",
       "  border-radius: 1rem;\n",
       "  height: 1rem;\n",
       "  width: 1rem;\n",
       "  text-decoration: none;\n",
       "  /* unfitted */\n",
       "  color: var(--sklearn-color-unfitted-level-1);\n",
       "  border: var(--sklearn-color-unfitted-level-1) 1pt solid;\n",
       "}\n",
       "\n",
       "#sk-container-id-1 a.estimator_doc_link.fitted {\n",
       "  /* fitted */\n",
       "  border: var(--sklearn-color-fitted-level-1) 1pt solid;\n",
       "  color: var(--sklearn-color-fitted-level-1);\n",
       "}\n",
       "\n",
       "/* On hover */\n",
       "#sk-container-id-1 a.estimator_doc_link:hover {\n",
       "  /* unfitted */\n",
       "  background-color: var(--sklearn-color-unfitted-level-3);\n",
       "  color: var(--sklearn-color-background);\n",
       "  text-decoration: none;\n",
       "}\n",
       "\n",
       "#sk-container-id-1 a.estimator_doc_link.fitted:hover {\n",
       "  /* fitted */\n",
       "  background-color: var(--sklearn-color-fitted-level-3);\n",
       "}\n",
       "</style><div id=\"sk-container-id-1\" class=\"sk-top-container\"><div class=\"sk-text-repr-fallback\"><pre>XGBClassifier(base_score=None, booster=None, callbacks=None,\n",
       "              colsample_bylevel=None, colsample_bynode=None,\n",
       "              colsample_bytree=None, device=&#x27;cuda&#x27;, early_stopping_rounds=None,\n",
       "              enable_categorical=False, eval_metric=&#x27;logloss&#x27;,\n",
       "              feature_types=None, feature_weights=None, gamma=None,\n",
       "              grow_policy=None, importance_type=None,\n",
       "              interaction_constraints=None, learning_rate=0.1, max_bin=None,\n",
       "              max_cat_threshold=None, max_cat_to_onehot=None,\n",
       "              max_delta_step=None, max_depth=8, max_leaves=None,\n",
       "              min_child_weight=None, missing=nan, monotone_constraints=None,\n",
       "              multi_strategy=None, n_estimators=200, n_jobs=None,\n",
       "              num_parallel_tree=None, ...)</pre><b>In a Jupyter environment, please rerun this cell to show the HTML representation or trust the notebook. <br />On GitHub, the HTML representation is unable to render, please try loading this page with nbviewer.org.</b></div><div class=\"sk-container\" hidden><div class=\"sk-item\"><div class=\"sk-estimator fitted sk-toggleable\"><input class=\"sk-toggleable__control sk-hidden--visually\" id=\"sk-estimator-id-1\" type=\"checkbox\" checked><label for=\"sk-estimator-id-1\" class=\"sk-toggleable__label fitted sk-toggleable__label-arrow\"><div><div>XGBClassifier</div></div><div><a class=\"sk-estimator-doc-link fitted\" rel=\"noreferrer\" target=\"_blank\" href=\"https://xgboost.readthedocs.io/en/release_3.0.0/python/python_api.html#xgboost.XGBClassifier\">?<span>Documentation for XGBClassifier</span></a><span class=\"sk-estimator-doc-link fitted\">i<span>Fitted</span></span></div></label><div class=\"sk-toggleable__content fitted\"><pre>XGBClassifier(base_score=None, booster=None, callbacks=None,\n",
       "              colsample_bylevel=None, colsample_bynode=None,\n",
       "              colsample_bytree=None, device=&#x27;cuda&#x27;, early_stopping_rounds=None,\n",
       "              enable_categorical=False, eval_metric=&#x27;logloss&#x27;,\n",
       "              feature_types=None, feature_weights=None, gamma=None,\n",
       "              grow_policy=None, importance_type=None,\n",
       "              interaction_constraints=None, learning_rate=0.1, max_bin=None,\n",
       "              max_cat_threshold=None, max_cat_to_onehot=None,\n",
       "              max_delta_step=None, max_depth=8, max_leaves=None,\n",
       "              min_child_weight=None, missing=nan, monotone_constraints=None,\n",
       "              multi_strategy=None, n_estimators=200, n_jobs=None,\n",
       "              num_parallel_tree=None, ...)</pre></div> </div></div></div></div>"
      ],
      "text/plain": [
       "XGBClassifier(base_score=None, booster=None, callbacks=None,\n",
       "              colsample_bylevel=None, colsample_bynode=None,\n",
       "              colsample_bytree=None, device='cuda', early_stopping_rounds=None,\n",
       "              enable_categorical=False, eval_metric='logloss',\n",
       "              feature_types=None, feature_weights=None, gamma=None,\n",
       "              grow_policy=None, importance_type=None,\n",
       "              interaction_constraints=None, learning_rate=0.1, max_bin=None,\n",
       "              max_cat_threshold=None, max_cat_to_onehot=None,\n",
       "              max_delta_step=None, max_depth=8, max_leaves=None,\n",
       "              min_child_weight=None, missing=nan, monotone_constraints=None,\n",
       "              multi_strategy=None, n_estimators=200, n_jobs=None,\n",
       "              num_parallel_tree=None, ...)"
      ]
     },
     "execution_count": 11,
     "metadata": {},
     "output_type": "execute_result"
    }
   ],
   "source": [
    "eval_set = [(X_train, y_train), (X_test, y_test)]\n",
    "model.fit(X_train, y_train, eval_set=eval_set, verbose=True)"
   ]
  },
  {
   "cell_type": "code",
   "execution_count": 12,
   "id": "b9a6b0f0",
   "metadata": {},
   "outputs": [
    {
     "name": "stderr",
     "output_type": "stream",
     "text": [
      "/home/marco/projects/flawfinder/useful-comments-sorter-model/.venv/lib/python3.12/site-packages/xgboost/core.py:2676: UserWarning: [17:42:51] WARNING: /workspace/src/common/error_msg.cc:27: The tree method `gpu_hist` is deprecated since 2.0.0. To use GPU training, set the `device` parameter to CUDA instead.\n",
      "\n",
      "    E.g. tree_method = \"hist\", device = \"cuda\"\n",
      "\n",
      "  if len(data.shape) != 1 and self.num_features() != data.shape[1]:\n",
      "/home/marco/projects/flawfinder/useful-comments-sorter-model/.venv/lib/python3.12/site-packages/xgboost/core.py:729: UserWarning: [17:42:51] WARNING: /workspace/src/common/error_msg.cc:58: Falling back to prediction using DMatrix due to mismatched devices. This might lead to higher memory usage and slower performance. XGBoost is running on: cuda:0, while the input data is on: cpu.\n",
      "Potential solutions:\n",
      "- Use a data structure that matches the device ordinal in the booster.\n",
      "- Set the device for booster before call to inplace_predict.\n",
      "\n",
      "This warning will only be shown once.\n",
      "\n",
      "  return func(**kwargs)\n"
     ]
    }
   ],
   "source": [
    "from sklearn.metrics import f1_score, accuracy_score, roc_auc_score, recall_score\n",
    "\n",
    "y_pred = model.predict(X_test)\n",
    "recall = recall_score(y_test, y_pred)\n",
    "y_proba = model.predict_proba(X_test)[:, 1]  # Probability estimates for the positive class"
   ]
  },
  {
   "cell_type": "code",
   "execution_count": null,
   "id": "cab2c10d",
   "metadata": {},
   "outputs": [
    {
     "data": {
      "text/html": [],
      "text/plain": [
       "<IPython.core.display.HTML object>"
      ]
     },
     "metadata": {},
     "output_type": "display_data"
    },
    {
     "data": {
      "text/html": [
       "<br>    <style><br>        .wandb-row {<br>            display: flex;<br>            flex-direction: row;<br>            flex-wrap: wrap;<br>            justify-content: flex-start;<br>            width: 100%;<br>        }<br>        .wandb-col {<br>            display: flex;<br>            flex-direction: column;<br>            flex-basis: 100%;<br>            flex: 1;<br>            padding: 10px;<br>        }<br>    </style><br><div class=\"wandb-row\"><div class=\"wandb-col\"><h3>Run history:</h3><br/><table class=\"wandb\"><tr><td>acc</td><td>▁</td></tr><tr><td>auc</td><td>▁</td></tr><tr><td>epoch</td><td>▁▁▁▂▂▂▂▂▂▂▃▃▃▃▃▃▄▄▄▄▅▅▅▅▅▅▅▆▆▆▆▆▆▆▇▇████</td></tr><tr><td>f1</td><td>▁</td></tr><tr><td>recall</td><td>▁</td></tr><tr><td>validation_0-logloss</td><td>█▅▄▄▄▄▃▃▃▃▃▃▃▃▃▃▃▂▂▂▂▂▂▂▂▂▂▁▁▁▁▁▁▁▁▁▁▁▁▁</td></tr><tr><td>validation_1-logloss</td><td>█▅▅▃▃▂▂▂▂▂▁▁▁▁▁▁▁▁▁▁▁▁▁▁▁▁▁▁▁▁▁▁▁▁▁▁▁▁▁▁</td></tr></table><br/></div><div class=\"wandb-col\"><h3>Run summary:</h3><br/><table class=\"wandb\"><tr><td>acc</td><td>0.85836</td></tr><tr><td>auc</td><td>0.93572</td></tr><tr><td>epoch</td><td>199</td></tr><tr><td>f1</td><td>0.8713</td></tr><tr><td>recall</td><td>0.88328</td></tr></table><br/></div></div>"
      ],
      "text/plain": [
       "<IPython.core.display.HTML object>"
      ]
     },
     "metadata": {},
     "output_type": "display_data"
    },
    {
     "data": {
      "text/html": [
       " View run <strong style=\"color:#cdcd00\">xgb_1_cross_export</strong> at: <a href='https://wandb.ai/michelmortier1213-hes-so-gen-ve/useful_comments_sorter/runs/c0xh0xxw' target=\"_blank\">https://wandb.ai/michelmortier1213-hes-so-gen-ve/useful_comments_sorter/runs/c0xh0xxw</a><br> View project at: <a href='https://wandb.ai/michelmortier1213-hes-so-gen-ve/useful_comments_sorter' target=\"_blank\">https://wandb.ai/michelmortier1213-hes-so-gen-ve/useful_comments_sorter</a><br>Synced 5 W&B file(s), 2 media file(s), 6 artifact file(s) and 0 other file(s)"
      ],
      "text/plain": [
       "<IPython.core.display.HTML object>"
      ]
     },
     "metadata": {},
     "output_type": "display_data"
    },
    {
     "data": {
      "text/html": [
       "Find logs at: <code>./wandb/run-20250529_145345-c0xh0xxw/logs</code>"
      ],
      "text/plain": [
       "<IPython.core.display.HTML object>"
      ]
     },
     "metadata": {},
     "output_type": "display_data"
    }
   ],
   "source": [
    "# wandb.log({\n",
    "#     \"confusion_matrix\": wandb.plot.confusion_matrix(\n",
    "#         preds=y_pred.tolist(),\n",
    "#         y_true=y_test.tolist(),\n",
    "#         class_names=[\"negative\", \"positive\"]  # Adjust if class labels differ\n",
    "#     ),\n",
    "#     \"f1\": f1_score(y_test, y_pred),\n",
    "#     \"acc\": accuracy_score(y_test, y_pred),\n",
    "#     \"auc\": roc_auc_score(y_test, y_proba),\n",
    "#     \"recall\": recall\n",
    "# })\n",
    "\n",
    "# run.finish()\n"
   ]
  },
  {
   "cell_type": "code",
   "execution_count": null,
   "id": "a784cfa7",
   "metadata": {},
   "outputs": [
    {
     "data": {
      "text/plain": [
       "['models/useful-comments-sorter_model_.joblib']"
      ]
     },
     "execution_count": 13,
     "metadata": {},
     "output_type": "execute_result"
    }
   ],
   "source": [
    "import joblib\n",
    "\n",
    "joblib.dump(model, \"models/useful-comments-sorter_model_xgb1.joblib\")"
   ]
  }
 ],
 "metadata": {
  "kernelspec": {
   "display_name": ".venv",
   "language": "python",
   "name": "python3"
  },
  "language_info": {
   "codemirror_mode": {
    "name": "ipython",
    "version": 3
   },
   "file_extension": ".py",
   "mimetype": "text/x-python",
   "name": "python",
   "nbconvert_exporter": "python",
   "pygments_lexer": "ipython3",
   "version": "3.12.3"
  }
 },
 "nbformat": 4,
 "nbformat_minor": 5
}
